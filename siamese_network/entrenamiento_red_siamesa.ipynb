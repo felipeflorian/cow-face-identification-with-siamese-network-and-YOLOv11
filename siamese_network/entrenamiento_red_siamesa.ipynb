{
  "cells": [
    {
      "cell_type": "code",
      "execution_count": 4,
      "metadata": {
        "colab": {
          "base_uri": "https://localhost:8080/"
        },
        "id": "OKbx0JybgATq",
        "outputId": "86b3def4-6578-47b8-9611-63b16f159c7f"
      },
      "outputs": [],
      "source": [
        "import os\n",
        "import pandas as pd\n",
        "from sklearn.model_selection import train_test_split\n",
        "import matplotlib.pyplot as plt\n",
        "import random\n",
        "import cv2"
      ]
    },
    {
      "cell_type": "code",
      "execution_count": null,
      "metadata": {
        "id": "WNzTyK8Agqwr"
      },
      "outputs": [],
      "source": [
        "def mostrar(categories, data_dir, num_imgs_por_clase):\n",
        "    fig, axes = plt.subplots(len(categories), num_imgs_por_clase, figsize=(12, 3 * len(categories)))\n",
        "\n",
        "    for i, category in enumerate(categories):\n",
        "        folder = os.path.join(data_dir, category)\n",
        "        files = os.listdir(folder)\n",
        "        muestras = random.sample(files, num_imgs_por_clase) if len(files) >= num_imgs_por_clase else files\n",
        "\n",
        "        for j in range(len(muestras)):\n",
        "            img_path = os.path.join(folder, muestras[j])\n",
        "            img = cv2.imread(img_path)\n",
        "\n",
        "            ax = axes[i, j] if len(categories) > 1 else axes[j]\n",
        "            ax.imshow(img, cmap=\"gray\", vmin=0, vmax=255)\n",
        "            ax.axis('off')\n",
        "\n",
        "            if j == 1:\n",
        "                ax.set_title(category, fontsize=10)\n",
        "\n",
        "    plt.tight_layout()\n",
        "    plt.show()\n",
        "data_dir = r\"C:\\Users\\user\\OneDrive\\Escritorio\\Vacas\\Caras\"\n",
        "categorias = os.listdir(data_dir)\n",
        "mostrar(categorias, data_dir, 3)"
      ]
    },
    {
      "cell_type": "markdown",
      "metadata": {
        "id": "pd2dHwxZcORC"
      },
      "source": [
        "# Pytorch Dataset"
      ]
    },
    {
      "cell_type": "code",
      "execution_count": 5,
      "metadata": {
        "id": "o_H97RcycMUM"
      },
      "outputs": [],
      "source": [
        "import os\n",
        "import torch\n",
        "import torchvision\n",
        "from torchvision.datasets import ImageFolder\n",
        "from torch.utils.data import DataLoader\n",
        "import matplotlib.pyplot as plt\n",
        "import numpy as np\n",
        "import pandas as pd\n",
        "from PIL import Image\n",
        "import json\n",
        "from torchvision.transforms import transforms\n",
        "import random\n",
        "from torch.utils.data import Dataset\n",
        "\n",
        "import os\n",
        "import pandas as pd\n",
        "\n",
        "def get_df(path, minimo_numero_imagenes):\n",
        "    filepaths = [os.path.join(dp, f) for dp, dn, filenames in os.walk(path)\n",
        "                 for f in filenames if os.path.splitext(f)[1].lower() in ['.png', '.jpg', '.jpeg']]\n",
        "    \n",
        "    labels = [os.path.basename(os.path.dirname(path)) for path in filepaths]\n",
        "    df_all = pd.DataFrame({'filepath': filepaths, 'label': labels})\n",
        "\n",
        "    # Separar clases con suficientes imágenes y las que no\n",
        "    grouped = df_all.groupby(\"label\")\n",
        "    df = grouped.filter(lambda grp: len(grp) > minimo_numero_imagenes).reset_index(drop=True)\n",
        "    # se crea esta base para hacer testing en open set osea ver si los clasifica como desconocidos\n",
        "    unkonwn_df = grouped.filter(lambda grp: len(grp) <= minimo_numero_imagenes).reset_index(drop=True)\n",
        "\n",
        "    # Galería: una imagen por clase\n",
        "    gallery_df = (\n",
        "        df.groupby('label', group_keys=False)\n",
        "          .apply(lambda x: x.sample(1, random_state=42))\n",
        "          .reset_index(drop=True)\n",
        "    )\n",
        "\n",
        "    return df, gallery_df, unkonwn_df\n",
        "\n",
        "\n",
        "def split_df(df, test_val_size, test_size):\n",
        "  train_df, test_val_df = train_test_split(df, test_size=test_val_size, random_state=13)\n",
        "  test_df, val_df = train_test_split(test_val_df, test_size= test_size, random_state=13)\n",
        "  print(\"Total de imágenes:\", len(df))\n",
        "  print(\"Entrenamiento:\", len(train_df))\n",
        "  print(\"Validación:\", len(val_df))\n",
        "  print(\"Test:\", len(test_df))\n",
        "  print(\"Labels: \", df[\"label\"].unique(),\"\\nNumero de clases unicas: \", len(df[\"label\"].unique()))\n",
        "  return train_df, val_df, test_df\n",
        "\n",
        "class CowsTripletsDataset(Dataset):\n",
        "    '''clase para generar un dataset de tripletas ancla, positiva y negativa'''\n",
        "    def __init__(self, df=None,path=None, transform=None):\n",
        "        self.transform = transform\n",
        "        # path original\n",
        "        self.path = path\n",
        "        self.df = df\n",
        "        self.images = self.df['filepath'].values\n",
        "        self.labels = self.df['label'].values\n",
        "        self.index = np.arange(len(self.images))\n",
        "\n",
        "    def __len__(self):\n",
        "      return len(self.images)\n",
        "\n",
        "    def __getitem__(self, item):\n",
        "        ###### Anchor Image #######\n",
        "        anchor_image_path = self.images[item]\n",
        "        anchor_img = Image.open(anchor_image_path)\n",
        "            #### Anchor label #####\n",
        "        anchor_label = self.labels[item]\n",
        "        #### Positive Image ####\n",
        "        ##### Lista de imagenes de la misma clase para obtener el ancla\n",
        "        positive_list = self.index[self.index!=item][self.labels[self.index!=item]==anchor_label]\n",
        "        ##### Se elige una imagen al azar de la misma clase\n",
        "        positive_item = random.choice(positive_list)\n",
        "        positive_image_path = self.images[positive_item]\n",
        "        positive_img = Image.open(positive_image_path)\n",
        "        ######## Negative Image #####\n",
        "        negative_list = self.index[self.index!=item][self.labels[self.index!=item]!=anchor_label]\n",
        "        negative_item = random.choice(negative_list)\n",
        "        negative_image_path = self.images[negative_item]\n",
        "        negative_img = Image.open(negative_image_path)\n",
        "        if self.transform!=None:\n",
        "            anchor_img = self.transform(anchor_img)\n",
        "            positive_img = self.transform(positive_img)\n",
        "            negative_img = self.transform(negative_img)\n",
        "        return anchor_img, positive_img, negative_img, anchor_label\n",
        "    \n",
        "class CowSingle(Dataset):\n",
        "    \"\"\"Devuelve imagen, label  sin trípletas para  test.\"\"\"\n",
        "    def __init__(self, df, transform=None):\n",
        "        self.imgs = df['filepath'].values\n",
        "        self.labs = df['label'].values\n",
        "        self.tf   = transform\n",
        "\n",
        "    def __len__(self): return len(self.imgs)\n",
        "\n",
        "    def __getitem__(self, i):\n",
        "        img = Image.open(self.imgs[i])\n",
        "        if self.tf: img = self.tf(img)\n",
        "        return img, self.labs[i]\n",
        "\n",
        "\n",
        "def get_face_datasets(train_df, val_df, test_df, gallery_df,unkonwn_df, train_transforms, eval_transforms):\n",
        "  train_dataset = CowsTripletsDataset(df=train_df, transform=train_transforms)\n",
        "  val_dataset = CowsTripletsDataset(df=val_df, transform=eval_transforms)\n",
        "  test_dataset = CowSingle(df=test_df, transform=eval_transforms)\n",
        "  gallery_dataset = CowSingle(df=gallery_df, transform=eval_transforms)\n",
        "  unknown_dataset = CowSingle(df=unkonwn_df, transform=eval_transforms)\n",
        "  return train_dataset, val_dataset, test_dataset, gallery_dataset, unknown_dataset\n",
        "\n",
        "def get_face_dataloaders(train_dataset, val_dataset, test_dataset,gallery_dataset,unknown_dataset ,batch_size):\n",
        "  train_dataloader = DataLoader(train_dataset, batch_size=batch_size, shuffle=True)\n",
        "  val_dataloader = DataLoader(val_dataset, batch_size=batch_size, shuffle=False)\n",
        "  test_dataloader = DataLoader(test_dataset, batch_size=batch_size, shuffle=False)\n",
        "  gallery_dataloader = DataLoader(gallery_dataset, batch_size=batch_size, shuffle=False)\n",
        "  unknown_dataloader = DataLoader(unknown_dataset, batch_size=batch_size, shuffle=False)\n",
        "  return train_dataloader, val_dataloader, test_dataloader, gallery_dataloader, unknown_dataloader\n",
        "\n",
        "\n"
      ]
    },
    {
      "cell_type": "code",
      "execution_count": 6,
      "metadata": {
        "colab": {
          "base_uri": "https://localhost:8080/"
        },
        "id": "YR9bVn6BE-3M",
        "outputId": "9448173a-5aa1-40af-a78d-69cf29af4149"
      },
      "outputs": [
        {
          "name": "stdout",
          "output_type": "stream",
          "text": [
            "Total de imágenes: 2348\n",
            "Entrenamiento: 1643\n",
            "Validación: 353\n",
            "Test: 352\n",
            "Labels:  ['02 rojo' '06 rojo' '10 rojo' '14 rojo' '16 rojo' '21 rojo' '23 rojo'\n",
            " '43 rojo' '45 amarillo' '49 rojo' '5 rojo' '53 amarillo' '54 amarillo'\n",
            " '58 amarillo' '60 amarillo' '61 amarillo' '62 amarillo' '622 naranja'\n",
            " '635' '635 naranja' '637 naranja' '638 naranja' '65 amarillo'\n",
            " '651 naranja' '68 amarillo' '82 amarillo' '87' '879 amarillo'\n",
            " '888 amarillo' 'Blanca sin orejera' 'n2005'\n",
            " 'Negra sin orejera un solo cacho' 's114' 's1547' 's1556' 's1557' 's1607'\n",
            " 's1641' 's1706' 's1774' 's1778' 's1797' 's1804' 's1805' 's1843' 's1853'\n",
            " 's1854' 's1868' 's1870' 's1896' 's1903' 's1906' 's1914' 's1935' 's2011'\n",
            " 's377' 's5562' 's7704' 's8803' 's8804' 's8813' 's8819' 's8832' 's8835'\n",
            " 's8843' 'sn1125' 'sn13' 'sn1761' 'sn19' 'sn20' 'sn22' 'sn23'\n",
            " 'Vaca sin orejera con oreja cortada' 'Vaca sin orejera ganado de leche'] \n",
            "Numero de clases unicas:  74\n"
          ]
        },
        {
          "name": "stderr",
          "output_type": "stream",
          "text": [
            "C:\\Users\\user\\AppData\\Local\\Temp\\ipykernel_11852\\3577876952.py:34: DeprecationWarning: DataFrameGroupBy.apply operated on the grouping columns. This behavior is deprecated, and in a future version of pandas the grouping columns will be excluded from the operation. Either pass `include_groups=False` to exclude the groupings or explicitly select the grouping columns after groupby to silence this warning.\n",
            "  .apply(lambda x: x.sample(1, random_state=42))\n"
          ]
        }
      ],
      "source": [
        "# Se carga el dataset\n",
        "df, gallery_df, unkonwn_df = get_df(r\"C:\\Users\\user\\OneDrive\\Escritorio\\Vacas\\Caras\", 9)\n",
        "\n",
        "train_df, val_df, test_df = split_df(df, 0.3, 0.5)\n",
        "gallery_df.to_csv(\"gallery.csv\", index=False)\n",
        "unkonwn_df.to_csv(\"unknown.csv\", index=False)\n",
        "train_df.to_csv(\"train.csv\",   index=False)\n",
        "val_df.  to_csv(\"val.csv\",     index=False)\n",
        "test_df. to_csv(\"test.csv\",    index=False)"
      ]
    },
    {
      "cell_type": "code",
      "execution_count": 7,
      "metadata": {
        "id": "N9E6Yv6MbS1S"
      },
      "outputs": [],
      "source": [
        "from torchvision import transforms\n",
        "\n",
        "IMAGENET_MEAN = (0.485, 0.456, 0.406)\n",
        "IMAGENET_STD  = (0.229, 0.224, 0.225)\n",
        "\n",
        "# ───────────────────────────────────\n",
        "# a) versión de entrenamiento (data-aug)\n",
        "# ───────────────────────────────────\n",
        "train_tfms = {\n",
        "    \"resnet\": transforms.Compose([\n",
        "        transforms.RandomResizedCrop(224, scale=(0.8, 1.0)),\n",
        "        transforms.RandomHorizontalFlip(),\n",
        "        transforms.ColorJitter(0.2, 0.2, 0.2, 0.1),\n",
        "        transforms.ToTensor(),\n",
        "        transforms.Normalize(IMAGENET_MEAN, IMAGENET_STD),\n",
        "    ]),\n",
        "    \"inception\": transforms.Compose([\n",
        "        transforms.RandomResizedCrop(299, scale=(0.8, 1.0)),\n",
        "        transforms.RandomHorizontalFlip(),\n",
        "        transforms.ColorJitter(0.2, 0.2, 0.2, 0.1),\n",
        "        transforms.ToTensor(),\n",
        "        transforms.Normalize(IMAGENET_MEAN, IMAGENET_STD),\n",
        "    ])\n",
        ",\n",
        "    \"vit\": transforms.Compose([\n",
        "        transforms.RandomResizedCrop(224, scale=(0.8, 1.0)),\n",
        "        transforms.RandomHorizontalFlip(),\n",
        "        transforms.ColorJitter(0.2, 0.2, 0.2, 0.1),\n",
        "        transforms.ToTensor(),\n",
        "        transforms.Normalize(IMAGENET_MEAN, IMAGENET_STD),\n",
        "    ]),\n",
        "}\n",
        "\n",
        "# ───────────────────────────────────\n",
        "# b) versión de validación / test\n",
        "# ───────────────────────────────────\n",
        "eval_tfms = {\n",
        "    \"resnet\": transforms.Compose([\n",
        "        transforms.Resize(256),\n",
        "        transforms.CenterCrop(224),\n",
        "        transforms.ToTensor(),\n",
        "        transforms.Normalize(IMAGENET_MEAN, IMAGENET_STD),\n",
        "    ]),\n",
        "    \"inception\": transforms.Compose([\n",
        "        transforms.Resize((299, 299)),\n",
        "        transforms.ToTensor(),\n",
        "        transforms.Normalize(IMAGENET_MEAN, IMAGENET_STD),\n",
        "    ])\n",
        "    ,\n",
        "    \"vit\": transforms.Compose([\n",
        "        transforms.Resize(256),\n",
        "        transforms.CenterCrop(224),\n",
        "        transforms.ToTensor(),\n",
        "        transforms.Normalize(IMAGENET_MEAN, IMAGENET_STD),\n",
        "    ]),\n",
        "}\n"
      ]
    },
    {
      "cell_type": "markdown",
      "metadata": {
        "id": "KJZIsRmVGJri"
      },
      "source": [
        "# TripletLoss"
      ]
    },
    {
      "cell_type": "code",
      "execution_count": 8,
      "metadata": {
        "id": "9VnEh-e3GAfF"
      },
      "outputs": [],
      "source": [
        "class TripletLoss(torch.nn.Module):\n",
        "    def __init__(self, margin=1.0):\n",
        "        super(TripletLoss, self).__init__()\n",
        "        # margin es una constante que le agrega peso al loss\n",
        "        self.margin = margin\n",
        "    def calc_euclidean(self, x1, x2):\n",
        "        # distancia euclidiana\n",
        "        return (x1 - x2).pow(2).sum(1)\n",
        "    def forward(self, anchor: torch.Tensor, positive: torch.Tensor, negative: torch.Tensor) -> torch.Tensor:\n",
        "        # distancia entre el ancla y la postiva\n",
        "        distance_positive = self.calc_euclidean(anchor, positive)\n",
        "        # distnacia entre el ancla y la negativa\n",
        "        distance_negative = self.calc_euclidean(anchor, negative)\n",
        "        # se aplica la formula de triplet loss distancia positva - distancia negativa + margen\n",
        "        losses = torch.relu(distance_positive - distance_negative + self.margin)\n",
        "        return losses.mean()"
      ]
    },
    {
      "cell_type": "markdown",
      "metadata": {
        "id": "BvhBSamgGUTc"
      },
      "source": [
        "# Feature Extractors"
      ]
    },
    {
      "cell_type": "code",
      "execution_count": 9,
      "metadata": {
        "id": "5vIqFuc7QBkd"
      },
      "outputs": [],
      "source": [
        "import torch.nn as nn\n",
        "import torch.nn.functional as F\n",
        "from torchvision import models\n",
        "\n",
        "\n",
        "\n",
        "# ────────────────────────────\n",
        "# 1.  ResNet extractor\n",
        "# ────────────────────────────\n",
        "class ResNetExtractor(nn.Module):\n",
        "    def __init__(self, k_freeze=3, pretrained=True, arch='resnet18'):\n",
        "        \"\"\"\n",
        "        k_freeze = nº de *bloques* iniciales a congelar (0 = nada).\n",
        "        En ResNet el orden es: stem, layer1, layer2, layer3, layer4.\n",
        "        \"\"\"\n",
        "        super().__init__()\n",
        "        if arch == 'resnet18':\n",
        "            net = models.resnet18(weights=\"IMAGENET1K_V1\" if pretrained else None)\n",
        "        elif arch == 'resnet34':\n",
        "            net = models.resnet34(weights=\"IMAGENET1K_V1\" if pretrained else None)\n",
        "        elif arch == 'resnet50':\n",
        "            net = models.resnet50(weights=\"IMAGENET1K_V1\" if pretrained else None)\n",
        "        elif arch == 'resnet101':\n",
        "            net = models.resnet101(weights=\"IMAGENET1K_V1\" if pretrained else None)\n",
        "        elif arch == 'resnet152':\n",
        "            net = models.resnet152(weights=\"IMAGENET1K_V1\" if pretrained else None)\n",
        "        self.body = nn.Sequential(*list(net.children())[:-1])   # sin FC\n",
        "        self.out_dim = net.fc.in_features\n",
        "\n",
        "        # congela primeros k bloques\n",
        "        for blk in list(self.body.children())[:k_freeze]:\n",
        "            blk.requires_grad_(False)\n",
        "\n",
        "    def forward(self, x):\n",
        "        feat = self.body(x).flatten(1)    # [B, out_dim]\n",
        "        return F.normalize(feat, p=2, dim=1)        # [B, out_dim]\n",
        "\n",
        "\n",
        "# ────────────────────────────\n",
        "# 3.  Inception extractor\n",
        "# ────────────────────────────\n",
        "import torch\n",
        "import torch.nn as nn\n",
        "import torch.nn.functional as F\n",
        "from torchvision import models\n",
        "\n",
        "class InceptionExtractor(nn.Module):\n",
        "    \"\"\"\n",
        "    Extrae embeddings de un modelo Inception v3 y los normaliza L2.\n",
        "\n",
        "    Args:\n",
        "        k_freeze (int): número de capas iniciales a congelar (0 = ninguna).\n",
        "        pretrained (bool): si True, carga pesos preentrenados ImageNet.\n",
        "    \"\"\"\n",
        "    def __init__(self, k_freeze: int = 2, pretrained: bool = True):\n",
        "        super().__init__()\n",
        "        # Cargar Inception v3 con aux_logits habilitado si se desea\n",
        "        self.net = models.inception_v3(\n",
        "            weights=models.Inception_V3_Weights.IMAGENET1K_V1 if pretrained else None,\n",
        "            aux_logits=True\n",
        "        )\n",
        "        # Reemplazar la capa final fc por identidad para obtener features\n",
        "        self.net.fc = nn.Identity()\n",
        "        self.out_dim = 2048\n",
        "\n",
        "        # Congelar capas iniciales según k_freeze\n",
        "        children = list(self.net.children())\n",
        "        for layer in children[:k_freeze]:\n",
        "            for param in layer.parameters():\n",
        "                param.requires_grad = False\n",
        "\n",
        "    def forward(self, x: torch.Tensor) -> torch.Tensor:\n",
        "        \"\"\"\n",
        "        Args:\n",
        "            x: tensor de imágenes [B, C, H, W]\n",
        "        Returns:\n",
        "            embeddings L2-normalizados de tamaño [B, out_dim]\n",
        "        \"\"\"\n",
        "        out = self.net(x)\n",
        "        # Inception v3 puede retornar named tuple con .logits cuando aux_logits=True\n",
        "        if hasattr(out, 'logits'):\n",
        "            feat = out.logits\n",
        "        elif isinstance(out, tuple):\n",
        "            # Salida (logits, aux_logits)\n",
        "            feat = out[0]\n",
        "        else:\n",
        "            feat = out\n",
        "        # Normalizar L2\n",
        "        feat = F.normalize(feat.view(feat.size(0), -1), p=2, dim=1)\n",
        "        return feat\n",
        "\n",
        "\n",
        "\n",
        "\n",
        "# ────────────────────────────\n",
        "# 4.  ViT extractor\n",
        "# ────────────────────────────\n",
        "class ViTExtractor(nn.Module):\n",
        "    def __init__(self, name=\"vit_small_patch16_224\", k_freeze=4, pretrained=True):\n",
        "        \"\"\"\n",
        "        k_freeze = nº de bloques Transformer a congelar\n",
        "                   (ViT-Small tiene 12 bloques).\n",
        "        \"\"\"\n",
        "        super().__init__()\n",
        "        self.body = timm.create_model(\n",
        "            name, pretrained=pretrained, num_classes=0, global_pool=\"avg\"\n",
        "        )\n",
        "        self.out_dim = self.body.num_features\n",
        "\n",
        "        for blk in self.body.blocks[:k_freeze]:\n",
        "            blk.requires_grad_(False)\n",
        "\n",
        "    def forward(self, x):\n",
        "        return self.body(x)                     # ya es [B, out_dim]\n",
        "\n",
        "\n"
      ]
    },
    {
      "cell_type": "markdown",
      "metadata": {
        "id": "IUQtFie9buzC"
      },
      "source": [
        "# Embedding head"
      ]
    },
    {
      "cell_type": "code",
      "execution_count": 10,
      "metadata": {
        "id": "HhmG4jlHbzef"
      },
      "outputs": [],
      "source": [
        "class EmbeddingHead(nn.Module):\n",
        "    \"\"\"\n",
        "    Recibe un extractor (cualquiera de arriba) y lo usa internamente.\n",
        "    Llama:  emb = embedder(img)   ← sin escribir extractor(img) aparte.\n",
        "    \"\"\"\n",
        "    def __init__(self, extractor: nn.Module, emb_dim: int = 128):\n",
        "        super().__init__()\n",
        "        self.extractor = extractor\n",
        "        self.proj = nn.Linear(extractor.out_dim, emb_dim)\n",
        "\n",
        "    def forward(self, x):\n",
        "        feats = self.extractor(x)\n",
        "        emb = self.proj(feats)\n",
        "        return F.normalize(emb, p=2, dim=1)\n"
      ]
    },
    {
      "cell_type": "markdown",
      "metadata": {},
      "source": [
        "# Funcion de entrenamiento"
      ]
    },
    {
      "cell_type": "code",
      "execution_count": 11,
      "metadata": {},
      "outputs": [],
      "source": [
        "from tqdm import tqdm\n",
        "def train_val(embedder, EPOCHS, train_dataloader, val_dataloader, device, optimizer, criterion, scheduler ):\n",
        "    train_losses = []\n",
        "    val_losses   = []\n",
        "    for epoch in tqdm(range(EPOCHS), desc='Epochs'):\n",
        "        # ——— Entrenamiento ———\n",
        "        embedder.train()\n",
        "        running_loss = []\n",
        "        for anchor_img, positive_img, negative_img, _ in tqdm(train_dataloader, desc='Training', leave=False):\n",
        "            anchor_img, positive_img, negative_img = (t.to(device) for t in (anchor_img, positive_img, negative_img))\n",
        "\n",
        "            optimizer.zero_grad()\n",
        "            ea = embedder(anchor_img)\n",
        "            ep = embedder(positive_img)\n",
        "            en = embedder(negative_img)\n",
        "\n",
        "            loss = criterion(ea, ep, en)\n",
        "            loss.backward()\n",
        "            optimizer.step()\n",
        "\n",
        "            running_loss.append(loss.item())\n",
        "\n",
        "        mean_train = np.mean(running_loss)\n",
        "        train_losses.append(mean_train)\n",
        "\n",
        "        # ——— Validación ———\n",
        "        val_running = []\n",
        "        embedder.eval()\n",
        "        with torch.no_grad():\n",
        "            for anchor_img, positive_img, negative_img, _ in val_dataloader:\n",
        "                anchor_img, positive_img, negative_img = (t.to(device) for t in (anchor_img, positive_img, negative_img))\n",
        "                ea = embedder(anchor_img)\n",
        "                ep = embedder(positive_img)\n",
        "                en = embedder(negative_img)\n",
        "                val_running.append(criterion(ea, ep, en).item())\n",
        "        \n",
        "\n",
        "        mean_val = np.mean(val_running)\n",
        "        val_losses.append(mean_val)\n",
        "\n",
        "        scheduler.step(mean_val)\n",
        "\n",
        "        current_lr = optimizer.param_groups[0]['lr']\n",
        "        print(f\"Epoch {epoch+1}: LR={current_lr:.2e} — Train Loss={mean_train:.4f} — Val Loss={mean_val:.4f}\")\n",
        "\n",
        "\n",
        "    # ——— Al final, dibuja las curvas ———\n",
        "    epochs = list(range(1, EPOCHS+1))\n",
        "    plt.figure(figsize=(5,5))\n",
        "    plt.plot(epochs, train_losses, label='Train')\n",
        "    plt.plot(epochs, val_losses,   label='Val')\n",
        "    plt.xlabel(\"Epochs\")\n",
        "    plt.ylabel(\"Loss\")\n",
        "    plt.legend()\n",
        "    plt.show()"
      ]
    },
    {
      "cell_type": "markdown",
      "metadata": {
        "id": "CRvp7Np6cuEN"
      },
      "source": [
        "# Entrenamiento Resnet18"
      ]
    },
    {
      "cell_type": "code",
      "execution_count": 12,
      "metadata": {
        "colab": {
          "base_uri": "https://localhost:8080/"
        },
        "id": "nJn-SF0obAei",
        "outputId": "0e33aca9-7399-4753-926b-bbe1bc9afee4"
      },
      "outputs": [
        {
          "name": "stderr",
          "output_type": "stream",
          "text": [
            "Epochs:   1%|          | 1/100 [00:24<39:36, 24.00s/it]"
          ]
        },
        {
          "name": "stdout",
          "output_type": "stream",
          "text": [
            "Epoch 1: LR=1.00e-04 — Train Loss=0.2595 — Val Loss=0.1603\n"
          ]
        },
        {
          "name": "stderr",
          "output_type": "stream",
          "text": [
            "Epochs:   2%|▏         | 2/100 [00:47<38:47, 23.75s/it]"
          ]
        },
        {
          "name": "stdout",
          "output_type": "stream",
          "text": [
            "Epoch 2: LR=1.00e-04 — Train Loss=0.0851 — Val Loss=0.1187\n"
          ]
        },
        {
          "name": "stderr",
          "output_type": "stream",
          "text": [
            "Epochs:   3%|▎         | 3/100 [01:10<38:08, 23.59s/it]"
          ]
        },
        {
          "name": "stdout",
          "output_type": "stream",
          "text": [
            "Epoch 3: LR=1.00e-04 — Train Loss=0.0558 — Val Loss=0.0941\n"
          ]
        },
        {
          "name": "stderr",
          "output_type": "stream",
          "text": [
            "Epochs:   4%|▍         | 4/100 [01:34<37:45, 23.60s/it]"
          ]
        },
        {
          "name": "stdout",
          "output_type": "stream",
          "text": [
            "Epoch 4: LR=1.00e-04 — Train Loss=0.0547 — Val Loss=0.0798\n"
          ]
        },
        {
          "name": "stderr",
          "output_type": "stream",
          "text": [
            "Epochs:   5%|▌         | 5/100 [01:57<37:12, 23.50s/it]"
          ]
        },
        {
          "name": "stdout",
          "output_type": "stream",
          "text": [
            "Epoch 5: LR=1.00e-04 — Train Loss=0.0400 — Val Loss=0.0692\n"
          ]
        },
        {
          "name": "stderr",
          "output_type": "stream",
          "text": [
            "Epochs:   6%|▌         | 6/100 [02:21<36:48, 23.49s/it]"
          ]
        },
        {
          "name": "stdout",
          "output_type": "stream",
          "text": [
            "Epoch 6: LR=1.00e-04 — Train Loss=0.0344 — Val Loss=0.0611\n"
          ]
        },
        {
          "name": "stderr",
          "output_type": "stream",
          "text": [
            "Epochs:   7%|▋         | 7/100 [02:44<36:17, 23.42s/it]"
          ]
        },
        {
          "name": "stdout",
          "output_type": "stream",
          "text": [
            "Epoch 7: LR=1.00e-04 — Train Loss=0.0264 — Val Loss=0.0660\n"
          ]
        },
        {
          "name": "stderr",
          "output_type": "stream",
          "text": [
            "Epochs:   8%|▊         | 8/100 [03:08<35:53, 23.41s/it]"
          ]
        },
        {
          "name": "stdout",
          "output_type": "stream",
          "text": [
            "Epoch 8: LR=1.00e-04 — Train Loss=0.0224 — Val Loss=0.0538\n"
          ]
        },
        {
          "name": "stderr",
          "output_type": "stream",
          "text": [
            "Epochs:   9%|▉         | 9/100 [03:31<35:27, 23.38s/it]"
          ]
        },
        {
          "name": "stdout",
          "output_type": "stream",
          "text": [
            "Epoch 9: LR=1.00e-04 — Train Loss=0.0235 — Val Loss=0.0567\n"
          ]
        },
        {
          "name": "stderr",
          "output_type": "stream",
          "text": [
            "Epochs:  10%|█         | 10/100 [03:54<35:09, 23.44s/it]"
          ]
        },
        {
          "name": "stdout",
          "output_type": "stream",
          "text": [
            "Epoch 10: LR=1.00e-04 — Train Loss=0.0212 — Val Loss=0.0439\n"
          ]
        },
        {
          "name": "stderr",
          "output_type": "stream",
          "text": [
            "Epochs:  11%|█         | 11/100 [04:18<34:44, 23.42s/it]"
          ]
        },
        {
          "name": "stdout",
          "output_type": "stream",
          "text": [
            "Epoch 11: LR=1.00e-04 — Train Loss=0.0199 — Val Loss=0.0536\n"
          ]
        },
        {
          "name": "stderr",
          "output_type": "stream",
          "text": [
            "Epochs:  12%|█▏        | 12/100 [04:41<34:18, 23.39s/it]"
          ]
        },
        {
          "name": "stdout",
          "output_type": "stream",
          "text": [
            "Epoch 12: LR=1.00e-04 — Train Loss=0.0168 — Val Loss=0.0541\n"
          ]
        },
        {
          "name": "stderr",
          "output_type": "stream",
          "text": [
            "Epochs:  13%|█▎        | 13/100 [05:05<33:54, 23.39s/it]"
          ]
        },
        {
          "name": "stdout",
          "output_type": "stream",
          "text": [
            "Epoch 13: LR=1.00e-04 — Train Loss=0.0133 — Val Loss=0.0834\n"
          ]
        },
        {
          "name": "stderr",
          "output_type": "stream",
          "text": [
            "Epochs:  14%|█▍        | 14/100 [05:28<33:28, 23.36s/it]"
          ]
        },
        {
          "name": "stdout",
          "output_type": "stream",
          "text": [
            "Epoch 14: LR=1.00e-04 — Train Loss=0.0162 — Val Loss=0.0434\n"
          ]
        },
        {
          "name": "stderr",
          "output_type": "stream",
          "text": [
            "Epochs:  15%|█▌        | 15/100 [05:51<33:06, 23.37s/it]"
          ]
        },
        {
          "name": "stdout",
          "output_type": "stream",
          "text": [
            "Epoch 15: LR=1.00e-04 — Train Loss=0.0165 — Val Loss=0.0399\n"
          ]
        },
        {
          "name": "stderr",
          "output_type": "stream",
          "text": [
            "Epochs:  16%|█▌        | 16/100 [06:15<33:01, 23.59s/it]"
          ]
        },
        {
          "name": "stdout",
          "output_type": "stream",
          "text": [
            "Epoch 16: LR=1.00e-04 — Train Loss=0.0126 — Val Loss=0.0400\n"
          ]
        },
        {
          "name": "stderr",
          "output_type": "stream",
          "text": [
            "Epochs:  17%|█▋        | 17/100 [06:39<32:46, 23.69s/it]"
          ]
        },
        {
          "name": "stdout",
          "output_type": "stream",
          "text": [
            "Epoch 17: LR=1.00e-04 — Train Loss=0.0125 — Val Loss=0.0480\n"
          ]
        },
        {
          "name": "stderr",
          "output_type": "stream",
          "text": [
            "Epochs:  18%|█▊        | 18/100 [07:04<32:40, 23.91s/it]"
          ]
        },
        {
          "name": "stdout",
          "output_type": "stream",
          "text": [
            "Epoch 18: LR=1.00e-04 — Train Loss=0.0119 — Val Loss=0.0471\n"
          ]
        },
        {
          "name": "stderr",
          "output_type": "stream",
          "text": [
            "Epochs:  19%|█▉        | 19/100 [07:29<32:52, 24.35s/it]"
          ]
        },
        {
          "name": "stdout",
          "output_type": "stream",
          "text": [
            "Epoch 19: LR=1.00e-04 — Train Loss=0.0103 — Val Loss=0.0307\n"
          ]
        },
        {
          "name": "stderr",
          "output_type": "stream",
          "text": [
            "Epochs:  20%|██        | 20/100 [07:54<32:33, 24.42s/it]"
          ]
        },
        {
          "name": "stdout",
          "output_type": "stream",
          "text": [
            "Epoch 20: LR=1.00e-04 — Train Loss=0.0073 — Val Loss=0.0446\n"
          ]
        },
        {
          "name": "stderr",
          "output_type": "stream",
          "text": [
            "Epochs:  21%|██        | 21/100 [08:18<32:03, 24.35s/it]"
          ]
        },
        {
          "name": "stdout",
          "output_type": "stream",
          "text": [
            "Epoch 21: LR=1.00e-04 — Train Loss=0.0087 — Val Loss=0.0436\n"
          ]
        },
        {
          "name": "stderr",
          "output_type": "stream",
          "text": [
            "Epochs:  22%|██▏       | 22/100 [08:42<31:30, 24.24s/it]"
          ]
        },
        {
          "name": "stdout",
          "output_type": "stream",
          "text": [
            "Epoch 22: LR=1.00e-04 — Train Loss=0.0125 — Val Loss=0.0359\n"
          ]
        },
        {
          "name": "stderr",
          "output_type": "stream",
          "text": [
            "Epochs:  23%|██▎       | 23/100 [09:06<31:04, 24.22s/it]"
          ]
        },
        {
          "name": "stdout",
          "output_type": "stream",
          "text": [
            "Epoch 23: LR=1.00e-04 — Train Loss=0.0071 — Val Loss=0.0518\n"
          ]
        },
        {
          "name": "stderr",
          "output_type": "stream",
          "text": [
            "Epochs:  24%|██▍       | 24/100 [09:30<30:33, 24.12s/it]"
          ]
        },
        {
          "name": "stdout",
          "output_type": "stream",
          "text": [
            "Epoch 24: LR=1.00e-04 — Train Loss=0.0094 — Val Loss=0.0269\n"
          ]
        },
        {
          "name": "stderr",
          "output_type": "stream",
          "text": [
            "Epochs:  25%|██▌       | 25/100 [09:54<30:09, 24.13s/it]"
          ]
        },
        {
          "name": "stdout",
          "output_type": "stream",
          "text": [
            "Epoch 25: LR=1.00e-04 — Train Loss=0.0066 — Val Loss=0.0515\n"
          ]
        },
        {
          "name": "stderr",
          "output_type": "stream",
          "text": [
            "Epochs:  26%|██▌       | 26/100 [10:18<29:47, 24.16s/it]"
          ]
        },
        {
          "name": "stdout",
          "output_type": "stream",
          "text": [
            "Epoch 26: LR=1.00e-04 — Train Loss=0.0079 — Val Loss=0.0565\n"
          ]
        },
        {
          "name": "stderr",
          "output_type": "stream",
          "text": [
            "Epochs:  27%|██▋       | 27/100 [10:42<29:14, 24.03s/it]"
          ]
        },
        {
          "name": "stdout",
          "output_type": "stream",
          "text": [
            "Epoch 27: LR=1.00e-04 — Train Loss=0.0064 — Val Loss=0.0356\n"
          ]
        },
        {
          "name": "stderr",
          "output_type": "stream",
          "text": [
            "Epochs:  28%|██▊       | 28/100 [11:07<29:11, 24.33s/it]"
          ]
        },
        {
          "name": "stdout",
          "output_type": "stream",
          "text": [
            "Epoch 28: LR=1.00e-04 — Train Loss=0.0067 — Val Loss=0.0239\n"
          ]
        },
        {
          "name": "stderr",
          "output_type": "stream",
          "text": [
            "Epochs:  29%|██▉       | 29/100 [11:31<28:46, 24.32s/it]"
          ]
        },
        {
          "name": "stdout",
          "output_type": "stream",
          "text": [
            "Epoch 29: LR=1.00e-04 — Train Loss=0.0061 — Val Loss=0.0367\n"
          ]
        },
        {
          "name": "stderr",
          "output_type": "stream",
          "text": [
            "Epochs:  30%|███       | 30/100 [11:55<28:10, 24.15s/it]"
          ]
        },
        {
          "name": "stdout",
          "output_type": "stream",
          "text": [
            "Epoch 30: LR=1.00e-04 — Train Loss=0.0074 — Val Loss=0.0211\n"
          ]
        },
        {
          "name": "stderr",
          "output_type": "stream",
          "text": [
            "Epochs:  31%|███       | 31/100 [12:19<27:36, 24.01s/it]"
          ]
        },
        {
          "name": "stdout",
          "output_type": "stream",
          "text": [
            "Epoch 31: LR=1.00e-04 — Train Loss=0.0046 — Val Loss=0.0307\n"
          ]
        },
        {
          "name": "stderr",
          "output_type": "stream",
          "text": [
            "Epochs:  32%|███▏      | 32/100 [12:43<27:08, 23.95s/it]"
          ]
        },
        {
          "name": "stdout",
          "output_type": "stream",
          "text": [
            "Epoch 32: LR=1.00e-04 — Train Loss=0.0049 — Val Loss=0.0289\n"
          ]
        },
        {
          "name": "stderr",
          "output_type": "stream",
          "text": [
            "Epochs:  33%|███▎      | 33/100 [13:06<26:41, 23.90s/it]"
          ]
        },
        {
          "name": "stdout",
          "output_type": "stream",
          "text": [
            "Epoch 33: LR=1.00e-04 — Train Loss=0.0051 — Val Loss=0.0237\n"
          ]
        },
        {
          "name": "stderr",
          "output_type": "stream",
          "text": [
            "Epochs:  34%|███▍      | 34/100 [13:30<26:12, 23.82s/it]"
          ]
        },
        {
          "name": "stdout",
          "output_type": "stream",
          "text": [
            "Epoch 34: LR=1.00e-04 — Train Loss=0.0049 — Val Loss=0.0401\n"
          ]
        },
        {
          "name": "stderr",
          "output_type": "stream",
          "text": [
            "Epochs:  35%|███▌      | 35/100 [13:54<26:02, 24.04s/it]"
          ]
        },
        {
          "name": "stdout",
          "output_type": "stream",
          "text": [
            "Epoch 35: LR=1.00e-04 — Train Loss=0.0045 — Val Loss=0.0581\n"
          ]
        },
        {
          "name": "stderr",
          "output_type": "stream",
          "text": [
            "Epochs:  36%|███▌      | 36/100 [14:18<25:37, 24.02s/it]"
          ]
        },
        {
          "name": "stdout",
          "output_type": "stream",
          "text": [
            "Epoch 36: LR=5.00e-05 — Train Loss=0.0052 — Val Loss=0.0315\n"
          ]
        },
        {
          "name": "stderr",
          "output_type": "stream",
          "text": [
            "Epochs:  37%|███▋      | 37/100 [14:42<25:13, 24.02s/it]"
          ]
        },
        {
          "name": "stdout",
          "output_type": "stream",
          "text": [
            "Epoch 37: LR=5.00e-05 — Train Loss=0.0030 — Val Loss=0.0303\n"
          ]
        },
        {
          "name": "stderr",
          "output_type": "stream",
          "text": [
            "Epochs:  38%|███▊      | 38/100 [15:06<24:47, 23.99s/it]"
          ]
        },
        {
          "name": "stdout",
          "output_type": "stream",
          "text": [
            "Epoch 38: LR=5.00e-05 — Train Loss=0.0026 — Val Loss=0.0168\n"
          ]
        },
        {
          "name": "stderr",
          "output_type": "stream",
          "text": [
            "Epochs:  39%|███▉      | 39/100 [15:30<24:24, 24.01s/it]"
          ]
        },
        {
          "name": "stdout",
          "output_type": "stream",
          "text": [
            "Epoch 39: LR=5.00e-05 — Train Loss=0.0052 — Val Loss=0.0227\n"
          ]
        },
        {
          "name": "stderr",
          "output_type": "stream",
          "text": [
            "Epochs:  40%|████      | 40/100 [15:55<24:03, 24.06s/it]"
          ]
        },
        {
          "name": "stdout",
          "output_type": "stream",
          "text": [
            "Epoch 40: LR=5.00e-05 — Train Loss=0.0030 — Val Loss=0.0274\n"
          ]
        },
        {
          "name": "stderr",
          "output_type": "stream",
          "text": [
            "Epochs:  41%|████      | 41/100 [16:19<23:38, 24.03s/it]"
          ]
        },
        {
          "name": "stdout",
          "output_type": "stream",
          "text": [
            "Epoch 41: LR=5.00e-05 — Train Loss=0.0034 — Val Loss=0.0267\n"
          ]
        },
        {
          "name": "stderr",
          "output_type": "stream",
          "text": [
            "Epochs:  42%|████▏     | 42/100 [16:43<23:12, 24.01s/it]"
          ]
        },
        {
          "name": "stdout",
          "output_type": "stream",
          "text": [
            "Epoch 42: LR=5.00e-05 — Train Loss=0.0018 — Val Loss=0.0273\n"
          ]
        },
        {
          "name": "stderr",
          "output_type": "stream",
          "text": [
            "Epochs:  43%|████▎     | 43/100 [17:07<22:50, 24.04s/it]"
          ]
        },
        {
          "name": "stdout",
          "output_type": "stream",
          "text": [
            "Epoch 43: LR=5.00e-05 — Train Loss=0.0017 — Val Loss=0.0154\n"
          ]
        },
        {
          "name": "stderr",
          "output_type": "stream",
          "text": [
            "Epochs:  44%|████▍     | 44/100 [17:31<22:27, 24.07s/it]"
          ]
        },
        {
          "name": "stdout",
          "output_type": "stream",
          "text": [
            "Epoch 44: LR=5.00e-05 — Train Loss=0.0016 — Val Loss=0.0160\n"
          ]
        },
        {
          "name": "stderr",
          "output_type": "stream",
          "text": [
            "Epochs:  45%|████▌     | 45/100 [17:55<21:58, 23.98s/it]"
          ]
        },
        {
          "name": "stdout",
          "output_type": "stream",
          "text": [
            "Epoch 45: LR=5.00e-05 — Train Loss=0.0024 — Val Loss=0.0300\n"
          ]
        },
        {
          "name": "stderr",
          "output_type": "stream",
          "text": [
            "Epochs:  46%|████▌     | 46/100 [18:19<21:36, 24.00s/it]"
          ]
        },
        {
          "name": "stdout",
          "output_type": "stream",
          "text": [
            "Epoch 46: LR=5.00e-05 — Train Loss=0.0010 — Val Loss=0.0267\n"
          ]
        },
        {
          "name": "stderr",
          "output_type": "stream",
          "text": [
            "Epochs:  47%|████▋     | 47/100 [18:43<21:12, 24.01s/it]"
          ]
        },
        {
          "name": "stdout",
          "output_type": "stream",
          "text": [
            "Epoch 47: LR=5.00e-05 — Train Loss=0.0025 — Val Loss=0.0244\n"
          ]
        },
        {
          "name": "stderr",
          "output_type": "stream",
          "text": [
            "Epochs:  48%|████▊     | 48/100 [19:07<20:50, 24.05s/it]"
          ]
        },
        {
          "name": "stdout",
          "output_type": "stream",
          "text": [
            "Epoch 48: LR=5.00e-05 — Train Loss=0.0042 — Val Loss=0.0175\n"
          ]
        },
        {
          "name": "stderr",
          "output_type": "stream",
          "text": [
            "Epochs:  49%|████▉     | 49/100 [19:30<20:13, 23.80s/it]"
          ]
        },
        {
          "name": "stdout",
          "output_type": "stream",
          "text": [
            "Epoch 49: LR=2.50e-05 — Train Loss=0.0017 — Val Loss=0.0217\n"
          ]
        },
        {
          "name": "stderr",
          "output_type": "stream",
          "text": [
            "Epochs:  50%|█████     | 50/100 [19:53<19:44, 23.70s/it]"
          ]
        },
        {
          "name": "stdout",
          "output_type": "stream",
          "text": [
            "Epoch 50: LR=2.50e-05 — Train Loss=0.0012 — Val Loss=0.0142\n"
          ]
        },
        {
          "name": "stderr",
          "output_type": "stream",
          "text": [
            "Epochs:  51%|█████     | 51/100 [20:17<19:13, 23.54s/it]"
          ]
        },
        {
          "name": "stdout",
          "output_type": "stream",
          "text": [
            "Epoch 51: LR=2.50e-05 — Train Loss=0.0023 — Val Loss=0.0120\n"
          ]
        },
        {
          "name": "stderr",
          "output_type": "stream",
          "text": [
            "Epochs:  52%|█████▏    | 52/100 [20:40<18:48, 23.50s/it]"
          ]
        },
        {
          "name": "stdout",
          "output_type": "stream",
          "text": [
            "Epoch 52: LR=2.50e-05 — Train Loss=0.0007 — Val Loss=0.0183\n"
          ]
        },
        {
          "name": "stderr",
          "output_type": "stream",
          "text": [
            "Epochs:  53%|█████▎    | 53/100 [21:03<18:20, 23.41s/it]"
          ]
        },
        {
          "name": "stdout",
          "output_type": "stream",
          "text": [
            "Epoch 53: LR=2.50e-05 — Train Loss=0.0010 — Val Loss=0.0133\n"
          ]
        },
        {
          "name": "stderr",
          "output_type": "stream",
          "text": [
            "Epochs:  54%|█████▍    | 54/100 [21:27<17:57, 23.42s/it]"
          ]
        },
        {
          "name": "stdout",
          "output_type": "stream",
          "text": [
            "Epoch 54: LR=2.50e-05 — Train Loss=0.0014 — Val Loss=0.0105\n"
          ]
        },
        {
          "name": "stderr",
          "output_type": "stream",
          "text": [
            "Epochs:  55%|█████▌    | 55/100 [21:50<17:32, 23.40s/it]"
          ]
        },
        {
          "name": "stdout",
          "output_type": "stream",
          "text": [
            "Epoch 55: LR=2.50e-05 — Train Loss=0.0014 — Val Loss=0.0147\n"
          ]
        },
        {
          "name": "stderr",
          "output_type": "stream",
          "text": [
            "Epochs:  56%|█████▌    | 56/100 [22:13<17:10, 23.41s/it]"
          ]
        },
        {
          "name": "stdout",
          "output_type": "stream",
          "text": [
            "Epoch 56: LR=2.50e-05 — Train Loss=0.0016 — Val Loss=0.0173\n"
          ]
        },
        {
          "name": "stderr",
          "output_type": "stream",
          "text": [
            "Epochs:  57%|█████▋    | 57/100 [22:37<16:46, 23.40s/it]"
          ]
        },
        {
          "name": "stdout",
          "output_type": "stream",
          "text": [
            "Epoch 57: LR=2.50e-05 — Train Loss=0.0014 — Val Loss=0.0198\n"
          ]
        },
        {
          "name": "stderr",
          "output_type": "stream",
          "text": [
            "Epochs:  58%|█████▊    | 58/100 [23:00<16:23, 23.42s/it]"
          ]
        },
        {
          "name": "stdout",
          "output_type": "stream",
          "text": [
            "Epoch 58: LR=2.50e-05 — Train Loss=0.0007 — Val Loss=0.0109\n"
          ]
        },
        {
          "name": "stderr",
          "output_type": "stream",
          "text": [
            "Epochs:  59%|█████▉    | 59/100 [23:24<16:01, 23.44s/it]"
          ]
        },
        {
          "name": "stdout",
          "output_type": "stream",
          "text": [
            "Epoch 59: LR=2.50e-05 — Train Loss=0.0003 — Val Loss=0.0136\n"
          ]
        },
        {
          "name": "stderr",
          "output_type": "stream",
          "text": [
            "Epochs:  60%|██████    | 60/100 [23:47<15:37, 23.44s/it]"
          ]
        },
        {
          "name": "stdout",
          "output_type": "stream",
          "text": [
            "Epoch 60: LR=1.25e-05 — Train Loss=0.0010 — Val Loss=0.0235\n"
          ]
        },
        {
          "name": "stderr",
          "output_type": "stream",
          "text": [
            "Epochs:  61%|██████    | 61/100 [24:11<15:13, 23.42s/it]"
          ]
        },
        {
          "name": "stdout",
          "output_type": "stream",
          "text": [
            "Epoch 61: LR=1.25e-05 — Train Loss=0.0012 — Val Loss=0.0160\n"
          ]
        },
        {
          "name": "stderr",
          "output_type": "stream",
          "text": [
            "Epochs:  62%|██████▏   | 62/100 [24:34<14:49, 23.40s/it]"
          ]
        },
        {
          "name": "stdout",
          "output_type": "stream",
          "text": [
            "Epoch 62: LR=1.25e-05 — Train Loss=0.0012 — Val Loss=0.0143\n"
          ]
        },
        {
          "name": "stderr",
          "output_type": "stream",
          "text": [
            "Epochs:  63%|██████▎   | 63/100 [24:58<14:30, 23.52s/it]"
          ]
        },
        {
          "name": "stdout",
          "output_type": "stream",
          "text": [
            "Epoch 63: LR=1.25e-05 — Train Loss=0.0009 — Val Loss=0.0218\n"
          ]
        },
        {
          "name": "stderr",
          "output_type": "stream",
          "text": [
            "Epochs:  64%|██████▍   | 64/100 [25:22<14:14, 23.74s/it]"
          ]
        },
        {
          "name": "stdout",
          "output_type": "stream",
          "text": [
            "Epoch 64: LR=1.25e-05 — Train Loss=0.0019 — Val Loss=0.0148\n"
          ]
        },
        {
          "name": "stderr",
          "output_type": "stream",
          "text": [
            "Epochs:  65%|██████▌   | 65/100 [25:47<14:01, 24.04s/it]"
          ]
        },
        {
          "name": "stdout",
          "output_type": "stream",
          "text": [
            "Epoch 65: LR=1.25e-05 — Train Loss=0.0010 — Val Loss=0.0128\n"
          ]
        },
        {
          "name": "stderr",
          "output_type": "stream",
          "text": [
            "Epochs:  66%|██████▌   | 66/100 [26:11<13:40, 24.14s/it]"
          ]
        },
        {
          "name": "stdout",
          "output_type": "stream",
          "text": [
            "Epoch 66: LR=6.25e-06 — Train Loss=0.0006 — Val Loss=0.0216\n"
          ]
        },
        {
          "name": "stderr",
          "output_type": "stream",
          "text": [
            "Epochs:  67%|██████▋   | 67/100 [26:35<13:18, 24.21s/it]"
          ]
        },
        {
          "name": "stdout",
          "output_type": "stream",
          "text": [
            "Epoch 67: LR=6.25e-06 — Train Loss=0.0005 — Val Loss=0.0125\n"
          ]
        },
        {
          "name": "stderr",
          "output_type": "stream",
          "text": [
            "Epochs:  68%|██████▊   | 68/100 [27:00<12:52, 24.16s/it]"
          ]
        },
        {
          "name": "stdout",
          "output_type": "stream",
          "text": [
            "Epoch 68: LR=6.25e-06 — Train Loss=0.0010 — Val Loss=0.0140\n"
          ]
        },
        {
          "name": "stderr",
          "output_type": "stream",
          "text": [
            "Epochs:  69%|██████▉   | 69/100 [27:23<12:23, 24.00s/it]"
          ]
        },
        {
          "name": "stdout",
          "output_type": "stream",
          "text": [
            "Epoch 69: LR=6.25e-06 — Train Loss=0.0007 — Val Loss=0.0220\n"
          ]
        },
        {
          "name": "stderr",
          "output_type": "stream",
          "text": [
            "Epochs:  70%|███████   | 70/100 [27:48<12:05, 24.18s/it]"
          ]
        },
        {
          "name": "stdout",
          "output_type": "stream",
          "text": [
            "Epoch 70: LR=6.25e-06 — Train Loss=0.0011 — Val Loss=0.0175\n"
          ]
        },
        {
          "name": "stderr",
          "output_type": "stream",
          "text": [
            "Epochs:  71%|███████   | 71/100 [28:12<11:44, 24.29s/it]"
          ]
        },
        {
          "name": "stdout",
          "output_type": "stream",
          "text": [
            "Epoch 71: LR=6.25e-06 — Train Loss=0.0007 — Val Loss=0.0070\n"
          ]
        },
        {
          "name": "stderr",
          "output_type": "stream",
          "text": [
            "Epochs:  72%|███████▏  | 72/100 [28:37<11:21, 24.35s/it]"
          ]
        },
        {
          "name": "stdout",
          "output_type": "stream",
          "text": [
            "Epoch 72: LR=6.25e-06 — Train Loss=0.0016 — Val Loss=0.0190\n"
          ]
        },
        {
          "name": "stderr",
          "output_type": "stream",
          "text": [
            "Epochs:  73%|███████▎  | 73/100 [29:01<10:55, 24.28s/it]"
          ]
        },
        {
          "name": "stdout",
          "output_type": "stream",
          "text": [
            "Epoch 73: LR=6.25e-06 — Train Loss=0.0004 — Val Loss=0.0145\n"
          ]
        },
        {
          "name": "stderr",
          "output_type": "stream",
          "text": [
            "Epochs:  74%|███████▍  | 74/100 [29:25<10:31, 24.28s/it]"
          ]
        },
        {
          "name": "stdout",
          "output_type": "stream",
          "text": [
            "Epoch 74: LR=6.25e-06 — Train Loss=0.0009 — Val Loss=0.0035\n"
          ]
        },
        {
          "name": "stderr",
          "output_type": "stream",
          "text": [
            "Epochs:  75%|███████▌  | 75/100 [29:49<10:06, 24.25s/it]"
          ]
        },
        {
          "name": "stdout",
          "output_type": "stream",
          "text": [
            "Epoch 75: LR=6.25e-06 — Train Loss=0.0004 — Val Loss=0.0092\n"
          ]
        },
        {
          "name": "stderr",
          "output_type": "stream",
          "text": [
            "Epochs:  76%|███████▌  | 76/100 [30:13<09:38, 24.10s/it]"
          ]
        },
        {
          "name": "stdout",
          "output_type": "stream",
          "text": [
            "Epoch 76: LR=6.25e-06 — Train Loss=0.0007 — Val Loss=0.0162\n"
          ]
        },
        {
          "name": "stderr",
          "output_type": "stream",
          "text": [
            "Epochs:  77%|███████▋  | 77/100 [30:37<09:12, 24.02s/it]"
          ]
        },
        {
          "name": "stdout",
          "output_type": "stream",
          "text": [
            "Epoch 77: LR=6.25e-06 — Train Loss=0.0003 — Val Loss=0.0089\n"
          ]
        },
        {
          "name": "stderr",
          "output_type": "stream",
          "text": [
            "Epochs:  78%|███████▊  | 78/100 [31:01<08:49, 24.06s/it]"
          ]
        },
        {
          "name": "stdout",
          "output_type": "stream",
          "text": [
            "Epoch 78: LR=6.25e-06 — Train Loss=0.0003 — Val Loss=0.0086\n"
          ]
        },
        {
          "name": "stderr",
          "output_type": "stream",
          "text": [
            "Epochs:  79%|███████▉  | 79/100 [31:25<08:25, 24.07s/it]"
          ]
        },
        {
          "name": "stdout",
          "output_type": "stream",
          "text": [
            "Epoch 79: LR=6.25e-06 — Train Loss=0.0004 — Val Loss=0.0186\n"
          ]
        },
        {
          "name": "stderr",
          "output_type": "stream",
          "text": [
            "Epochs:  80%|████████  | 80/100 [31:50<08:02, 24.14s/it]"
          ]
        },
        {
          "name": "stdout",
          "output_type": "stream",
          "text": [
            "Epoch 80: LR=3.13e-06 — Train Loss=0.0012 — Val Loss=0.0154\n"
          ]
        },
        {
          "name": "stderr",
          "output_type": "stream",
          "text": [
            "Epochs:  81%|████████  | 81/100 [32:13<07:36, 24.00s/it]"
          ]
        },
        {
          "name": "stdout",
          "output_type": "stream",
          "text": [
            "Epoch 81: LR=3.13e-06 — Train Loss=0.0006 — Val Loss=0.0147\n"
          ]
        },
        {
          "name": "stderr",
          "output_type": "stream",
          "text": [
            "Epochs:  82%|████████▏ | 82/100 [32:38<07:17, 24.31s/it]"
          ]
        },
        {
          "name": "stdout",
          "output_type": "stream",
          "text": [
            "Epoch 82: LR=3.13e-06 — Train Loss=0.0001 — Val Loss=0.0105\n"
          ]
        },
        {
          "name": "stderr",
          "output_type": "stream",
          "text": [
            "Epochs:  83%|████████▎ | 83/100 [33:02<06:50, 24.14s/it]"
          ]
        },
        {
          "name": "stdout",
          "output_type": "stream",
          "text": [
            "Epoch 83: LR=3.13e-06 — Train Loss=0.0001 — Val Loss=0.0161\n"
          ]
        },
        {
          "name": "stderr",
          "output_type": "stream",
          "text": [
            "Epochs:  84%|████████▍ | 84/100 [33:25<06:21, 23.87s/it]"
          ]
        },
        {
          "name": "stdout",
          "output_type": "stream",
          "text": [
            "Epoch 84: LR=3.13e-06 — Train Loss=0.0004 — Val Loss=0.0095\n"
          ]
        },
        {
          "name": "stderr",
          "output_type": "stream",
          "text": [
            "Epochs:  85%|████████▌ | 85/100 [33:49<05:56, 23.74s/it]"
          ]
        },
        {
          "name": "stdout",
          "output_type": "stream",
          "text": [
            "Epoch 85: LR=3.13e-06 — Train Loss=0.0010 — Val Loss=0.0102\n"
          ]
        },
        {
          "name": "stderr",
          "output_type": "stream",
          "text": [
            "Epochs:  86%|████████▌ | 86/100 [34:12<05:30, 23.63s/it]"
          ]
        },
        {
          "name": "stdout",
          "output_type": "stream",
          "text": [
            "Epoch 86: LR=1.56e-06 — Train Loss=0.0001 — Val Loss=0.0165\n"
          ]
        },
        {
          "name": "stderr",
          "output_type": "stream",
          "text": [
            "Epochs:  87%|████████▋ | 87/100 [34:36<05:06, 23.59s/it]"
          ]
        },
        {
          "name": "stdout",
          "output_type": "stream",
          "text": [
            "Epoch 87: LR=1.56e-06 — Train Loss=0.0006 — Val Loss=0.0178\n"
          ]
        },
        {
          "name": "stderr",
          "output_type": "stream",
          "text": [
            "Epochs:  88%|████████▊ | 88/100 [34:59<04:43, 23.61s/it]"
          ]
        },
        {
          "name": "stdout",
          "output_type": "stream",
          "text": [
            "Epoch 88: LR=1.56e-06 — Train Loss=0.0008 — Val Loss=0.0079\n"
          ]
        },
        {
          "name": "stderr",
          "output_type": "stream",
          "text": [
            "Epochs:  89%|████████▉ | 89/100 [35:22<04:18, 23.49s/it]"
          ]
        },
        {
          "name": "stdout",
          "output_type": "stream",
          "text": [
            "Epoch 89: LR=1.56e-06 — Train Loss=0.0003 — Val Loss=0.0103\n"
          ]
        },
        {
          "name": "stderr",
          "output_type": "stream",
          "text": [
            "Epochs:  90%|█████████ | 90/100 [35:46<03:54, 23.45s/it]"
          ]
        },
        {
          "name": "stdout",
          "output_type": "stream",
          "text": [
            "Epoch 90: LR=1.56e-06 — Train Loss=0.0004 — Val Loss=0.0117\n"
          ]
        },
        {
          "name": "stderr",
          "output_type": "stream",
          "text": [
            "Epochs:  91%|█████████ | 91/100 [36:09<03:30, 23.37s/it]"
          ]
        },
        {
          "name": "stdout",
          "output_type": "stream",
          "text": [
            "Epoch 91: LR=1.56e-06 — Train Loss=0.0009 — Val Loss=0.0135\n"
          ]
        },
        {
          "name": "stderr",
          "output_type": "stream",
          "text": [
            "Epochs:  92%|█████████▏| 92/100 [36:32<03:06, 23.34s/it]"
          ]
        },
        {
          "name": "stdout",
          "output_type": "stream",
          "text": [
            "Epoch 92: LR=7.81e-07 — Train Loss=0.0007 — Val Loss=0.0071\n"
          ]
        },
        {
          "name": "stderr",
          "output_type": "stream",
          "text": [
            "Epochs:  93%|█████████▎| 93/100 [36:56<02:43, 23.35s/it]"
          ]
        },
        {
          "name": "stdout",
          "output_type": "stream",
          "text": [
            "Epoch 93: LR=7.81e-07 — Train Loss=0.0005 — Val Loss=0.0201\n"
          ]
        },
        {
          "name": "stderr",
          "output_type": "stream",
          "text": [
            "Epochs:  94%|█████████▍| 94/100 [37:19<02:19, 23.28s/it]"
          ]
        },
        {
          "name": "stdout",
          "output_type": "stream",
          "text": [
            "Epoch 94: LR=7.81e-07 — Train Loss=0.0006 — Val Loss=0.0155\n"
          ]
        },
        {
          "name": "stderr",
          "output_type": "stream",
          "text": [
            "Epochs:  95%|█████████▌| 95/100 [37:42<01:56, 23.27s/it]"
          ]
        },
        {
          "name": "stdout",
          "output_type": "stream",
          "text": [
            "Epoch 95: LR=7.81e-07 — Train Loss=0.0004 — Val Loss=0.0057\n"
          ]
        },
        {
          "name": "stderr",
          "output_type": "stream",
          "text": [
            "Epochs:  96%|█████████▌| 96/100 [38:05<01:32, 23.22s/it]"
          ]
        },
        {
          "name": "stdout",
          "output_type": "stream",
          "text": [
            "Epoch 96: LR=7.81e-07 — Train Loss=0.0005 — Val Loss=0.0164\n"
          ]
        },
        {
          "name": "stderr",
          "output_type": "stream",
          "text": [
            "Epochs:  97%|█████████▋| 97/100 [38:29<01:09, 23.30s/it]"
          ]
        },
        {
          "name": "stdout",
          "output_type": "stream",
          "text": [
            "Epoch 97: LR=7.81e-07 — Train Loss=0.0004 — Val Loss=0.0164\n"
          ]
        },
        {
          "name": "stderr",
          "output_type": "stream",
          "text": [
            "Epochs:  98%|█████████▊| 98/100 [38:52<00:46, 23.26s/it]"
          ]
        },
        {
          "name": "stdout",
          "output_type": "stream",
          "text": [
            "Epoch 98: LR=3.91e-07 — Train Loss=0.0001 — Val Loss=0.0099\n"
          ]
        },
        {
          "name": "stderr",
          "output_type": "stream",
          "text": [
            "Epochs:  99%|█████████▉| 99/100 [39:15<00:23, 23.25s/it]"
          ]
        },
        {
          "name": "stdout",
          "output_type": "stream",
          "text": [
            "Epoch 99: LR=3.91e-07 — Train Loss=0.0013 — Val Loss=0.0087\n"
          ]
        },
        {
          "name": "stderr",
          "output_type": "stream",
          "text": [
            "Epochs: 100%|██████████| 100/100 [39:38<00:00, 23.79s/it]"
          ]
        },
        {
          "name": "stdout",
          "output_type": "stream",
          "text": [
            "Epoch 100: LR=3.91e-07 — Train Loss=0.0004 — Val Loss=0.0132\n"
          ]
        },
        {
          "name": "stderr",
          "output_type": "stream",
          "text": [
            "\n"
          ]
        },
        {
          "data": {
            "image/png": "[encoded data removed]",
            "text/plain": [
              "<Figure size 500x500 with 1 Axes>"
            ]
          },
          "metadata": {},
          "output_type": "display_data"
        }
      ],
      "source": [
        "from tqdm import tqdm\n",
        "import numpy as np\n",
        "import matplotlib.pyplot as plt\n",
        "import torch.optim.lr_scheduler as lr_scheduler\n",
        "\n",
        "# Se crean los datasets y dataloaders\n",
        "val_counts = val_df['label'].value_counts()\n",
        "good_labels = val_counts[val_counts >= 2].index\n",
        "val_df = val_df[val_df['label'].isin(good_labels)].reset_index(drop=True)\n",
        "train_dataset, val_dataset, test_dataset, gallery_dataset, unkonwn_dataset = get_face_datasets(train_df, val_df, test_df, gallery_df, unkonwn_df, train_tfms[\"resnet\"], eval_tfms[\"resnet\"])\n",
        "train_dataloader, val_dataloader, test_dataloader, gallery_dataloader, unkonwn_dataloader = get_face_dataloaders(train_dataset, val_dataset, test_dataset, gallery_dataset ,unkonwn_dataset, 32)\n",
        "\n",
        "device = \"cuda\"\n",
        "ext = ResNetExtractor( k_freeze=3, arch=\"resnet18\").to(device)\n",
        "\n",
        "\n",
        "# 2) EmbeddingHead recibe el extractor\n",
        "embedder = EmbeddingHead(extractor=ext, emb_dim=128).to(device)\n",
        "\n",
        "# 3) Pérdida y optimizador\n",
        "criterion = TripletLoss(margin=1.0)\n",
        "optimizer = torch.optim.AdamW(embedder.parameters(), lr=1e-4)  # asegurarte de tenerlo\n",
        "\n",
        "# 4) plateau\n",
        "scheduler = lr_scheduler.ReduceLROnPlateau(\n",
        "    optimizer,\n",
        "    mode='min',            # bajamos la métrica\n",
        "    factor=0.5,            # multiplicador del LR\n",
        "    patience=5\n",
        ") \n",
        "# 5) Loop\n",
        "EPOCHS = 100\n",
        "\n",
        "\n",
        "train_val(embedder, EPOCHS, train_dataloader, val_dataloader, device, optimizer, criterion, scheduler )\n",
        "torch.save(embedder.state_dict(), \"embedding_model_resnet18.pt\")\n",
        "\n",
        "\n",
        "\n",
        "\n"
      ]
    },
    {
      "cell_type": "markdown",
      "metadata": {},
      "source": [
        "# Testing Close set"
      ]
    },
    {
      "cell_type": "code",
      "execution_count": 13,
      "metadata": {},
      "outputs": [
        {
          "name": "stdout",
          "output_type": "stream",
          "text": [
            "Top-1 Acc: 0.9517045454545454\n",
            "Top-1  Avg Dist Correct: 0.37992418\n",
            "Top-1  Avg Dist Incorrect: 0.7292221\n",
            "Top-5 Acc: 1.0\n",
            "Top-5  Avg Dist Correct: 0.39679366\n",
            "Top-5  Avg Dist Incorrect: nan\n"
          ]
        }
      ],
      "source": [
        "# Testing closed set con distancias \n",
        "\n",
        "import torch\n",
        "import torch.nn.functional as F\n",
        "import numpy as np\n",
        "\n",
        "@torch.no_grad()\n",
        "def evaluate_identification(\n",
        "    model,\n",
        "    gallery_loader,\n",
        "    probe_loader,\n",
        "    device,\n",
        "    topk=(1,)\n",
        "):\n",
        "    \"\"\"\n",
        "    Evalúa identificación 1-to-N y, para cada k en topk, devuelve:\n",
        "      - top{k}: accuracy\n",
        "      - top{k}_avg_dist_correct: distancia L2 promedio de los aciertos\n",
        "      - top{k}_avg_dist_incorrect: distancia L2 promedio de los errores\n",
        "    \"\"\"\n",
        "    model.eval()\n",
        "    # 1) Galería\n",
        "    gal_embs, gal_labels = [], []\n",
        "    for imgs, labels in gallery_loader:\n",
        "        imgs = imgs.to(device)\n",
        "        e = F.normalize(model(imgs), dim=1)\n",
        "        gal_embs.append(e.cpu())\n",
        "        gal_labels.extend(labels.numpy() if isinstance(labels, torch.Tensor) else labels)\n",
        "    gal_embs   = torch.cat(gal_embs, dim=0)       # [G, D]\n",
        "    gal_labels = np.array(gal_labels)             # [G]\n",
        "\n",
        "    # 2) Probes\n",
        "    probe_embs, probe_labels = [], []\n",
        "    for imgs, labels in probe_loader:\n",
        "        imgs = imgs.to(device)\n",
        "        e = F.normalize(model(imgs), dim=1)\n",
        "        probe_embs.append(e.cpu())\n",
        "        probe_labels.extend(labels.numpy() if isinstance(labels, torch.Tensor) else labels)\n",
        "    probe_embs   = torch.cat(probe_embs, dim=0)   # [P, D]\n",
        "    probe_labels = np.array(probe_labels)         # [P]\n",
        "\n",
        "    # 3) Matriz de distancias [P, G] y vector de mínimas [P]\n",
        "    dists     = torch.cdist(probe_embs, gal_embs, p=2).numpy()\n",
        "    min_dists = dists.min(axis=1)                 # [P]\n",
        "\n",
        "    results = {}\n",
        "    for k in topk:\n",
        "        # vecinos más cercanos\n",
        "        nearest = np.argpartition(dists, kth=k-1, axis=1)[:, :k]  # [P, k]\n",
        "        preds   = gal_labels[nearest]                             # [P, k]\n",
        "\n",
        "        # máscara de aciertos\n",
        "        if k == 1:\n",
        "            correct = (preds[:, 0] == probe_labels)\n",
        "        else:\n",
        "            correct = np.any(preds == probe_labels[:, None], axis=1)\n",
        "\n",
        "        # accuracy\n",
        "        results[f'top{k}'] = correct.mean()\n",
        "\n",
        "        # distancias promedio\n",
        "        #   – correct_mask True → distancia mínima de aciertos\n",
        "        #   – ~correct_mask → distancia mínima de errores (“negativos”)\n",
        "        if correct.any():\n",
        "            results[f'top{k}_avg_dist_correct'] = min_dists[correct].mean()\n",
        "        else:\n",
        "            results[f'top{k}_avg_dist_correct'] = float('nan')\n",
        "\n",
        "        if (~correct).any():\n",
        "            results[f'top{k}_avg_dist_incorrect'] = min_dists[~correct].mean()\n",
        "        else:\n",
        "            results[f'top{k}_avg_dist_incorrect'] = float('nan')\n",
        "\n",
        "    return results\n",
        "\n",
        "metrics = evaluate_identification(embedder, gallery_dataloader, test_dataloader, device, topk=(1,5))\n",
        "print(\"Top-1 Acc:\", metrics['top1'] )\n",
        "print(\"Top-1  Avg Dist Correct:\", metrics['top1_avg_dist_correct'])\n",
        "print(\"Top-1  Avg Dist Incorrect:\", metrics['top1_avg_dist_incorrect'])\n",
        "print(\"Top-5 Acc:\", metrics['top5'] )\n",
        "print(\"Top-5  Avg Dist Correct:\", metrics['top5_avg_dist_correct'])\n",
        "print(\"Top-5  Avg Dist Incorrect:\", metrics['top5_avg_dist_incorrect'])\n"
      ]
    },
    {
      "cell_type": "markdown",
      "metadata": {},
      "source": [
        "# Prediccion 1 a 1 Simulucion de despliegue"
      ]
    },
    {
      "cell_type": "code",
      "execution_count": null,
      "metadata": {},
      "outputs": [
        {
          "name": "stdout",
          "output_type": "stream",
          "text": [
            "Guardado gallery_db en gallery_db.pth\n"
          ]
        }
      ],
      "source": [
        "# Funcion para guardar el vector db para despliegue\n",
        "import torch\n",
        "import torch.nn.functional as F\n",
        "import numpy as np\n",
        "\n",
        "# 1) Construir embeddings con el DataLoader\n",
        "def build_and_save_gallery(model, gallery_loader, device, out_path=\"gallery_db.pth\"):\n",
        "    model.eval()\n",
        "    embs_list, labels_list = [], []\n",
        "    with torch.no_grad():\n",
        "        for imgs, labels in gallery_loader:\n",
        "            imgs = imgs.to(device)\n",
        "            embs = F.normalize(model(imgs), dim=1).cpu()\n",
        "            embs_list.append(embs)\n",
        "            labels_list.extend(labels.numpy() if isinstance(labels, torch.Tensor) else labels)\n",
        "\n",
        "    # 2) Concatenar en un solo tensor/array\n",
        "    gallery_embs   = torch.cat(embs_list, dim=0)      # [G, D]\n",
        "    gallery_labels = np.array(labels_list)            # [G]\n",
        "\n",
        "    # 3) Guardar en disco\n",
        "    torch.save((gallery_embs, gallery_labels), out_path)\n",
        "    print(f\"Guardado gallery_db en {out_path}\")\n",
        "\n",
        "# Uso:\n",
        "# suponiendo que ya tienes embedder, gallery_dataloader y device\n",
        "build_and_save_gallery(embedder, gallery_dataloader, device, out_path=\"gallery_db.pth\")\n",
        "# Cargar el db\n",
        "# gallery_embs, gallery_labels = torch.load(\"gallery_db.pth\")"
      ]
    },
    {
      "cell_type": "code",
      "execution_count": 57,
      "metadata": {},
      "outputs": [
        {
          "name": "stdout",
          "output_type": "stream",
          "text": [
            "Predicción open-set: unknown, distancia: 0.803\n",
            "Predicción open-set: 49 rojo, distancia: 0.283 ---- label real: 49 rojo\n",
            "Predicción open-set: 45 amarillo, distancia: 0.689 ---- label real: 45 amarillo\n",
            "Predicción open-set: unknown, distancia: 0.795 ---- label real: 14 rojo\n",
            "Predicción open-set: s8832, distancia: 0.694 ---- label real: s8832\n",
            "Predicción open-set: sn1761, distancia: 0.522 ---- label real: sn1761\n",
            "Predicción open-set: Negra sin orejera un solo cacho, distancia: 0.603 ---- label real: Negra sin orejera un solo cacho\n",
            "Predicción open-set: 02 rojo, distancia: 0.569 ---- label real: 02 rojo\n",
            "Predicción open-set: 49 rojo, distancia: 0.324 ---- label real: 49 rojo\n",
            "Predicción open-set: 10 rojo, distancia: 0.541 ---- label real: 10 rojo\n",
            "Predicción open-set: unknown, distancia: 0.981 ---- label real: s1547\n",
            "Predicción open-set: s1797, distancia: 0.326 ---- label real: s1797\n",
            "Predicción open-set: 49 rojo, distancia: 0.610 ---- label real: 49 rojo\n",
            "Predicción open-set: s1774, distancia: 0.356 ---- label real: s1774\n",
            "Predicción open-set: 02 rojo, distancia: 0.512 ---- label real: 02 rojo\n",
            "Predicción open-set: sn23, distancia: 0.573 ---- label real: sn23\n",
            "Predicción open-set: sn1761, distancia: 0.509 ---- label real: sn1761\n",
            "Predicción open-set: unknown, distancia: 1.147 ---- label real: 43 rojo\n",
            "Predicción open-set: 02 rojo, distancia: 0.524 ---- label real: 02 rojo\n",
            "Predicción open-set: s8803, distancia: 0.310 ---- label real: s8803\n",
            "Predicción open-set: Blanca sin orejera, distancia: 0.275 ---- label real: Blanca sin orejera\n",
            "Predicción open-set: 635 naranja, distancia: 0.327 ---- label real: 635 naranja\n",
            "Predicción open-set: s1797, distancia: 0.301 ---- label real: s1797\n",
            "Predicción open-set: s8843, distancia: 0.448 ---- label real: s8843\n",
            "Predicción open-set: unknown, distancia: 0.982 ---- label real: s1547\n",
            "Predicción open-set: 62 amarillo, distancia: 0.213 ---- label real: 62 amarillo\n",
            "Predicción open-set: Negra sin orejera un solo cacho, distancia: 0.589 ---- label real: Negra sin orejera un solo cacho\n",
            "Predicción open-set: unknown, distancia: 1.062 ---- label real: s1706\n",
            "Predicción open-set: unknown, distancia: 1.159 ---- label real: s1935\n",
            "Predicción open-set: 49 rojo, distancia: 0.295 ---- label real: 49 rojo\n",
            "Predicción open-set: 49 rojo, distancia: 0.399 ---- label real: 49 rojo\n",
            "Predicción open-set: unknown, distancia: 1.159 ---- label real: sn19\n",
            "Predicción open-set: s1896, distancia: 0.398 ---- label real: s1896\n",
            "Predicción open-set: 21 rojo, distancia: 0.433 ---- label real: 21 rojo\n",
            "Predicción open-set: 651 naranja, distancia: 0.491 ---- label real: 651 naranja\n",
            "Predicción open-set: 62 amarillo, distancia: 0.326 ---- label real: 62 amarillo\n",
            "Predicción open-set: 54 amarillo, distancia: 0.352 ---- label real: 54 amarillo\n",
            "Predicción open-set: s1935, distancia: 0.262 ---- label real: s1556\n",
            "Predicción open-set: sn22, distancia: 0.499 ---- label real: sn22\n",
            "Predicción open-set: 635 naranja, distancia: 0.369 ---- label real: 635 naranja\n",
            "Predicción open-set: s1774, distancia: 0.324 ---- label real: s1774\n",
            "Predicción open-set: sn13, distancia: 0.330 ---- label real: sn13\n",
            "Predicción open-set: 635 naranja, distancia: 0.368 ---- label real: 635 naranja\n",
            "Predicción open-set: s1804, distancia: 0.311 ---- label real: s1804\n",
            "Predicción open-set: Blanca sin orejera, distancia: 0.278 ---- label real: Blanca sin orejera\n",
            "Predicción open-set: s1557, distancia: 0.501 ---- label real: s1557\n",
            "Predicción open-set: s8813, distancia: 0.397 ---- label real: s8813\n",
            "Predicción open-set: 02 rojo, distancia: 0.539 ---- label real: 02 rojo\n",
            "Predicción open-set: s114, distancia: 0.644 ---- label real: s114\n",
            "Predicción open-set: sn1761, distancia: 0.510 ---- label real: sn1761\n",
            "Predicción open-set: s1805, distancia: 0.220 ---- label real: s1805\n",
            "Predicción open-set: 49 rojo, distancia: 0.257 ---- label real: 49 rojo\n",
            "Predicción open-set: 02 rojo, distancia: 0.577 ---- label real: 02 rojo\n",
            "Predicción open-set: s1903, distancia: 0.357 ---- label real: s1903\n",
            "Predicción open-set: 02 rojo, distancia: 0.452 ---- label real: 02 rojo\n",
            "Predicción open-set: s1797, distancia: 0.271 ---- label real: s1797\n",
            "Predicción open-set: 65 amarillo, distancia: 0.258 ---- label real: 65 amarillo\n",
            "Predicción open-set: Negra sin orejera un solo cacho, distancia: 0.557 ---- label real: Negra sin orejera un solo cacho\n",
            "Predicción open-set: n2005, distancia: 0.253 ---- label real: n2005\n",
            "Predicción open-set: unknown, distancia: 0.776 ---- label real: 53 amarillo\n",
            "Predicción open-set: s1935, distancia: 0.268 ---- label real: s1556\n",
            "Predicción open-set: 02 rojo, distancia: 0.515 ---- label real: 02 rojo\n",
            "Predicción open-set: unknown, distancia: 0.772 ---- label real: s1778\n",
            "Predicción open-set: sn1761, distancia: 0.548 ---- label real: sn1761\n",
            "Predicción open-set: 21 rojo, distancia: 0.361 ---- label real: 21 rojo\n",
            "Predicción open-set: s8804, distancia: 0.404 ---- label real: s8804\n",
            "Predicción open-set: s8804, distancia: 0.507 ---- label real: s8804\n",
            "Predicción open-set: s1778, distancia: 0.652 ---- label real: s1778\n",
            "Predicción open-set: sn22, distancia: 0.381 ---- label real: sn22\n",
            "Predicción open-set: s8819, distancia: 0.536 ---- label real: s8819\n",
            "Predicción open-set: 54 amarillo, distancia: 0.320 ---- label real: 54 amarillo\n",
            "Predicción open-set: sn22, distancia: 0.354 ---- label real: sn22\n",
            "Predicción open-set: s1805, distancia: 0.215 ---- label real: s1805\n",
            "Predicción open-set: s1804, distancia: 0.250 ---- label real: s1804\n",
            "Predicción open-set: sn13, distancia: 0.368 ---- label real: sn13\n",
            "Predicción open-set: Blanca sin orejera, distancia: 0.269 ---- label real: Blanca sin orejera\n",
            "Predicción open-set: unknown, distancia: 0.751 ---- label real: 622 naranja\n",
            "Predicción open-set: unknown, distancia: 0.754 ---- label real: s114\n",
            "Predicción open-set: unknown, distancia: 0.711 ---- label real: s114\n",
            "Predicción open-set: unknown, distancia: 0.828 ---- label real: 635 naranja\n",
            "Predicción open-set: s8803, distancia: 0.321 ---- label real: s8803\n",
            "Predicción open-set: s1853, distancia: 0.507 ---- label real: s1853\n",
            "Predicción open-set: unknown, distancia: 0.846 ---- label real: 53 amarillo\n",
            "Predicción open-set: 10 rojo, distancia: 0.575 ---- label real: 10 rojo\n",
            "Predicción open-set: 49 rojo, distancia: 0.286 ---- label real: 49 rojo\n",
            "Predicción open-set: 10 rojo, distancia: 0.481 ---- label real: 10 rojo\n",
            "Predicción open-set: 21 rojo, distancia: 0.358 ---- label real: 21 rojo\n",
            "Predicción open-set: n2005, distancia: 0.184 ---- label real: n2005\n",
            "Predicción open-set: 65 amarillo, distancia: 0.374 ---- label real: 82 amarillo\n",
            "Predicción open-set: s114, distancia: 0.615 ---- label real: s114\n",
            "Predicción open-set: s8819, distancia: 0.318 ---- label real: s8819\n",
            "Predicción open-set: s1854, distancia: 0.580 ---- label real: s1853\n",
            "Predicción open-set: sn13, distancia: 0.324 ---- label real: sn13\n",
            "Predicción open-set: s1935, distancia: 0.319 ---- label real: s1556\n",
            "Predicción open-set: 888 amarillo, distancia: 0.469 ---- label real: 888 amarillo\n",
            "Predicción open-set: 06 rojo, distancia: 0.351 ---- label real: 06 rojo\n",
            "Predicción open-set: unknown, distancia: 0.762 ---- label real: s2011\n",
            "Predicción open-set: sn1761, distancia: 0.469 ---- label real: sn1761\n",
            "Predicción open-set: 53 amarillo, distancia: 0.642 ---- label real: 622 naranja\n",
            "Predicción open-set: 635 naranja, distancia: 0.288 ---- label real: 635 naranja\n",
            "Predicción open-set: unknown, distancia: 0.940 ---- label real: 43 rojo\n",
            "Predicción open-set: 06 rojo, distancia: 0.425 ---- label real: 06 rojo\n",
            "Predicción open-set: 87, distancia: 0.646 ---- label real: 87\n",
            "Predicción open-set: unknown, distancia: 0.801 ---- label real: s2011\n",
            "Predicción open-set: 651 naranja, distancia: 0.572 ---- label real: 651 naranja\n",
            "Predicción open-set: s114, distancia: 0.551 ---- label real: s114\n",
            "Predicción open-set: s1804, distancia: 0.328 ---- label real: s1804\n",
            "Predicción open-set: sn1761, distancia: 0.474 ---- label real: sn1761\n",
            "Predicción open-set: unknown, distancia: 0.755 ---- label real: 58 amarillo\n",
            "Predicción open-set: s1804, distancia: 0.318 ---- label real: s1804\n",
            "Predicción open-set: unknown, distancia: 1.164 ---- label real: sn19\n",
            "Predicción open-set: 10 rojo, distancia: 0.522 ---- label real: 10 rojo\n",
            "Predicción open-set: unknown, distancia: 0.825 ---- label real: 58 amarillo\n",
            "Predicción open-set: Negra sin orejera un solo cacho, distancia: 0.641 ---- label real: Negra sin orejera un solo cacho\n",
            "Predicción open-set: 65 amarillo, distancia: 0.312 ---- label real: 82 amarillo\n",
            "Predicción open-set: s1914, distancia: 0.475 ---- label real: s1914\n",
            "Predicción open-set: Blanca sin orejera, distancia: 0.268 ---- label real: Blanca sin orejera\n",
            "Predicción open-set: 65 amarillo, distancia: 0.193 ---- label real: 65 amarillo\n",
            "Predicción open-set: unknown, distancia: 0.987 ---- label real: s1547\n",
            "Predicción open-set: unknown, distancia: 0.918 ---- label real: 53 amarillo\n",
            "Predicción open-set: 16 rojo, distancia: 0.434 ---- label real: 16 rojo\n",
            "Predicción open-set: s1797, distancia: 0.337 ---- label real: s1797\n",
            "Predicción open-set: unknown, distancia: 1.152 ---- label real: sn19\n",
            "Predicción open-set: 65 amarillo, distancia: 0.248 ---- label real: 65 amarillo\n",
            "Predicción open-set: s1557, distancia: 0.510 ---- label real: s1557\n",
            "Predicción open-set: 53 amarillo, distancia: 0.665 ---- label real: 622 naranja\n",
            "Predicción open-set: 5 rojo, distancia: 0.644 ---- label real: 5 rojo\n",
            "Predicción open-set: 635 naranja, distancia: 0.325 ---- label real: 635 naranja\n",
            "Predicción open-set: unknown, distancia: 0.795 ---- label real: 14 rojo\n",
            "Predicción open-set: s8803, distancia: 0.381 ---- label real: s8803\n",
            "Predicción open-set: 879 amarillo, distancia: 0.667 ---- label real: 879 amarillo\n",
            "Predicción open-set: s8832, distancia: 0.675 ---- label real: s8832\n",
            "Predicción open-set: 60 amarillo, distancia: 0.560 ---- label real: 60 amarillo\n",
            "Predicción open-set: 21 rojo, distancia: 0.363 ---- label real: 21 rojo\n",
            "Predicción open-set: 49 rojo, distancia: 0.310 ---- label real: 49 rojo\n",
            "Predicción open-set: 622 naranja, distancia: 0.449 ---- label real: 622 naranja\n",
            "Predicción open-set: unknown, distancia: 0.786 ---- label real: 53 amarillo\n",
            "Predicción open-set: s1854, distancia: 0.564 ---- label real: s1853\n",
            "Predicción open-set: unknown, distancia: 0.794 ---- label real: 60 amarillo\n",
            "Predicción open-set: s1557, distancia: 0.544 ---- label real: s1557\n",
            "Predicción open-set: s1854, distancia: 0.512 ---- label real: s1853\n",
            "Predicción open-set: s1805, distancia: 0.221 ---- label real: s1805\n",
            "Predicción open-set: 49 rojo, distancia: 0.282 ---- label real: 49 rojo\n",
            "Predicción open-set: 49 rojo, distancia: 0.356 ---- label real: 49 rojo\n",
            "Predicción open-set: unknown, distancia: 0.702 ---- label real: s1854\n",
            "Predicción open-set: unknown, distancia: 0.951 ---- label real: s1547\n",
            "Predicción open-set: unknown, distancia: 0.952 ---- label real: s1706\n",
            "Predicción open-set: sn1761, distancia: 0.466 ---- label real: sn1761\n",
            "Predicción open-set: s8803, distancia: 0.371 ---- label real: s8803\n",
            "Predicción open-set: sn1761, distancia: 0.513 ---- label real: sn1761\n",
            "Predicción open-set: s1774, distancia: 0.317 ---- label real: s1774\n",
            "Predicción open-set: sn1761, distancia: 0.538 ---- label real: sn1761\n",
            "Predicción open-set: s1797, distancia: 0.254 ---- label real: s1797\n",
            "Predicción open-set: 10 rojo, distancia: 0.666 ---- label real: 10 rojo\n",
            "Predicción open-set: unknown, distancia: 1.112 ---- label real: s1935\n",
            "Predicción open-set: 635, distancia: 0.354 ---- label real: 635\n",
            "Predicción open-set: unknown, distancia: 1.141 ---- label real: s1935\n",
            "Predicción open-set: s1797, distancia: 0.484 ---- label real: s1797\n",
            "Predicción open-set: s1903, distancia: 0.441 ---- label real: s1903\n",
            "Predicción open-set: unknown, distancia: 0.813 ---- label real: 58 amarillo\n",
            "Predicción open-set: s1797, distancia: 0.346 ---- label real: s1797\n",
            "Predicción open-set: s1906, distancia: 0.537 ---- label real: s1906\n",
            "Predicción open-set: s8819, distancia: 0.378 ---- label real: s8819\n",
            "Predicción open-set: 5 rojo, distancia: 0.491 ---- label real: 5 rojo\n",
            "Predicción open-set: Negra sin orejera un solo cacho, distancia: 0.571 ---- label real: Negra sin orejera un solo cacho\n",
            "Predicción open-set: n2005, distancia: 0.233 ---- label real: n2005\n",
            "Predicción open-set: 06 rojo, distancia: 0.446 ---- label real: 06 rojo\n",
            "Predicción open-set: n2005, distancia: 0.193 ---- label real: n2005\n",
            "Predicción open-set: s1906, distancia: 0.426 ---- label real: s1906\n",
            "Predicción open-set: s1805, distancia: 0.250 ---- label real: s1805\n",
            "Predicción open-set: 21 rojo, distancia: 0.373 ---- label real: 21 rojo\n",
            "Predicción open-set: unknown, distancia: 0.976 ---- label real: s1547\n",
            "Predicción open-set: 62 amarillo, distancia: 0.259 ---- label real: 62 amarillo\n",
            "Predicción open-set: Blanca sin orejera, distancia: 0.265 ---- label real: Blanca sin orejera\n",
            "Predicción open-set: unknown, distancia: 0.894 ---- label real: 14 rojo\n",
            "Predicción open-set: unknown, distancia: 1.145 ---- label real: 43 rojo\n",
            "Predicción open-set: 21 rojo, distancia: 0.382 ---- label real: 21 rojo\n",
            "Predicción open-set: s1868, distancia: 0.483 ---- label real: s1868\n",
            "Predicción open-set: s8803, distancia: 0.365 ---- label real: s8803\n",
            "Predicción open-set: 635 naranja, distancia: 0.304 ---- label real: 635 naranja\n",
            "Predicción open-set: 635, distancia: 0.277 ---- label real: 635\n",
            "Predicción open-set: unknown, distancia: 1.168 ---- label real: 43 rojo\n",
            "Predicción open-set: s1843, distancia: 0.695 ---- label real: s1843\n",
            "Predicción open-set: unknown, distancia: 0.752 ---- label real: 879 amarillo\n",
            "Predicción open-set: unknown, distancia: 0.759 ---- label real: 879 amarillo\n",
            "Predicción open-set: sn13, distancia: 0.353 ---- label real: sn13\n",
            "Predicción open-set: s8803, distancia: 0.345 ---- label real: s8803\n",
            "Predicción open-set: s1774, distancia: 0.318 ---- label real: s1774\n",
            "Predicción open-set: sn13, distancia: 0.366 ---- label real: sn13\n",
            "Predicción open-set: sn13, distancia: 0.343 ---- label real: sn13\n",
            "Predicción open-set: 54 amarillo, distancia: 0.267 ---- label real: 54 amarillo\n",
            "Predicción open-set: s1607, distancia: 0.669 ---- label real: s1607\n",
            "Predicción open-set: 60 amarillo, distancia: 0.554 ---- label real: 60 amarillo\n",
            "Predicción open-set: 637 naranja, distancia: 0.684 ---- label real: 637 naranja\n",
            "Predicción open-set: 10 rojo, distancia: 0.539 ---- label real: 10 rojo\n",
            "Predicción open-set: s8813, distancia: 0.489 ---- label real: s8813\n",
            "Predicción open-set: s1935, distancia: 0.335 ---- label real: s1556\n",
            "Predicción open-set: unknown, distancia: 0.763 ---- label real: 68 amarillo\n",
            "Predicción open-set: 02 rojo, distancia: 0.518 ---- label real: 02 rojo\n",
            "Predicción open-set: s1935, distancia: 0.313 ---- label real: s1556\n",
            "Predicción open-set: unknown, distancia: 0.713 ---- label real: s8832\n",
            "Predicción open-set: unknown, distancia: 1.146 ---- label real: s1935\n",
            "Predicción open-set: Negra sin orejera un solo cacho, distancia: 0.686 ---- label real: Negra sin orejera un solo cacho\n",
            "Predicción open-set: s8832, distancia: 0.669 ---- label real: s8832\n",
            "Predicción open-set: 888 amarillo, distancia: 0.698 ---- label real: 888 amarillo\n",
            "Predicción open-set: sn1761, distancia: 0.495 ---- label real: sn1761\n",
            "Predicción open-set: 637 naranja, distancia: 0.558 ---- label real: 637 naranja\n",
            "Predicción open-set: n2005, distancia: 0.247 ---- label real: n2005\n",
            "Predicción open-set: unknown, distancia: 0.742 ---- label real: 879 amarillo\n",
            "Predicción open-set: Blanca sin orejera, distancia: 0.250 ---- label real: Blanca sin orejera\n",
            "Predicción open-set: 87, distancia: 0.672 ---- label real: 87\n",
            "Predicción open-set: 635 naranja, distancia: 0.322 ---- label real: 635 naranja\n",
            "Predicción open-set: s1557, distancia: 0.579 ---- label real: s1557\n",
            "Predicción open-set: s1870, distancia: 0.683 ---- label real: s1870\n",
            "Predicción open-set: s1906, distancia: 0.517 ---- label real: s1906\n",
            "Predicción open-set: s1797, distancia: 0.260 ---- label real: s1797\n",
            "Predicción open-set: 49 rojo, distancia: 0.353 ---- label real: 49 rojo\n",
            "Predicción open-set: unknown, distancia: 0.894 ---- label real: 14 rojo\n",
            "Predicción open-set: s1805, distancia: 0.235 ---- label real: s1805\n",
            "Predicción open-set: 54 amarillo, distancia: 0.343 ---- label real: 54 amarillo\n",
            "Predicción open-set: Blanca sin orejera, distancia: 0.232 ---- label real: Blanca sin orejera\n",
            "Predicción open-set: 635 naranja, distancia: 0.339 ---- label real: 635 naranja\n",
            "Predicción open-set: unknown, distancia: 0.959 ---- label real: s1547\n",
            "Predicción open-set: 61 amarillo, distancia: 0.356 ---- label real: 61 amarillo\n",
            "Predicción open-set: 16 rojo, distancia: 0.479 ---- label real: 16 rojo\n",
            "Predicción open-set: s8832, distancia: 0.602 ---- label real: s8832\n",
            "Predicción open-set: s114, distancia: 0.603 ---- label real: s114\n",
            "Predicción open-set: 635 naranja, distancia: 0.354 ---- label real: 635 naranja\n",
            "Predicción open-set: 62 amarillo, distancia: 0.252 ---- label real: 62 amarillo\n",
            "Predicción open-set: 21 rojo, distancia: 0.321 ---- label real: 21 rojo\n",
            "Predicción open-set: unknown, distancia: 0.866 ---- label real: 14 rojo\n",
            "Predicción open-set: 61 amarillo, distancia: 0.364 ---- label real: 61 amarillo\n",
            "Predicción open-set: s1805, distancia: 0.227 ---- label real: s1805\n",
            "Predicción open-set: unknown, distancia: 0.922 ---- label real: s1547\n",
            "Predicción open-set: unknown, distancia: 0.825 ---- label real: sn1125\n",
            "Predicción open-set: unknown, distancia: 0.751 ---- label real: sn20\n",
            "Predicción open-set: s1914, distancia: 0.507 ---- label real: s1914\n",
            "Predicción open-set: 637 naranja, distancia: 0.621 ---- label real: 637 naranja\n",
            "Predicción open-set: 16 rojo, distancia: 0.460 ---- label real: 16 rojo\n",
            "Predicción open-set: s7704, distancia: 0.375 ---- label real: s7704\n",
            "Predicción open-set: unknown, distancia: 1.149 ---- label real: s1935\n",
            "Predicción open-set: s1805, distancia: 0.222 ---- label real: s1805\n",
            "Predicción open-set: s1903, distancia: 0.388 ---- label real: s1903\n",
            "Predicción open-set: unknown, distancia: 0.962 ---- label real: s1547\n",
            "Predicción open-set: 638 naranja, distancia: 0.372 ---- label real: 638 naranja\n",
            "Predicción open-set: s1935, distancia: 0.262 ---- label real: s1556\n",
            "Predicción open-set: unknown, distancia: 0.722 ---- label real: s1778\n",
            "Predicción open-set: Negra sin orejera un solo cacho, distancia: 0.674 ---- label real: Negra sin orejera un solo cacho\n",
            "Predicción open-set: s1935, distancia: 0.253 ---- label real: s1556\n",
            "Predicción open-set: 61 amarillo, distancia: 0.300 ---- label real: 61 amarillo\n",
            "Predicción open-set: 5 rojo, distancia: 0.504 ---- label real: 5 rojo\n",
            "Predicción open-set: 06 rojo, distancia: 0.343 ---- label real: 06 rojo\n",
            "Predicción open-set: unknown, distancia: 0.720 ---- label real: s114\n",
            "Predicción open-set: 21 rojo, distancia: 0.291 ---- label real: 21 rojo\n",
            "Predicción open-set: s1557, distancia: 0.546 ---- label real: s1557\n",
            "Predicción open-set: sn1761, distancia: 0.522 ---- label real: sn1761\n",
            "Predicción open-set: 622 naranja, distancia: 0.360 ---- label real: 622 naranja\n",
            "Predicción open-set: s1935, distancia: 0.250 ---- label real: s1556\n",
            "Predicción open-set: unknown, distancia: 1.169 ---- label real: sn19\n",
            "Predicción open-set: 54 amarillo, distancia: 0.315 ---- label real: 54 amarillo\n",
            "Predicción open-set: 65 amarillo, distancia: 0.305 ---- label real: 82 amarillo\n",
            "Predicción open-set: unknown, distancia: 0.733 ---- label real: sn20\n",
            "Predicción open-set: 651 naranja, distancia: 0.506 ---- label real: 651 naranja\n",
            "Predicción open-set: s1906, distancia: 0.556 ---- label real: s1906\n",
            "Predicción open-set: unknown, distancia: 1.162 ---- label real: 43 rojo\n",
            "Predicción open-set: s8803, distancia: 0.344 ---- label real: s8803\n",
            "Predicción open-set: 65 amarillo, distancia: 0.267 ---- label real: 65 amarillo\n",
            "Predicción open-set: s1903, distancia: 0.395 ---- label real: s1903\n",
            "Predicción open-set: 5 rojo, distancia: 0.527 ---- label real: 5 rojo\n",
            "Predicción open-set: sn1125, distancia: 0.634 ---- label real: sn1125\n",
            "Predicción open-set: 02 rojo, distancia: 0.586 ---- label real: 02 rojo\n",
            "Predicción open-set: 879 amarillo, distancia: 0.665 ---- label real: 879 amarillo\n",
            "Predicción open-set: 53 amarillo, distancia: 0.617 ---- label real: 53 amarillo\n",
            "Predicción open-set: s1896, distancia: 0.349 ---- label real: s1896\n",
            "Predicción open-set: n2005, distancia: 0.223 ---- label real: n2005\n",
            "Predicción open-set: s8813, distancia: 0.527 ---- label real: s8813\n",
            "Predicción open-set: 21 rojo, distancia: 0.247 ---- label real: 21 rojo\n",
            "Predicción open-set: s8804, distancia: 0.504 ---- label real: s8804\n",
            "Predicción open-set: s1804, distancia: 0.322 ---- label real: s1804\n",
            "Predicción open-set: unknown, distancia: 0.782 ---- label real: 53 amarillo\n",
            "Predicción open-set: s1868, distancia: 0.499 ---- label real: s1868\n",
            "Predicción open-set: s1896, distancia: 0.363 ---- label real: s1896\n",
            "Predicción open-set: unknown, distancia: 1.256 ---- label real: 43 rojo\n",
            "Predicción open-set: s1896, distancia: 0.358 ---- label real: s1896\n",
            "Predicción open-set: unknown, distancia: 0.805 ---- label real: s377\n",
            "Predicción open-set: 02 rojo, distancia: 0.697 ---- label real: 02 rojo\n",
            "Predicción open-set: s8832, distancia: 0.636 ---- label real: s8832\n",
            "Predicción open-set: unknown, distancia: 1.162 ---- label real: 43 rojo\n",
            "Predicción open-set: s1903, distancia: 0.311 ---- label real: s1903\n",
            "Predicción open-set: 635, distancia: 0.506 ---- label real: 635\n",
            "Predicción open-set: unknown, distancia: 0.980 ---- label real: s8835\n",
            "Predicción open-set: 60 amarillo, distancia: 0.512 ---- label real: 60 amarillo\n",
            "Predicción open-set: sn23, distancia: 0.606 ---- label real: sn23\n",
            "Predicción open-set: 49 rojo, distancia: 0.370 ---- label real: 49 rojo\n",
            "Predicción open-set: 62 amarillo, distancia: 0.274 ---- label real: 62 amarillo\n",
            "Predicción open-set: s1641, distancia: 0.700 ---- label real: s1641\n",
            "Predicción open-set: sn23, distancia: 0.628 ---- label real: sn23\n",
            "Predicción open-set: s1607, distancia: 0.594 ---- label real: s1607\n",
            "Predicción open-set: s8819, distancia: 0.449 ---- label real: s8819\n",
            "Predicción open-set: unknown, distancia: 0.841 ---- label real: s1778\n",
            "Predicción open-set: unknown, distancia: 0.701 ---- label real: 14 rojo\n",
            "Predicción open-set: s7704, distancia: 0.499 ---- label real: s7704\n",
            "Predicción open-set: unknown, distancia: 0.997 ---- label real: s1547\n",
            "Predicción open-set: s1797, distancia: 0.259 ---- label real: s1797\n",
            "Predicción open-set: 16 rojo, distancia: 0.552 ---- label real: 16 rojo\n",
            "Predicción open-set: 879 amarillo, distancia: 0.699 ---- label real: 879 amarillo\n",
            "Predicción open-set: n2005, distancia: 0.283 ---- label real: n2005\n",
            "Predicción open-set: unknown, distancia: 1.148 ---- label real: s1935\n",
            "Predicción open-set: s1804, distancia: 0.425 ---- label real: s1804\n",
            "Predicción open-set: Negra sin orejera un solo cacho, distancia: 0.598 ---- label real: Negra sin orejera un solo cacho\n",
            "Predicción open-set: n2005, distancia: 0.296 ---- label real: n2005\n",
            "Predicción open-set: s8819, distancia: 0.416 ---- label real: s8819\n",
            "Predicción open-set: s1896, distancia: 0.363 ---- label real: s1896\n",
            "Predicción open-set: sn1761, distancia: 0.455 ---- label real: sn1761\n",
            "Predicción open-set: unknown, distancia: 0.778 ---- label real: s1870\n",
            "Predicción open-set: s1896, distancia: 0.374 ---- label real: s1896\n",
            "Predicción open-set: 21 rojo, distancia: 0.351 ---- label real: 21 rojo\n",
            "Predicción open-set: 638 naranja, distancia: 0.473 ---- label real: 638 naranja\n",
            "Predicción open-set: 879 amarillo, distancia: 0.686 ---- label real: 879 amarillo\n",
            "Predicción open-set: 16 rojo, distancia: 0.405 ---- label real: 16 rojo\n",
            "Predicción open-set: 635 naranja, distancia: 0.426 ---- label real: 635 naranja\n",
            "Predicción open-set: unknown, distancia: 0.827 ---- label real: 68 amarillo\n",
            "Predicción open-set: s8804, distancia: 0.564 ---- label real: s8804\n",
            "Predicción open-set: n2005, distancia: 0.174 ---- label real: n2005\n",
            "Predicción open-set: s1896, distancia: 0.400 ---- label real: s1896\n",
            "Predicción open-set: s1935, distancia: 0.374 ---- label real: s1556\n",
            "Predicción open-set: 60 amarillo, distancia: 0.507 ---- label real: 60 amarillo\n",
            "Predicción open-set: 23 rojo, distancia: 0.399 ---- label real: 23 rojo\n",
            "Predicción open-set: s8813, distancia: 0.428 ---- label real: s8813\n",
            "Predicción open-set: 635 naranja, distancia: 0.298 ---- label real: 635 naranja\n",
            "Predicción open-set: s1607, distancia: 0.570 ---- label real: s1607\n",
            "Predicción open-set: s1805, distancia: 0.228 ---- label real: s1805\n",
            "Predicción open-set: 68 amarillo, distancia: 0.577 ---- label real: Vaca sin orejera con oreja cortada\n",
            "Predicción open-set: unknown, distancia: 0.700 ---- label real: sn20\n",
            "Predicción open-set: s8813, distancia: 0.571 ---- label real: s8813\n",
            "Predicción open-set: unknown, distancia: 1.011 ---- label real: s1547\n",
            "Predicción open-set: 02 rojo, distancia: 0.475 ---- label real: 02 rojo\n",
            "Predicción open-set: s8803, distancia: 0.355 ---- label real: s8803\n",
            "Predicción open-set: sn13, distancia: 0.341 ---- label real: sn13\n",
            "Predicción open-set: s8819, distancia: 0.380 ---- label real: s8819\n",
            "Predicción open-set: 638 naranja, distancia: 0.443 ---- label real: 638 naranja\n",
            "Predicción open-set: s1906, distancia: 0.515 ---- label real: s1906\n",
            "Predicción open-set: sn1761, distancia: 0.491 ---- label real: sn1761\n",
            "Predicción open-set: unknown, distancia: 0.773 ---- label real: s1778\n",
            "Predicción open-set: n2005, distancia: 0.478 ---- label real: n2005\n",
            "Predicción open-set: Vaca sin orejera ganado de leche, distancia: 0.474 ---- label real: Vaca sin orejera ganado de leche\n",
            "Predicción open-set: s1805, distancia: 0.269 ---- label real: s1805\n",
            "Predicción open-set: unknown, distancia: 0.904 ---- label real: 14 rojo\n",
            "Predicción open-set: n2005, distancia: 0.180 ---- label real: n2005\n",
            "Predicción open-set: unknown, distancia: 1.155 ---- label real: s1935\n",
            "Predicción open-set: unknown, distancia: 0.989 ---- label real: 43 rojo\n",
            "Predicción open-set: 62 amarillo, distancia: 0.261 ---- label real: 62 amarillo\n",
            "Predicción open-set: 02 rojo, distancia: 0.462 ---- label real: 02 rojo\n",
            "72\n",
            "Porcentaje acierto  0.7954545454545454\n",
            "######################################################################################################\n",
            "Predicción open-set: unknown, distancia: 0.711 ---- label real: s1877\n",
            "Predicción open-set: unknown, distancia: 0.900 ---- label real: s1877\n",
            "Predicción open-set: unknown, distancia: 0.809 ---- label real: s1877\n",
            "Predicción open-set: unknown, distancia: 1.026 ---- label real: s1877\n",
            "Predicción open-set: unknown, distancia: 0.869 ---- label real: s1877\n",
            "Predicción open-set: unknown, distancia: 1.000 ---- label real: s1918\n",
            "Predicción open-set: unknown, distancia: 0.870 ---- label real: s1918\n",
            "Predicción open-set: unknown, distancia: 0.804 ---- label real: s1918\n",
            "Predicción open-set: unknown, distancia: 0.851 ---- label real: s1918\n",
            "Predicción open-set: unknown, distancia: 0.878 ---- label real: s8816\n",
            "Predicción open-set: unknown, distancia: 0.840 ---- label real: s8816\n",
            "Predicción open-set: unknown, distancia: 0.869 ---- label real: s8816\n",
            "Predicción open-set: unknown, distancia: 0.748 ---- label real: s8816\n",
            "Predicción open-set: sn13, distancia: 0.397 ---- label real: sn15\n",
            "Predicción open-set: sn13, distancia: 0.558 ---- label real: sn15\n",
            "Predicción open-set: sn13, distancia: 0.433 ---- label real: sn15\n",
            "Predicción open-set: sn13, distancia: 0.489 ---- label real: sn15\n",
            "13\n",
            "Porcentaje acierto  0.7647058823529411\n"
          ]
        }
      ],
      "source": [
        "# Inferencia de a imagenes\n",
        "\n",
        "def predict_image(image_tensor, model, gallery_embs, gallery_labels, device, threshold: float = None):\n",
        "    \"\"\"\n",
        "    Clasifica una sola imagen:\n",
        "      - image_tensor: torch.Tensor [C, H, W], NO en batch.\n",
        "      - model:  embedder.\n",
        "      - gallery_embs: torch.Tensor [G, D], precomputado.\n",
        "      - gallery_labels: np.array [G]\n",
        "      - threshold: distancia máxima para aceptar; si None → closed-set puro.\n",
        "\n",
        "    Devuelve la etiqueta predicha o la cadena \"unknown\".\n",
        "    \"\"\"\n",
        "    model.eval()\n",
        "    # 1) Prepara image_tensor como batch=1\n",
        "    img = image_tensor.unsqueeze(0).to(device)            # [1, C, H, W]\n",
        "    with torch.no_grad():\n",
        "        emb = F.normalize(model(img), dim=1).cpu()         # [1, D]\n",
        "\n",
        "    # 2) Calcula distancias L2 vs galería\n",
        "    #    torch.cdist permite hasta 2D: (1, D) vs (G, D) → (1, G)\n",
        "    dists = torch.cdist(emb, gallery_embs, p=2).squeeze(0) # [G]\n",
        "\n",
        "    # 3) Encuentra el vecino más cercano\n",
        "    min_dist, idx = torch.min(dists, dim=0)\n",
        "    pred_label = gallery_labels[idx.item()]\n",
        "\n",
        "    # 4) Open-set: rechazo si supera umbral\n",
        "    if threshold is not None and min_dist.item() > threshold:\n",
        "        return \"unknown\", min_dist.item()\n",
        "\n",
        "    # 5) Closed-set o conocido\n",
        "    return pred_label, min_dist.item()\n",
        "\n",
        "# Se cargan los embedings y labels\n",
        "gallery_embs, gallery_labels = torch.load(\n",
        "    \"gallery_db.pth\",\n",
        "    map_location=\"cpu\",     # o tu device: \"cuda\"\n",
        "    weights_only=False\n",
        ")\n",
        "# Se carga el modelo \n",
        "\n",
        "# 1) Reconstruir el modelo con los mismos parámetros:\n",
        "ext = ResNetExtractor( k_freeze=3, arch=\"resnet18\").to(device)\n",
        "# 2) EmbeddingHead recibe el extractor\n",
        "embedder = EmbeddingHead(extractor=ext, emb_dim=128).to(device)\n",
        "\n",
        "# 2) Cargar los pesos\n",
        "embedder.load_state_dict(torch.load(\"embedding_model_resnet18.pt\"))\n",
        "\n",
        "device = torch.device(\"cuda\" if torch.cuda.is_available() else \"cpu\")\n",
        "embedder.to(device)\n",
        "\n",
        "# Define la transformación que usas en tu entrenamiento\n",
        "tfm =  transforms.Compose([\n",
        "        transforms.RandomResizedCrop(224, scale=(0.8, 1.0)),\n",
        "        transforms.RandomHorizontalFlip(),\n",
        "        transforms.ColorJitter(0.2, 0.2, 0.2, 0.1),\n",
        "        transforms.ToTensor(),\n",
        "        transforms.Normalize(IMAGENET_MEAN, IMAGENET_STD),\n",
        "    ])\n",
        "### Evaluacion de una sola imagen desconocida \n",
        "\n",
        "# Carga y transforma una imagen de prueba\n",
        "img = Image.open(unkonwn_df[\"filepath\"][0]).convert(\"RGB\")\n",
        "img_t = tfm(img)\n",
        "\n",
        "# Closed-set\n",
        "# Open-set con umbral (p.ej. 1.1)\n",
        "label, dist = predict_image(img_t, embedder, gallery_embs, gallery_labels, device, threshold=0.7)\n",
        "print(f\"Predicción open-set: {label}, distancia: {dist:.3f}\")\n",
        "\n",
        "# Cargar una de test set que si esta en la galeria \n",
        "n = 0\n",
        "\n",
        "## Evaluacion de todo test en loop \n",
        "for r in range(len(test_df)):\n",
        "    \n",
        "    test_df.reset_index(drop=True, inplace=True)\n",
        "    img = Image.open(test_df.reset_index()[\"filepath\"][r]).convert(\"RGB\")\n",
        "    img_t = tfm(img)\n",
        "\n",
        "    # Closed-set\n",
        "    # Open-set con umbral (p.ej. 1.1)\n",
        "    label, dist = predict_image(img_t, embedder, gallery_embs, gallery_labels, device, threshold=0.7)\n",
        "    if label == \"unknown\":\n",
        "        n = n+1\n",
        "    print(f\"Predicción open-set: {label}, distancia: {dist:.3f} ---- label real: {test_df[\"label\"][r]}\")\n",
        "print(n)\n",
        "total = n/len(test_df)\n",
        "print(f\"Porcentaje acierto \", 1-total)\n",
        "print(\"######################################################################################################\")\n",
        "\n",
        "## Evaluacion de todos los desconocidos en loop \n",
        "n = 0\n",
        "for r in range(len(unkonwn_df)):\n",
        "    \n",
        "    unkonwn_df.reset_index(drop=True, inplace=True)\n",
        "    img = Image.open(unkonwn_df[\"filepath\"][r]).convert(\"RGB\")\n",
        "    img_t = tfm(img)\n",
        "\n",
        "    # Closed-set\n",
        "    # Open-set con umbral (p.ej. 1.1)\n",
        "    label, dist = predict_image(img_t, embedder, gallery_embs, gallery_labels, device, threshold=0.7)\n",
        "    if label == \"unknown\":\n",
        "        n = n+1\n",
        "    print(f\"Predicción open-set: {label}, distancia: {dist:.3f} ---- label real: {unkonwn_df[\"label\"][r]}\")\n",
        "print(n)\n",
        "total = n/len(unkonwn_df)\n",
        "print(f\"Porcentaje acierto \", total)\n"
      ]
    },
    {
      "cell_type": "code",
      "execution_count": 56,
      "metadata": {},
      "outputs": [
        {
          "data": {
            "text/html": [
              "<div>\n",
              "<style scoped>\n",
              "    .dataframe tbody tr th:only-of-type {\n",
              "        vertical-align: middle;\n",
              "    }\n",
              "\n",
              "    .dataframe tbody tr th {\n",
              "        vertical-align: top;\n",
              "    }\n",
              "\n",
              "    .dataframe thead th {\n",
              "        text-align: right;\n",
              "    }\n",
              "</style>\n",
              "<table border=\"1\" class=\"dataframe\">\n",
              "  <thead>\n",
              "    <tr style=\"text-align: right;\">\n",
              "      <th></th>\n",
              "      <th>filepath</th>\n",
              "      <th>label</th>\n",
              "    </tr>\n",
              "  </thead>\n",
              "  <tbody>\n",
              "    <tr>\n",
              "      <th>0</th>\n",
              "      <td>C:\\Users\\user\\OneDrive\\Escritorio\\Vacas\\Caras\\...</td>\n",
              "      <td>s1877</td>\n",
              "    </tr>\n",
              "    <tr>\n",
              "      <th>1</th>\n",
              "      <td>C:\\Users\\user\\OneDrive\\Escritorio\\Vacas\\Caras\\...</td>\n",
              "      <td>s1877</td>\n",
              "    </tr>\n",
              "    <tr>\n",
              "      <th>2</th>\n",
              "      <td>C:\\Users\\user\\OneDrive\\Escritorio\\Vacas\\Caras\\...</td>\n",
              "      <td>s1877</td>\n",
              "    </tr>\n",
              "    <tr>\n",
              "      <th>3</th>\n",
              "      <td>C:\\Users\\user\\OneDrive\\Escritorio\\Vacas\\Caras\\...</td>\n",
              "      <td>s1877</td>\n",
              "    </tr>\n",
              "    <tr>\n",
              "      <th>4</th>\n",
              "      <td>C:\\Users\\user\\OneDrive\\Escritorio\\Vacas\\Caras\\...</td>\n",
              "      <td>s1877</td>\n",
              "    </tr>\n",
              "    <tr>\n",
              "      <th>5</th>\n",
              "      <td>C:\\Users\\user\\OneDrive\\Escritorio\\Vacas\\Caras\\...</td>\n",
              "      <td>s1918</td>\n",
              "    </tr>\n",
              "    <tr>\n",
              "      <th>6</th>\n",
              "      <td>C:\\Users\\user\\OneDrive\\Escritorio\\Vacas\\Caras\\...</td>\n",
              "      <td>s1918</td>\n",
              "    </tr>\n",
              "    <tr>\n",
              "      <th>7</th>\n",
              "      <td>C:\\Users\\user\\OneDrive\\Escritorio\\Vacas\\Caras\\...</td>\n",
              "      <td>s1918</td>\n",
              "    </tr>\n",
              "    <tr>\n",
              "      <th>8</th>\n",
              "      <td>C:\\Users\\user\\OneDrive\\Escritorio\\Vacas\\Caras\\...</td>\n",
              "      <td>s1918</td>\n",
              "    </tr>\n",
              "    <tr>\n",
              "      <th>9</th>\n",
              "      <td>C:\\Users\\user\\OneDrive\\Escritorio\\Vacas\\Caras\\...</td>\n",
              "      <td>s8816</td>\n",
              "    </tr>\n",
              "    <tr>\n",
              "      <th>10</th>\n",
              "      <td>C:\\Users\\user\\OneDrive\\Escritorio\\Vacas\\Caras\\...</td>\n",
              "      <td>s8816</td>\n",
              "    </tr>\n",
              "    <tr>\n",
              "      <th>11</th>\n",
              "      <td>C:\\Users\\user\\OneDrive\\Escritorio\\Vacas\\Caras\\...</td>\n",
              "      <td>s8816</td>\n",
              "    </tr>\n",
              "    <tr>\n",
              "      <th>12</th>\n",
              "      <td>C:\\Users\\user\\OneDrive\\Escritorio\\Vacas\\Caras\\...</td>\n",
              "      <td>s8816</td>\n",
              "    </tr>\n",
              "    <tr>\n",
              "      <th>13</th>\n",
              "      <td>C:\\Users\\user\\OneDrive\\Escritorio\\Vacas\\Caras\\...</td>\n",
              "      <td>sn15</td>\n",
              "    </tr>\n",
              "    <tr>\n",
              "      <th>14</th>\n",
              "      <td>C:\\Users\\user\\OneDrive\\Escritorio\\Vacas\\Caras\\...</td>\n",
              "      <td>sn15</td>\n",
              "    </tr>\n",
              "    <tr>\n",
              "      <th>15</th>\n",
              "      <td>C:\\Users\\user\\OneDrive\\Escritorio\\Vacas\\Caras\\...</td>\n",
              "      <td>sn15</td>\n",
              "    </tr>\n",
              "    <tr>\n",
              "      <th>16</th>\n",
              "      <td>C:\\Users\\user\\OneDrive\\Escritorio\\Vacas\\Caras\\...</td>\n",
              "      <td>sn15</td>\n",
              "    </tr>\n",
              "  </tbody>\n",
              "</table>\n",
              "</div>"
            ],
            "text/plain": [
              "                                             filepath  label\n",
              "0   C:\\Users\\user\\OneDrive\\Escritorio\\Vacas\\Caras\\...  s1877\n",
              "1   C:\\Users\\user\\OneDrive\\Escritorio\\Vacas\\Caras\\...  s1877\n",
              "2   C:\\Users\\user\\OneDrive\\Escritorio\\Vacas\\Caras\\...  s1877\n",
              "3   C:\\Users\\user\\OneDrive\\Escritorio\\Vacas\\Caras\\...  s1877\n",
              "4   C:\\Users\\user\\OneDrive\\Escritorio\\Vacas\\Caras\\...  s1877\n",
              "5   C:\\Users\\user\\OneDrive\\Escritorio\\Vacas\\Caras\\...  s1918\n",
              "6   C:\\Users\\user\\OneDrive\\Escritorio\\Vacas\\Caras\\...  s1918\n",
              "7   C:\\Users\\user\\OneDrive\\Escritorio\\Vacas\\Caras\\...  s1918\n",
              "8   C:\\Users\\user\\OneDrive\\Escritorio\\Vacas\\Caras\\...  s1918\n",
              "9   C:\\Users\\user\\OneDrive\\Escritorio\\Vacas\\Caras\\...  s8816\n",
              "10  C:\\Users\\user\\OneDrive\\Escritorio\\Vacas\\Caras\\...  s8816\n",
              "11  C:\\Users\\user\\OneDrive\\Escritorio\\Vacas\\Caras\\...  s8816\n",
              "12  C:\\Users\\user\\OneDrive\\Escritorio\\Vacas\\Caras\\...  s8816\n",
              "13  C:\\Users\\user\\OneDrive\\Escritorio\\Vacas\\Caras\\...   sn15\n",
              "14  C:\\Users\\user\\OneDrive\\Escritorio\\Vacas\\Caras\\...   sn15\n",
              "15  C:\\Users\\user\\OneDrive\\Escritorio\\Vacas\\Caras\\...   sn15\n",
              "16  C:\\Users\\user\\OneDrive\\Escritorio\\Vacas\\Caras\\...   sn15"
            ]
          },
          "execution_count": 56,
          "metadata": {},
          "output_type": "execute_result"
        }
      ],
      "source": [
        "unkonwn_df"
      ]
    },
    {
      "cell_type": "markdown",
      "metadata": {},
      "source": [
        "# Entrenamiento Inception"
      ]
    },
    {
      "cell_type": "code",
      "execution_count": 44,
      "metadata": {},
      "outputs": [
        {
          "name": "stderr",
          "output_type": "stream",
          "text": [
            "Epochs:   1%|          | 1/100 [00:38<1:03:08, 38.27s/it]"
          ]
        },
        {
          "name": "stdout",
          "output_type": "stream",
          "text": [
            "Epoch 1: LR=3.91e-07 — Train Loss=0.9436 — Val Loss=0.8526\n"
          ]
        },
        {
          "name": "stderr",
          "output_type": "stream",
          "text": [
            "Epochs:   2%|▏         | 2/100 [01:16<1:02:20, 38.17s/it]"
          ]
        },
        {
          "name": "stdout",
          "output_type": "stream",
          "text": [
            "Epoch 2: LR=3.91e-07 — Train Loss=0.9438 — Val Loss=0.8559\n"
          ]
        },
        {
          "name": "stderr",
          "output_type": "stream",
          "text": [
            "Epochs:   3%|▎         | 3/100 [01:54<1:01:41, 38.16s/it]"
          ]
        },
        {
          "name": "stdout",
          "output_type": "stream",
          "text": [
            "Epoch 3: LR=3.91e-07 — Train Loss=0.9476 — Val Loss=0.8644\n"
          ]
        },
        {
          "name": "stderr",
          "output_type": "stream",
          "text": [
            "Epochs:   4%|▍         | 4/100 [02:32<1:01:08, 38.22s/it]"
          ]
        },
        {
          "name": "stdout",
          "output_type": "stream",
          "text": [
            "Epoch 4: LR=3.91e-07 — Train Loss=0.9414 — Val Loss=0.8660\n"
          ]
        },
        {
          "name": "stderr",
          "output_type": "stream",
          "text": [
            "Epochs:   5%|▌         | 5/100 [03:10<1:00:26, 38.18s/it]"
          ]
        },
        {
          "name": "stdout",
          "output_type": "stream",
          "text": [
            "Epoch 5: LR=3.91e-07 — Train Loss=0.9449 — Val Loss=0.8645\n"
          ]
        },
        {
          "name": "stderr",
          "output_type": "stream",
          "text": [
            "Epochs:   6%|▌         | 6/100 [03:48<59:44, 38.13s/it]  "
          ]
        },
        {
          "name": "stdout",
          "output_type": "stream",
          "text": [
            "Epoch 6: LR=3.91e-07 — Train Loss=0.9444 — Val Loss=0.8605\n"
          ]
        },
        {
          "name": "stderr",
          "output_type": "stream",
          "text": [
            "Epochs:   7%|▋         | 7/100 [04:27<59:06, 38.14s/it]"
          ]
        },
        {
          "name": "stdout",
          "output_type": "stream",
          "text": [
            "Epoch 7: LR=1.95e-07 — Train Loss=0.9456 — Val Loss=0.8597\n"
          ]
        },
        {
          "name": "stderr",
          "output_type": "stream",
          "text": [
            "Epochs:   8%|▊         | 8/100 [05:05<58:28, 38.14s/it]"
          ]
        },
        {
          "name": "stdout",
          "output_type": "stream",
          "text": [
            "Epoch 8: LR=1.95e-07 — Train Loss=0.9438 — Val Loss=0.8600\n"
          ]
        },
        {
          "name": "stderr",
          "output_type": "stream",
          "text": [
            "Epochs:   9%|▉         | 9/100 [05:43<57:49, 38.13s/it]"
          ]
        },
        {
          "name": "stdout",
          "output_type": "stream",
          "text": [
            "Epoch 9: LR=1.95e-07 — Train Loss=0.9493 — Val Loss=0.8546\n"
          ]
        },
        {
          "name": "stderr",
          "output_type": "stream",
          "text": [
            "Epochs:  10%|█         | 10/100 [06:21<57:08, 38.10s/it]"
          ]
        },
        {
          "name": "stdout",
          "output_type": "stream",
          "text": [
            "Epoch 10: LR=1.95e-07 — Train Loss=0.9440 — Val Loss=0.8609\n"
          ]
        },
        {
          "name": "stderr",
          "output_type": "stream",
          "text": [
            "Epochs:  11%|█         | 11/100 [06:59<56:28, 38.07s/it]"
          ]
        },
        {
          "name": "stdout",
          "output_type": "stream",
          "text": [
            "Epoch 11: LR=1.95e-07 — Train Loss=0.9522 — Val Loss=0.8576\n"
          ]
        },
        {
          "name": "stderr",
          "output_type": "stream",
          "text": [
            "Epochs:  12%|█▏        | 12/100 [07:37<55:50, 38.08s/it]"
          ]
        },
        {
          "name": "stdout",
          "output_type": "stream",
          "text": [
            "Epoch 12: LR=1.95e-07 — Train Loss=0.9440 — Val Loss=0.8541\n"
          ]
        },
        {
          "name": "stderr",
          "output_type": "stream",
          "text": [
            "Epochs:  13%|█▎        | 13/100 [08:15<55:12, 38.08s/it]"
          ]
        },
        {
          "name": "stdout",
          "output_type": "stream",
          "text": [
            "Epoch 13: LR=9.77e-08 — Train Loss=0.9431 — Val Loss=0.8632\n"
          ]
        },
        {
          "name": "stderr",
          "output_type": "stream",
          "text": [
            "Epochs:  14%|█▍        | 14/100 [08:53<54:37, 38.11s/it]"
          ]
        },
        {
          "name": "stdout",
          "output_type": "stream",
          "text": [
            "Epoch 14: LR=9.77e-08 — Train Loss=0.9479 — Val Loss=0.8654\n"
          ]
        },
        {
          "name": "stderr",
          "output_type": "stream",
          "text": [
            "Epochs:  15%|█▌        | 15/100 [09:31<54:01, 38.13s/it]"
          ]
        },
        {
          "name": "stdout",
          "output_type": "stream",
          "text": [
            "Epoch 15: LR=9.77e-08 — Train Loss=0.9432 — Val Loss=0.8627\n"
          ]
        },
        {
          "name": "stderr",
          "output_type": "stream",
          "text": [
            "Epochs:  16%|█▌        | 16/100 [10:10<53:23, 38.13s/it]"
          ]
        },
        {
          "name": "stdout",
          "output_type": "stream",
          "text": [
            "Epoch 16: LR=9.77e-08 — Train Loss=0.9473 — Val Loss=0.8596\n"
          ]
        },
        {
          "name": "stderr",
          "output_type": "stream",
          "text": [
            "Epochs:  17%|█▋        | 17/100 [10:48<52:46, 38.15s/it]"
          ]
        },
        {
          "name": "stdout",
          "output_type": "stream",
          "text": [
            "Epoch 17: LR=9.77e-08 — Train Loss=0.9460 — Val Loss=0.8511\n"
          ]
        },
        {
          "name": "stderr",
          "output_type": "stream",
          "text": [
            "Epochs:  18%|█▊        | 18/100 [11:26<52:08, 38.16s/it]"
          ]
        },
        {
          "name": "stdout",
          "output_type": "stream",
          "text": [
            "Epoch 18: LR=9.77e-08 — Train Loss=0.9450 — Val Loss=0.8695\n"
          ]
        },
        {
          "name": "stderr",
          "output_type": "stream",
          "text": [
            "Epochs:  19%|█▉        | 19/100 [12:04<51:27, 38.12s/it]"
          ]
        },
        {
          "name": "stdout",
          "output_type": "stream",
          "text": [
            "Epoch 19: LR=4.88e-08 — Train Loss=0.9462 — Val Loss=0.8555\n"
          ]
        },
        {
          "name": "stderr",
          "output_type": "stream",
          "text": [
            "Epochs:  20%|██        | 20/100 [12:42<50:45, 38.06s/it]"
          ]
        },
        {
          "name": "stdout",
          "output_type": "stream",
          "text": [
            "Epoch 20: LR=4.88e-08 — Train Loss=0.9448 — Val Loss=0.8559\n"
          ]
        },
        {
          "name": "stderr",
          "output_type": "stream",
          "text": [
            "Epochs:  21%|██        | 21/100 [13:20<50:03, 38.02s/it]"
          ]
        },
        {
          "name": "stdout",
          "output_type": "stream",
          "text": [
            "Epoch 21: LR=4.88e-08 — Train Loss=0.9453 — Val Loss=0.8517\n"
          ]
        },
        {
          "name": "stderr",
          "output_type": "stream",
          "text": [
            "Epochs:  22%|██▏       | 22/100 [13:58<49:27, 38.04s/it]"
          ]
        },
        {
          "name": "stdout",
          "output_type": "stream",
          "text": [
            "Epoch 22: LR=4.88e-08 — Train Loss=0.9451 — Val Loss=0.8654\n"
          ]
        },
        {
          "name": "stderr",
          "output_type": "stream",
          "text": [
            "Epochs:  23%|██▎       | 23/100 [14:36<48:48, 38.04s/it]"
          ]
        },
        {
          "name": "stdout",
          "output_type": "stream",
          "text": [
            "Epoch 23: LR=4.88e-08 — Train Loss=0.9442 — Val Loss=0.8540\n"
          ]
        },
        {
          "name": "stderr",
          "output_type": "stream",
          "text": [
            "Epochs:  24%|██▍       | 24/100 [15:14<48:13, 38.08s/it]"
          ]
        },
        {
          "name": "stdout",
          "output_type": "stream",
          "text": [
            "Epoch 24: LR=4.88e-08 — Train Loss=0.9458 — Val Loss=0.8655\n"
          ]
        },
        {
          "name": "stderr",
          "output_type": "stream",
          "text": [
            "Epochs:  25%|██▌       | 25/100 [15:52<47:37, 38.11s/it]"
          ]
        },
        {
          "name": "stdout",
          "output_type": "stream",
          "text": [
            "Epoch 25: LR=2.44e-08 — Train Loss=0.9446 — Val Loss=0.8554\n"
          ]
        },
        {
          "name": "stderr",
          "output_type": "stream",
          "text": [
            "Epochs:  26%|██▌       | 26/100 [16:30<46:59, 38.10s/it]"
          ]
        },
        {
          "name": "stdout",
          "output_type": "stream",
          "text": [
            "Epoch 26: LR=2.44e-08 — Train Loss=0.9476 — Val Loss=0.8621\n"
          ]
        },
        {
          "name": "stderr",
          "output_type": "stream",
          "text": [
            "Epochs:  27%|██▋       | 27/100 [17:09<46:22, 38.11s/it]"
          ]
        },
        {
          "name": "stdout",
          "output_type": "stream",
          "text": [
            "Epoch 27: LR=2.44e-08 — Train Loss=0.9428 — Val Loss=0.8588\n"
          ]
        },
        {
          "name": "stderr",
          "output_type": "stream",
          "text": [
            "Epochs:  28%|██▊       | 28/100 [17:47<45:48, 38.17s/it]"
          ]
        },
        {
          "name": "stdout",
          "output_type": "stream",
          "text": [
            "Epoch 28: LR=2.44e-08 — Train Loss=0.9452 — Val Loss=0.8604\n"
          ]
        },
        {
          "name": "stderr",
          "output_type": "stream",
          "text": [
            "Epochs:  29%|██▉       | 29/100 [18:25<45:05, 38.11s/it]"
          ]
        },
        {
          "name": "stdout",
          "output_type": "stream",
          "text": [
            "Epoch 29: LR=2.44e-08 — Train Loss=0.9477 — Val Loss=0.8622\n"
          ]
        },
        {
          "name": "stderr",
          "output_type": "stream",
          "text": [
            "Epochs:  30%|███       | 30/100 [19:03<44:28, 38.12s/it]"
          ]
        },
        {
          "name": "stdout",
          "output_type": "stream",
          "text": [
            "Epoch 30: LR=2.44e-08 — Train Loss=0.9503 — Val Loss=0.8553\n"
          ]
        },
        {
          "name": "stderr",
          "output_type": "stream",
          "text": [
            "Epochs:  31%|███       | 31/100 [19:41<43:49, 38.11s/it]"
          ]
        },
        {
          "name": "stdout",
          "output_type": "stream",
          "text": [
            "Epoch 31: LR=1.22e-08 — Train Loss=0.9476 — Val Loss=0.8610\n"
          ]
        },
        {
          "name": "stderr",
          "output_type": "stream",
          "text": [
            "Epochs:  32%|███▏      | 32/100 [20:19<43:10, 38.10s/it]"
          ]
        },
        {
          "name": "stdout",
          "output_type": "stream",
          "text": [
            "Epoch 32: LR=1.22e-08 — Train Loss=0.9439 — Val Loss=0.8699\n"
          ]
        },
        {
          "name": "stderr",
          "output_type": "stream",
          "text": [
            "Epochs:  33%|███▎      | 33/100 [20:57<42:32, 38.09s/it]"
          ]
        },
        {
          "name": "stdout",
          "output_type": "stream",
          "text": [
            "Epoch 33: LR=1.22e-08 — Train Loss=0.9408 — Val Loss=0.8569\n"
          ]
        },
        {
          "name": "stderr",
          "output_type": "stream",
          "text": [
            "Epochs:  34%|███▍      | 34/100 [21:35<41:54, 38.11s/it]"
          ]
        },
        {
          "name": "stdout",
          "output_type": "stream",
          "text": [
            "Epoch 34: LR=1.22e-08 — Train Loss=0.9429 — Val Loss=0.8585\n"
          ]
        },
        {
          "name": "stderr",
          "output_type": "stream",
          "text": [
            "Epochs:  35%|███▌      | 35/100 [22:13<41:16, 38.10s/it]"
          ]
        },
        {
          "name": "stdout",
          "output_type": "stream",
          "text": [
            "Epoch 35: LR=1.22e-08 — Train Loss=0.9425 — Val Loss=0.8649\n"
          ]
        },
        {
          "name": "stderr",
          "output_type": "stream",
          "text": [
            "Epochs:  36%|███▌      | 36/100 [22:51<40:38, 38.10s/it]"
          ]
        },
        {
          "name": "stdout",
          "output_type": "stream",
          "text": [
            "Epoch 36: LR=1.22e-08 — Train Loss=0.9451 — Val Loss=0.8606\n"
          ]
        },
        {
          "name": "stderr",
          "output_type": "stream",
          "text": [
            "Epochs:  37%|███▋      | 37/100 [23:30<40:00, 38.11s/it]"
          ]
        },
        {
          "name": "stdout",
          "output_type": "stream",
          "text": [
            "Epoch 37: LR=1.22e-08 — Train Loss=0.9433 — Val Loss=0.8661\n"
          ]
        },
        {
          "name": "stderr",
          "output_type": "stream",
          "text": [
            "Epochs:  38%|███▊      | 38/100 [24:08<39:23, 38.11s/it]"
          ]
        },
        {
          "name": "stdout",
          "output_type": "stream",
          "text": [
            "Epoch 38: LR=1.22e-08 — Train Loss=0.9471 — Val Loss=0.8599\n"
          ]
        },
        {
          "name": "stderr",
          "output_type": "stream",
          "text": [
            "Epochs:  39%|███▉      | 39/100 [24:46<38:43, 38.09s/it]"
          ]
        },
        {
          "name": "stdout",
          "output_type": "stream",
          "text": [
            "Epoch 39: LR=1.22e-08 — Train Loss=0.9498 — Val Loss=0.8662\n"
          ]
        },
        {
          "name": "stderr",
          "output_type": "stream",
          "text": [
            "Epochs:  40%|████      | 40/100 [25:24<38:04, 38.08s/it]"
          ]
        },
        {
          "name": "stdout",
          "output_type": "stream",
          "text": [
            "Epoch 40: LR=1.22e-08 — Train Loss=0.9462 — Val Loss=0.8587\n"
          ]
        },
        {
          "name": "stderr",
          "output_type": "stream",
          "text": [
            "Epochs:  41%|████      | 41/100 [26:02<37:27, 38.09s/it]"
          ]
        },
        {
          "name": "stdout",
          "output_type": "stream",
          "text": [
            "Epoch 41: LR=1.22e-08 — Train Loss=0.9441 — Val Loss=0.8654\n"
          ]
        },
        {
          "name": "stderr",
          "output_type": "stream",
          "text": [
            "Epochs:  42%|████▏     | 42/100 [26:40<36:50, 38.11s/it]"
          ]
        },
        {
          "name": "stdout",
          "output_type": "stream",
          "text": [
            "Epoch 42: LR=1.22e-08 — Train Loss=0.9484 — Val Loss=0.8635\n"
          ]
        },
        {
          "name": "stderr",
          "output_type": "stream",
          "text": [
            "Epochs:  43%|████▎     | 43/100 [27:18<36:12, 38.11s/it]"
          ]
        },
        {
          "name": "stdout",
          "output_type": "stream",
          "text": [
            "Epoch 43: LR=1.22e-08 — Train Loss=0.9478 — Val Loss=0.8619\n"
          ]
        },
        {
          "name": "stderr",
          "output_type": "stream",
          "text": [
            "Epochs:  44%|████▍     | 44/100 [27:56<35:33, 38.09s/it]"
          ]
        },
        {
          "name": "stdout",
          "output_type": "stream",
          "text": [
            "Epoch 44: LR=1.22e-08 — Train Loss=0.9478 — Val Loss=0.8659\n"
          ]
        },
        {
          "name": "stderr",
          "output_type": "stream",
          "text": [
            "Epochs:  45%|████▌     | 45/100 [28:34<34:56, 38.12s/it]"
          ]
        },
        {
          "name": "stdout",
          "output_type": "stream",
          "text": [
            "Epoch 45: LR=1.22e-08 — Train Loss=0.9504 — Val Loss=0.8600\n"
          ]
        },
        {
          "name": "stderr",
          "output_type": "stream",
          "text": [
            "Epochs:  46%|████▌     | 46/100 [29:13<34:18, 38.12s/it]"
          ]
        },
        {
          "name": "stdout",
          "output_type": "stream",
          "text": [
            "Epoch 46: LR=1.22e-08 — Train Loss=0.9408 — Val Loss=0.8654\n"
          ]
        },
        {
          "name": "stderr",
          "output_type": "stream",
          "text": [
            "Epochs:  47%|████▋     | 47/100 [29:51<33:38, 38.09s/it]"
          ]
        },
        {
          "name": "stdout",
          "output_type": "stream",
          "text": [
            "Epoch 47: LR=1.22e-08 — Train Loss=0.9476 — Val Loss=0.8585\n"
          ]
        },
        {
          "name": "stderr",
          "output_type": "stream",
          "text": [
            "Epochs:  48%|████▊     | 48/100 [30:29<32:58, 38.05s/it]"
          ]
        },
        {
          "name": "stdout",
          "output_type": "stream",
          "text": [
            "Epoch 48: LR=1.22e-08 — Train Loss=0.9431 — Val Loss=0.8574\n"
          ]
        },
        {
          "name": "stderr",
          "output_type": "stream",
          "text": [
            "Epochs:  49%|████▉     | 49/100 [31:07<32:21, 38.06s/it]"
          ]
        },
        {
          "name": "stdout",
          "output_type": "stream",
          "text": [
            "Epoch 49: LR=1.22e-08 — Train Loss=0.9456 — Val Loss=0.8605\n"
          ]
        },
        {
          "name": "stderr",
          "output_type": "stream",
          "text": [
            "Epochs:  50%|█████     | 50/100 [31:45<31:43, 38.08s/it]"
          ]
        },
        {
          "name": "stdout",
          "output_type": "stream",
          "text": [
            "Epoch 50: LR=1.22e-08 — Train Loss=0.9414 — Val Loss=0.8638\n"
          ]
        },
        {
          "name": "stderr",
          "output_type": "stream",
          "text": [
            "Epochs:  51%|█████     | 51/100 [32:23<31:07, 38.11s/it]"
          ]
        },
        {
          "name": "stdout",
          "output_type": "stream",
          "text": [
            "Epoch 51: LR=1.22e-08 — Train Loss=0.9448 — Val Loss=0.8475\n"
          ]
        },
        {
          "name": "stderr",
          "output_type": "stream",
          "text": [
            "Epochs:  52%|█████▏    | 52/100 [33:01<30:29, 38.11s/it]"
          ]
        },
        {
          "name": "stdout",
          "output_type": "stream",
          "text": [
            "Epoch 52: LR=1.22e-08 — Train Loss=0.9455 — Val Loss=0.8664\n"
          ]
        },
        {
          "name": "stderr",
          "output_type": "stream",
          "text": [
            "Epochs:  53%|█████▎    | 53/100 [33:39<29:51, 38.12s/it]"
          ]
        },
        {
          "name": "stdout",
          "output_type": "stream",
          "text": [
            "Epoch 53: LR=1.22e-08 — Train Loss=0.9513 — Val Loss=0.8638\n"
          ]
        },
        {
          "name": "stderr",
          "output_type": "stream",
          "text": [
            "Epochs:  54%|█████▍    | 54/100 [34:17<29:14, 38.14s/it]"
          ]
        },
        {
          "name": "stdout",
          "output_type": "stream",
          "text": [
            "Epoch 54: LR=1.22e-08 — Train Loss=0.9439 — Val Loss=0.8581\n"
          ]
        },
        {
          "name": "stderr",
          "output_type": "stream",
          "text": [
            "Epochs:  55%|█████▌    | 55/100 [34:56<28:38, 38.20s/it]"
          ]
        },
        {
          "name": "stdout",
          "output_type": "stream",
          "text": [
            "Epoch 55: LR=1.22e-08 — Train Loss=0.9494 — Val Loss=0.8549\n"
          ]
        },
        {
          "name": "stderr",
          "output_type": "stream",
          "text": [
            "Epochs:  56%|█████▌    | 56/100 [35:34<27:59, 38.17s/it]"
          ]
        },
        {
          "name": "stdout",
          "output_type": "stream",
          "text": [
            "Epoch 56: LR=1.22e-08 — Train Loss=0.9440 — Val Loss=0.8619\n"
          ]
        },
        {
          "name": "stderr",
          "output_type": "stream",
          "text": [
            "Epochs:  57%|█████▋    | 57/100 [36:12<27:19, 38.14s/it]"
          ]
        },
        {
          "name": "stdout",
          "output_type": "stream",
          "text": [
            "Epoch 57: LR=1.22e-08 — Train Loss=0.9508 — Val Loss=0.8585\n"
          ]
        },
        {
          "name": "stderr",
          "output_type": "stream",
          "text": [
            "Epochs:  58%|█████▊    | 58/100 [36:50<26:39, 38.08s/it]"
          ]
        },
        {
          "name": "stdout",
          "output_type": "stream",
          "text": [
            "Epoch 58: LR=1.22e-08 — Train Loss=0.9527 — Val Loss=0.8708\n"
          ]
        },
        {
          "name": "stderr",
          "output_type": "stream",
          "text": [
            "Epochs:  59%|█████▉    | 59/100 [37:28<25:59, 38.05s/it]"
          ]
        },
        {
          "name": "stdout",
          "output_type": "stream",
          "text": [
            "Epoch 59: LR=1.22e-08 — Train Loss=0.9501 — Val Loss=0.8655\n"
          ]
        },
        {
          "name": "stderr",
          "output_type": "stream",
          "text": [
            "Epochs:  60%|██████    | 60/100 [38:06<25:21, 38.05s/it]"
          ]
        },
        {
          "name": "stdout",
          "output_type": "stream",
          "text": [
            "Epoch 60: LR=1.22e-08 — Train Loss=0.9488 — Val Loss=0.8692\n"
          ]
        },
        {
          "name": "stderr",
          "output_type": "stream",
          "text": [
            "Epochs:  61%|██████    | 61/100 [38:44<24:44, 38.06s/it]"
          ]
        },
        {
          "name": "stdout",
          "output_type": "stream",
          "text": [
            "Epoch 61: LR=1.22e-08 — Train Loss=0.9456 — Val Loss=0.8653\n"
          ]
        },
        {
          "name": "stderr",
          "output_type": "stream",
          "text": [
            "Epochs:  62%|██████▏   | 62/100 [39:22<24:07, 38.08s/it]"
          ]
        },
        {
          "name": "stdout",
          "output_type": "stream",
          "text": [
            "Epoch 62: LR=1.22e-08 — Train Loss=0.9433 — Val Loss=0.8608\n"
          ]
        },
        {
          "name": "stderr",
          "output_type": "stream",
          "text": [
            "Epochs:  63%|██████▎   | 63/100 [40:00<23:29, 38.10s/it]"
          ]
        },
        {
          "name": "stdout",
          "output_type": "stream",
          "text": [
            "Epoch 63: LR=1.22e-08 — Train Loss=0.9432 — Val Loss=0.8593\n"
          ]
        },
        {
          "name": "stderr",
          "output_type": "stream",
          "text": [
            "Epochs:  64%|██████▍   | 64/100 [40:38<22:52, 38.12s/it]"
          ]
        },
        {
          "name": "stdout",
          "output_type": "stream",
          "text": [
            "Epoch 64: LR=1.22e-08 — Train Loss=0.9449 — Val Loss=0.8641\n"
          ]
        },
        {
          "name": "stderr",
          "output_type": "stream",
          "text": [
            "Epochs:  65%|██████▌   | 65/100 [41:17<22:14, 38.12s/it]"
          ]
        },
        {
          "name": "stdout",
          "output_type": "stream",
          "text": [
            "Epoch 65: LR=1.22e-08 — Train Loss=0.9443 — Val Loss=0.8599\n"
          ]
        },
        {
          "name": "stderr",
          "output_type": "stream",
          "text": [
            "Epochs:  66%|██████▌   | 66/100 [41:55<21:36, 38.13s/it]"
          ]
        },
        {
          "name": "stdout",
          "output_type": "stream",
          "text": [
            "Epoch 66: LR=1.22e-08 — Train Loss=0.9433 — Val Loss=0.8587\n"
          ]
        },
        {
          "name": "stderr",
          "output_type": "stream",
          "text": [
            "Epochs:  67%|██████▋   | 67/100 [42:33<20:58, 38.13s/it]"
          ]
        },
        {
          "name": "stdout",
          "output_type": "stream",
          "text": [
            "Epoch 67: LR=1.22e-08 — Train Loss=0.9411 — Val Loss=0.8645\n"
          ]
        },
        {
          "name": "stderr",
          "output_type": "stream",
          "text": [
            "Epochs:  68%|██████▊   | 68/100 [43:11<20:19, 38.10s/it]"
          ]
        },
        {
          "name": "stdout",
          "output_type": "stream",
          "text": [
            "Epoch 68: LR=1.22e-08 — Train Loss=0.9408 — Val Loss=0.8645\n"
          ]
        },
        {
          "name": "stderr",
          "output_type": "stream",
          "text": [
            "Epochs:  69%|██████▉   | 69/100 [43:49<19:41, 38.10s/it]"
          ]
        },
        {
          "name": "stdout",
          "output_type": "stream",
          "text": [
            "Epoch 69: LR=1.22e-08 — Train Loss=0.9456 — Val Loss=0.8599\n"
          ]
        },
        {
          "name": "stderr",
          "output_type": "stream",
          "text": [
            "Epochs:  70%|███████   | 70/100 [44:27<19:02, 38.08s/it]"
          ]
        },
        {
          "name": "stdout",
          "output_type": "stream",
          "text": [
            "Epoch 70: LR=1.22e-08 — Train Loss=0.9482 — Val Loss=0.8666\n"
          ]
        },
        {
          "name": "stderr",
          "output_type": "stream",
          "text": [
            "Epochs:  71%|███████   | 71/100 [45:05<18:24, 38.08s/it]"
          ]
        },
        {
          "name": "stdout",
          "output_type": "stream",
          "text": [
            "Epoch 71: LR=1.22e-08 — Train Loss=0.9420 — Val Loss=0.8693\n"
          ]
        },
        {
          "name": "stderr",
          "output_type": "stream",
          "text": [
            "Epochs:  72%|███████▏  | 72/100 [45:43<17:45, 38.05s/it]"
          ]
        },
        {
          "name": "stdout",
          "output_type": "stream",
          "text": [
            "Epoch 72: LR=1.22e-08 — Train Loss=0.9459 — Val Loss=0.8545\n"
          ]
        },
        {
          "name": "stderr",
          "output_type": "stream",
          "text": [
            "Epochs:  73%|███████▎  | 73/100 [46:21<17:06, 38.02s/it]"
          ]
        },
        {
          "name": "stdout",
          "output_type": "stream",
          "text": [
            "Epoch 73: LR=1.22e-08 — Train Loss=0.9462 — Val Loss=0.8623\n"
          ]
        },
        {
          "name": "stderr",
          "output_type": "stream",
          "text": [
            "Epochs:  74%|███████▍  | 74/100 [46:59<16:28, 38.02s/it]"
          ]
        },
        {
          "name": "stdout",
          "output_type": "stream",
          "text": [
            "Epoch 74: LR=1.22e-08 — Train Loss=0.9473 — Val Loss=0.8610\n"
          ]
        },
        {
          "name": "stderr",
          "output_type": "stream",
          "text": [
            "Epochs:  75%|███████▌  | 75/100 [47:37<15:51, 38.06s/it]"
          ]
        },
        {
          "name": "stdout",
          "output_type": "stream",
          "text": [
            "Epoch 75: LR=1.22e-08 — Train Loss=0.9438 — Val Loss=0.8593\n"
          ]
        },
        {
          "name": "stderr",
          "output_type": "stream",
          "text": [
            "Epochs:  76%|███████▌  | 76/100 [48:15<15:14, 38.10s/it]"
          ]
        },
        {
          "name": "stdout",
          "output_type": "stream",
          "text": [
            "Epoch 76: LR=1.22e-08 — Train Loss=0.9490 — Val Loss=0.8648\n"
          ]
        },
        {
          "name": "stderr",
          "output_type": "stream",
          "text": [
            "Epochs:  77%|███████▋  | 77/100 [48:53<14:36, 38.09s/it]"
          ]
        },
        {
          "name": "stdout",
          "output_type": "stream",
          "text": [
            "Epoch 77: LR=1.22e-08 — Train Loss=0.9465 — Val Loss=0.8661\n"
          ]
        },
        {
          "name": "stderr",
          "output_type": "stream",
          "text": [
            "Epochs:  78%|███████▊  | 78/100 [49:32<13:58, 38.11s/it]"
          ]
        },
        {
          "name": "stdout",
          "output_type": "stream",
          "text": [
            "Epoch 78: LR=1.22e-08 — Train Loss=0.9473 — Val Loss=0.8643\n"
          ]
        },
        {
          "name": "stderr",
          "output_type": "stream",
          "text": [
            "Epochs:  79%|███████▉  | 79/100 [50:10<13:20, 38.12s/it]"
          ]
        },
        {
          "name": "stdout",
          "output_type": "stream",
          "text": [
            "Epoch 79: LR=1.22e-08 — Train Loss=0.9448 — Val Loss=0.8660\n"
          ]
        },
        {
          "name": "stderr",
          "output_type": "stream",
          "text": [
            "Epochs:  80%|████████  | 80/100 [50:48<12:42, 38.13s/it]"
          ]
        },
        {
          "name": "stdout",
          "output_type": "stream",
          "text": [
            "Epoch 80: LR=1.22e-08 — Train Loss=0.9407 — Val Loss=0.8660\n"
          ]
        },
        {
          "name": "stderr",
          "output_type": "stream",
          "text": [
            "Epochs:  81%|████████  | 81/100 [51:26<12:04, 38.14s/it]"
          ]
        },
        {
          "name": "stdout",
          "output_type": "stream",
          "text": [
            "Epoch 81: LR=1.22e-08 — Train Loss=0.9423 — Val Loss=0.8611\n"
          ]
        },
        {
          "name": "stderr",
          "output_type": "stream",
          "text": [
            "Epochs:  82%|████████▏ | 82/100 [52:04<11:26, 38.11s/it]"
          ]
        },
        {
          "name": "stdout",
          "output_type": "stream",
          "text": [
            "Epoch 82: LR=1.22e-08 — Train Loss=0.9438 — Val Loss=0.8660\n"
          ]
        },
        {
          "name": "stderr",
          "output_type": "stream",
          "text": [
            "Epochs:  83%|████████▎ | 83/100 [52:42<10:48, 38.14s/it]"
          ]
        },
        {
          "name": "stdout",
          "output_type": "stream",
          "text": [
            "Epoch 83: LR=1.22e-08 — Train Loss=0.9448 — Val Loss=0.8581\n"
          ]
        },
        {
          "name": "stderr",
          "output_type": "stream",
          "text": [
            "Epochs:  84%|████████▍ | 84/100 [53:20<10:10, 38.15s/it]"
          ]
        },
        {
          "name": "stdout",
          "output_type": "stream",
          "text": [
            "Epoch 84: LR=1.22e-08 — Train Loss=0.9495 — Val Loss=0.8563\n"
          ]
        },
        {
          "name": "stderr",
          "output_type": "stream",
          "text": [
            "Epochs:  85%|████████▌ | 85/100 [53:58<09:31, 38.11s/it]"
          ]
        },
        {
          "name": "stdout",
          "output_type": "stream",
          "text": [
            "Epoch 85: LR=1.22e-08 — Train Loss=0.9417 — Val Loss=0.8528\n"
          ]
        },
        {
          "name": "stderr",
          "output_type": "stream",
          "text": [
            "Epochs:  86%|████████▌ | 86/100 [54:36<08:53, 38.08s/it]"
          ]
        },
        {
          "name": "stdout",
          "output_type": "stream",
          "text": [
            "Epoch 86: LR=1.22e-08 — Train Loss=0.9434 — Val Loss=0.8611\n"
          ]
        },
        {
          "name": "stderr",
          "output_type": "stream",
          "text": [
            "Epochs:  87%|████████▋ | 87/100 [55:15<08:15, 38.09s/it]"
          ]
        },
        {
          "name": "stdout",
          "output_type": "stream",
          "text": [
            "Epoch 87: LR=1.22e-08 — Train Loss=0.9463 — Val Loss=0.8630\n"
          ]
        },
        {
          "name": "stderr",
          "output_type": "stream",
          "text": [
            "Epochs:  88%|████████▊ | 88/100 [55:53<07:37, 38.09s/it]"
          ]
        },
        {
          "name": "stdout",
          "output_type": "stream",
          "text": [
            "Epoch 88: LR=1.22e-08 — Train Loss=0.9476 — Val Loss=0.8589\n"
          ]
        },
        {
          "name": "stderr",
          "output_type": "stream",
          "text": [
            "Epochs:  89%|████████▉ | 89/100 [56:31<06:59, 38.12s/it]"
          ]
        },
        {
          "name": "stdout",
          "output_type": "stream",
          "text": [
            "Epoch 89: LR=1.22e-08 — Train Loss=0.9444 — Val Loss=0.8630\n"
          ]
        },
        {
          "name": "stderr",
          "output_type": "stream",
          "text": [
            "Epochs:  90%|█████████ | 90/100 [57:09<06:21, 38.13s/it]"
          ]
        },
        {
          "name": "stdout",
          "output_type": "stream",
          "text": [
            "Epoch 90: LR=1.22e-08 — Train Loss=0.9423 — Val Loss=0.8576\n"
          ]
        },
        {
          "name": "stderr",
          "output_type": "stream",
          "text": [
            "Epochs:  91%|█████████ | 91/100 [57:47<05:43, 38.14s/it]"
          ]
        },
        {
          "name": "stdout",
          "output_type": "stream",
          "text": [
            "Epoch 91: LR=1.22e-08 — Train Loss=0.9471 — Val Loss=0.8575\n"
          ]
        },
        {
          "name": "stderr",
          "output_type": "stream",
          "text": [
            "Epochs:  92%|█████████▏| 92/100 [58:25<05:05, 38.15s/it]"
          ]
        },
        {
          "name": "stdout",
          "output_type": "stream",
          "text": [
            "Epoch 92: LR=1.22e-08 — Train Loss=0.9425 — Val Loss=0.8632\n"
          ]
        },
        {
          "name": "stderr",
          "output_type": "stream",
          "text": [
            "Epochs:  93%|█████████▎| 93/100 [59:04<04:27, 38.16s/it]"
          ]
        },
        {
          "name": "stdout",
          "output_type": "stream",
          "text": [
            "Epoch 93: LR=1.22e-08 — Train Loss=0.9455 — Val Loss=0.8624\n"
          ]
        },
        {
          "name": "stderr",
          "output_type": "stream",
          "text": [
            "Epochs:  94%|█████████▍| 94/100 [59:42<03:49, 38.17s/it]"
          ]
        },
        {
          "name": "stdout",
          "output_type": "stream",
          "text": [
            "Epoch 94: LR=1.22e-08 — Train Loss=0.9501 — Val Loss=0.8582\n"
          ]
        },
        {
          "name": "stderr",
          "output_type": "stream",
          "text": [
            "Epochs:  95%|█████████▌| 95/100 [1:00:20<03:10, 38.13s/it]"
          ]
        },
        {
          "name": "stdout",
          "output_type": "stream",
          "text": [
            "Epoch 95: LR=1.22e-08 — Train Loss=0.9402 — Val Loss=0.8718\n"
          ]
        },
        {
          "name": "stderr",
          "output_type": "stream",
          "text": [
            "Epochs:  96%|█████████▌| 96/100 [1:00:58<02:32, 38.09s/it]"
          ]
        },
        {
          "name": "stdout",
          "output_type": "stream",
          "text": [
            "Epoch 96: LR=1.22e-08 — Train Loss=0.9475 — Val Loss=0.8615\n"
          ]
        },
        {
          "name": "stderr",
          "output_type": "stream",
          "text": [
            "Epochs:  97%|█████████▋| 97/100 [1:01:36<01:54, 38.09s/it]"
          ]
        },
        {
          "name": "stdout",
          "output_type": "stream",
          "text": [
            "Epoch 97: LR=1.22e-08 — Train Loss=0.9456 — Val Loss=0.8700\n"
          ]
        },
        {
          "name": "stderr",
          "output_type": "stream",
          "text": [
            "Epochs:  98%|█████████▊| 98/100 [1:02:14<01:16, 38.07s/it]"
          ]
        },
        {
          "name": "stdout",
          "output_type": "stream",
          "text": [
            "Epoch 98: LR=1.22e-08 — Train Loss=0.9479 — Val Loss=0.8664\n"
          ]
        },
        {
          "name": "stderr",
          "output_type": "stream",
          "text": [
            "Epochs:  99%|█████████▉| 99/100 [1:02:52<00:38, 38.07s/it]"
          ]
        },
        {
          "name": "stdout",
          "output_type": "stream",
          "text": [
            "Epoch 99: LR=1.22e-08 — Train Loss=0.9453 — Val Loss=0.8593\n"
          ]
        },
        {
          "name": "stderr",
          "output_type": "stream",
          "text": [
            "Epochs: 100%|██████████| 100/100 [1:03:30<00:00, 38.11s/it]"
          ]
        },
        {
          "name": "stdout",
          "output_type": "stream",
          "text": [
            "Epoch 100: LR=1.22e-08 — Train Loss=0.9417 — Val Loss=0.8539\n"
          ]
        },
        {
          "name": "stderr",
          "output_type": "stream",
          "text": [
            "\n"
          ]
        },
        {
          "data": {
            "image/png": "[encoded data removed]",
            "text/plain": [
              "<Figure size 500x500 with 1 Axes>"
            ]
          },
          "metadata": {},
          "output_type": "display_data"
        }
      ],
      "source": [
        "train_dataset, val_dataset, test_dataset, gallery_dataset = get_face_datasets(train_df, val_df, test_df, gallery_df, train_tfms[\"inception\"], eval_tfms[\"inception\"])\n",
        "train_dataloader, val_dataloader, test_dataloader, gallery_dataloader = get_face_dataloaders(train_dataset, val_dataset, test_dataset, gallery_dataset ,  32)\n",
        "ext_inception = InceptionExtractor(k_freeze=2).to(device)\n",
        "embedder_inception = EmbeddingHead(extractor=ext_inception, emb_dim=128).to(device)\n",
        "train_val(embedder_inception , EPOCHS, train_dataloader, val_dataloader, device, optimizer, criterion, scheduler )"
      ]
    },
    {
      "cell_type": "markdown",
      "metadata": {},
      "source": [
        "# Testinginception"
      ]
    },
    {
      "cell_type": "code",
      "execution_count": 46,
      "metadata": {},
      "outputs": [
        {
          "name": "stdout",
          "output_type": "stream",
          "text": [
            "Top-1 Accuracy: 53.98%\n",
            "Top-5 Accuracy: 72.16%\n"
          ]
        }
      ],
      "source": [
        "metrics_inception = evaluate_identification(embedder_inception, gallery_dataloader, test_dataloader, device, topk=(1,5))\n",
        "print(f\"Top-1 Accuracy: {metrics_inception ['top1']:.2%}\")\n",
        "print(f\"Top-5 Accuracy: {metrics_inception ['top5']:.2%}\")"
      ]
    }
  ],
  "metadata": {
    "accelerator": "GPU",
    "colab": {
      "gpuType": "T4",
      "provenance": []
    },
    "kernelspec": {
      "display_name": "base",
      "language": "python",
      "name": "python3"
    },
    "language_info": {
      "codemirror_mode": {
        "name": "ipython",
        "version": 3
      },
      "file_extension": ".py",
      "mimetype": "text/x-python",
      "name": "python",
      "nbconvert_exporter": "python",
      "pygments_lexer": "ipython3",
      "version": "3.12.7"
    }
  },
  "nbformat": 4,
  "nbformat_minor": 0
}
