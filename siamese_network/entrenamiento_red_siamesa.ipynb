{
  "cells": [
    {
      "cell_type": "code",
      "execution_count": 1,
      "metadata": {
        "colab": {
          "base_uri": "https://localhost:8080/"
        },
        "id": "OKbx0JybgATq",
        "outputId": "86b3def4-6578-47b8-9611-63b16f159c7f"
      },
      "outputs": [],
      "source": [
        "import os\n",
        "import pandas as pd\n",
        "from sklearn.model_selection import train_test_split\n",
        "import matplotlib.pyplot as plt\n",
        "import random\n",
        "import cv2"
      ]
    },
    {
      "cell_type": "code",
      "execution_count": null,
      "metadata": {
        "id": "WNzTyK8Agqwr"
      },
      "outputs": [],
      "source": [
        "def mostrar(categories, data_dir, num_imgs_por_clase):\n",
        "    fig, axes = plt.subplots(len(categories), num_imgs_por_clase, figsize=(12, 3 * len(categories)))\n",
        "\n",
        "    for i, category in enumerate(categories):\n",
        "        folder = os.path.join(data_dir, category)\n",
        "        files = os.listdir(folder)\n",
        "        muestras = random.sample(files, num_imgs_por_clase) if len(files) >= num_imgs_por_clase else files\n",
        "\n",
        "        for j in range(len(muestras)):\n",
        "            img_path = os.path.join(folder, muestras[j])\n",
        "            img = cv2.imread(img_path)\n",
        "\n",
        "            ax = axes[i, j] if len(categories) > 1 else axes[j]\n",
        "            ax.imshow(img, cmap=\"gray\", vmin=0, vmax=255)\n",
        "            ax.axis('off')\n",
        "\n",
        "            if j == 1:\n",
        "                ax.set_title(category, fontsize=10)\n",
        "\n",
        "    plt.tight_layout()\n",
        "    plt.show()\n",
        "data_dir = r\"C:\\Users\\user\\OneDrive\\Escritorio\\Vacas\\Caras\"\n",
        "categorias = os.listdir(data_dir)\n",
        "mostrar(categorias, data_dir, 3)"
      ]
    },
    {
      "cell_type": "markdown",
      "metadata": {
        "id": "pd2dHwxZcORC"
      },
      "source": [
        "# Pytorch Dataset"
      ]
    },
    {
      "cell_type": "code",
      "execution_count": 29,
      "metadata": {
        "id": "o_H97RcycMUM"
      },
      "outputs": [],
      "source": [
        "import os\n",
        "import torch\n",
        "import torchvision\n",
        "from torchvision.datasets import ImageFolder\n",
        "from torch.utils.data import DataLoader\n",
        "import matplotlib.pyplot as plt\n",
        "import numpy as np\n",
        "import pandas as pd\n",
        "from PIL import Image\n",
        "import json\n",
        "from torchvision.transforms import transforms\n",
        "import random\n",
        "from torch.utils.data import Dataset\n",
        "\n",
        "def get_df(path, minimo_numero_imagenes):\n",
        "  filepaths = [os.path.join(dp, f) for dp, dn, filenames in os.walk(path)\n",
        "              for f in filenames if os.path.splitext(f)[1].lower() in ['.png','.jpg','.jpeg']]\n",
        "  labels = [os.path.basename(os.path.dirname(path)) for path in filepaths]\n",
        "  df = pd.DataFrame({'filepath': filepaths, 'label': labels})\n",
        "  # se filtran las clases con menos de 11 imagenes par ano tener problemas con la creacion de tripletas\n",
        "  df = df.groupby(\"label\").filter(lambda grp: len(grp) > minimo_numero_imagenes)\n",
        "  # Se crea una galeria para simular un sistema en produccion \n",
        "  gallery_df = (df.groupby('label', group_keys=False).apply(lambda x: x.sample(1, random_state=42)).reset_index(drop=True))\n",
        "  return df, gallery_df\n",
        "\n",
        "def split_df(df, test_val_size, test_size):\n",
        "  train_df, test_val_df = train_test_split(df, test_size=test_val_size, random_state=13)\n",
        "  test_df, val_df = train_test_split(test_val_df, test_size= test_size, random_state=13)\n",
        "  print(\"Total de imágenes:\", len(df))\n",
        "  print(\"Entrenamiento:\", len(train_df))\n",
        "  print(\"Validación:\", len(val_df))\n",
        "  print(\"Test:\", len(test_df))\n",
        "  print(\"Labels: \", df[\"label\"].unique(),\"\\nNumero de clases unicas: \", len(df[\"label\"].unique()))\n",
        "  return train_df, val_df, test_df\n",
        "\n",
        "class CowsTripletsDataset(Dataset):\n",
        "    '''clase para generar un dataset de tripletas ancla, positiva y negativa'''\n",
        "    def __init__(self, df=None,path=None, transform=None):\n",
        "        self.transform = transform\n",
        "        # path original\n",
        "        self.path = path\n",
        "        self.df = df\n",
        "        self.images = self.df['filepath'].values\n",
        "        self.labels = self.df['label'].values\n",
        "        self.index = np.arange(len(self.images))\n",
        "\n",
        "    def __len__(self):\n",
        "      return len(self.images)\n",
        "\n",
        "    def __getitem__(self, item):\n",
        "        ###### Anchor Image #######\n",
        "        anchor_image_path = self.images[item]\n",
        "        anchor_img = Image.open(anchor_image_path)\n",
        "            #### Anchor label #####\n",
        "        anchor_label = self.labels[item]\n",
        "        #### Positive Image ####\n",
        "        ##### Lista de imagenes de la misma clase para obtener el ancla\n",
        "        positive_list = self.index[self.index!=item][self.labels[self.index!=item]==anchor_label]\n",
        "        ##### Se elige una imagen al azar de la misma clase\n",
        "        positive_item = random.choice(positive_list)\n",
        "        positive_image_path = self.images[positive_item]\n",
        "        positive_img = Image.open(positive_image_path)\n",
        "        ######## Negative Image #####\n",
        "        negative_list = self.index[self.index!=item][self.labels[self.index!=item]!=anchor_label]\n",
        "        negative_item = random.choice(negative_list)\n",
        "        negative_image_path = self.images[negative_item]\n",
        "        negative_img = Image.open(negative_image_path)\n",
        "        if self.transform!=None:\n",
        "            anchor_img = self.transform(anchor_img)\n",
        "            positive_img = self.transform(positive_img)\n",
        "            negative_img = self.transform(negative_img)\n",
        "        return anchor_img, positive_img, negative_img, anchor_label\n",
        "    \n",
        "class CowSingle(Dataset):\n",
        "    \"\"\"Devuelve imagen, label  sin trípletas para  test.\"\"\"\n",
        "    def __init__(self, df, transform=None):\n",
        "        self.imgs = df['filepath'].values\n",
        "        self.labs = df['label'].values\n",
        "        self.tf   = transform\n",
        "\n",
        "    def __len__(self): return len(self.imgs)\n",
        "\n",
        "    def __getitem__(self, i):\n",
        "        img = Image.open(self.imgs[i])\n",
        "        if self.tf: img = self.tf(img)\n",
        "        return img, self.labs[i]\n",
        "\n",
        "\n",
        "def get_face_datasets(train_df, val_df, test_df, gallery_df, train_transforms, eval_transforms):\n",
        "  train_dataset = CowsTripletsDataset(df=train_df, transform=train_transforms)\n",
        "  val_dataset = CowsTripletsDataset(df=val_df, transform=eval_transforms)\n",
        "  test_dataset = CowSingle(df=test_df, transform=eval_transforms)\n",
        "  gallery_dataset = CowSingle(df=gallery_df, transform=eval_transforms)\n",
        "  return train_dataset, val_dataset, test_dataset, gallery_dataset\n",
        "\n",
        "def get_face_dataloaders(train_dataset, val_dataset, test_dataset,gallery_dataset,batch_size):\n",
        "  train_dataloader = DataLoader(train_dataset, batch_size=batch_size, shuffle=True)\n",
        "  val_dataloader = DataLoader(val_dataset, batch_size=batch_size, shuffle=False)\n",
        "  test_dataloader = DataLoader(test_dataset, batch_size=batch_size, shuffle=False)\n",
        "  gallery_dataloader = DataLoader(gallery_dataset, batch_size=batch_size, shuffle=False)\n",
        "  return train_dataloader, val_dataloader, test_dataloader, gallery_dataloader\n",
        "\n",
        "\n"
      ]
    },
    {
      "cell_type": "code",
      "execution_count": null,
      "metadata": {
        "colab": {
          "base_uri": "https://localhost:8080/"
        },
        "id": "YR9bVn6BE-3M",
        "outputId": "9448173a-5aa1-40af-a78d-69cf29af4149"
      },
      "outputs": [
        {
          "name": "stdout",
          "output_type": "stream",
          "text": [
            "Total de imágenes: 2348\n",
            "Entrenamiento: 1643\n",
            "Validación: 353\n",
            "Test: 352\n",
            "Labels:  ['02 rojo' '06 rojo' '10 rojo' '14 rojo' '16 rojo' '21 rojo' '23 rojo'\n",
            " '43 rojo' '45 amarillo' '49 rojo' '5 rojo' '53 amarillo' '54 amarillo'\n",
            " '58 amarillo' '60 amarillo' '61 amarillo' '62 amarillo' '622 naranja'\n",
            " '635' '635 naranja' '637 naranja' '638 naranja' '65 amarillo'\n",
            " '651 naranja' '68 amarillo' '82 amarillo' '87' '879 amarillo'\n",
            " '888 amarillo' 'Blanca sin orejera' 'n2005'\n",
            " 'Negra sin orejera un solo cacho' 's114' 's1547' 's1556' 's1557' 's1607'\n",
            " 's1641' 's1706' 's1774' 's1778' 's1797' 's1804' 's1805' 's1843' 's1853'\n",
            " 's1854' 's1868' 's1870' 's1896' 's1903' 's1906' 's1914' 's1935' 's2011'\n",
            " 's377' 's5562' 's7704' 's8803' 's8804' 's8813' 's8819' 's8832' 's8835'\n",
            " 's8843' 'sn1125' 'sn13' 'sn1761' 'sn19' 'sn20' 'sn22' 'sn23'\n",
            " 'Vaca sin orejera con oreja cortada' 'Vaca sin orejera ganado de leche'] \n",
            "Numero de clases unicas:  74\n"
          ]
        },
        {
          "name": "stderr",
          "output_type": "stream",
          "text": [
            "C:\\Users\\user\\AppData\\Local\\Temp\\ipykernel_27520\\2575983530.py:23: DeprecationWarning: DataFrameGroupBy.apply operated on the grouping columns. This behavior is deprecated, and in a future version of pandas the grouping columns will be excluded from the operation. Either pass `include_groups=False` to exclude the groupings or explicitly select the grouping columns after groupby to silence this warning.\n",
            "  gallery_df = (df.groupby('label', group_keys=False).apply(lambda x: x.sample(1, random_state=42)).reset_index(drop=True))\n"
          ]
        }
      ],
      "source": [
        "# Se carga el dataset\n",
        "df, gallery_df = get_df(r\"C:\\Users\\user\\OneDrive\\Escritorio\\Vacas\\Caras\", 9)\n",
        "train_df, val_df, test_df = split_df(df, 0.3, 0.5)"
      ]
    },
    {
      "cell_type": "code",
      "execution_count": 21,
      "metadata": {
        "id": "N9E6Yv6MbS1S"
      },
      "outputs": [],
      "source": [
        "from torchvision import transforms\n",
        "\n",
        "IMAGENET_MEAN = (0.485, 0.456, 0.406)\n",
        "IMAGENET_STD  = (0.229, 0.224, 0.225)\n",
        "\n",
        "# ───────────────────────────────────\n",
        "# a) versión de entrenamiento (data-aug)\n",
        "# ───────────────────────────────────\n",
        "train_tfms = {\n",
        "    \"resnet\": transforms.Compose([\n",
        "        transforms.RandomResizedCrop(224, scale=(0.8, 1.0)),\n",
        "        transforms.RandomHorizontalFlip(),\n",
        "        transforms.ColorJitter(0.2, 0.2, 0.2, 0.1),\n",
        "        transforms.ToTensor(),\n",
        "        transforms.Normalize(IMAGENET_MEAN, IMAGENET_STD),\n",
        "    ]),\n",
        "    \"inception\": transforms.Compose([\n",
        "        transforms.RandomResizedCrop(299, scale=(0.8, 1.0)),\n",
        "        transforms.RandomHorizontalFlip(),\n",
        "        transforms.ColorJitter(0.2, 0.2, 0.2, 0.1),\n",
        "        transforms.ToTensor(),\n",
        "        transforms.Normalize(IMAGENET_MEAN, IMAGENET_STD),\n",
        "    ])\n",
        ",\n",
        "    \"vit\": transforms.Compose([\n",
        "        transforms.RandomResizedCrop(224, scale=(0.8, 1.0)),\n",
        "        transforms.RandomHorizontalFlip(),\n",
        "        transforms.ColorJitter(0.2, 0.2, 0.2, 0.1),\n",
        "        transforms.ToTensor(),\n",
        "        transforms.Normalize(IMAGENET_MEAN, IMAGENET_STD),\n",
        "    ]),\n",
        "}\n",
        "\n",
        "# ───────────────────────────────────\n",
        "# b) versión de validación / test\n",
        "# ───────────────────────────────────\n",
        "eval_tfms = {\n",
        "    \"resnet\": transforms.Compose([\n",
        "        transforms.Resize(256),\n",
        "        transforms.CenterCrop(224),\n",
        "        transforms.ToTensor(),\n",
        "        transforms.Normalize(IMAGENET_MEAN, IMAGENET_STD),\n",
        "    ]),\n",
        "    \"inception\": transforms.Compose([\n",
        "        transforms.Resize((299, 299)),\n",
        "        transforms.ToTensor(),\n",
        "        transforms.Normalize(IMAGENET_MEAN, IMAGENET_STD),\n",
        "    ])\n",
        "    ,\n",
        "    \"vit\": transforms.Compose([\n",
        "        transforms.Resize(256),\n",
        "        transforms.CenterCrop(224),\n",
        "        transforms.ToTensor(),\n",
        "        transforms.Normalize(IMAGENET_MEAN, IMAGENET_STD),\n",
        "    ]),\n",
        "}\n"
      ]
    },
    {
      "cell_type": "markdown",
      "metadata": {
        "id": "KJZIsRmVGJri"
      },
      "source": [
        "# TripletLoss"
      ]
    },
    {
      "cell_type": "code",
      "execution_count": 22,
      "metadata": {
        "id": "9VnEh-e3GAfF"
      },
      "outputs": [],
      "source": [
        "class TripletLoss(torch.nn.Module):\n",
        "    def __init__(self, margin=1.0):\n",
        "        super(TripletLoss, self).__init__()\n",
        "        # margin es una constante que le agrega peso al loss\n",
        "        self.margin = margin\n",
        "    def calc_euclidean(self, x1, x2):\n",
        "        # distancia euclidiana\n",
        "        return (x1 - x2).pow(2).sum(1)\n",
        "    def forward(self, anchor: torch.Tensor, positive: torch.Tensor, negative: torch.Tensor) -> torch.Tensor:\n",
        "        # distancia entre el ancla y la postiva\n",
        "        distance_positive = self.calc_euclidean(anchor, positive)\n",
        "        # distnacia entre el ancla y la negativa\n",
        "        distance_negative = self.calc_euclidean(anchor, negative)\n",
        "        # se aplica la formula de triplet loss distancia positva - distancia negativa + margen\n",
        "        losses = torch.relu(distance_positive - distance_negative + self.margin)\n",
        "        return losses.mean()"
      ]
    },
    {
      "cell_type": "markdown",
      "metadata": {
        "id": "BvhBSamgGUTc"
      },
      "source": [
        "# Feature Extractors"
      ]
    },
    {
      "cell_type": "code",
      "execution_count": 37,
      "metadata": {
        "id": "5vIqFuc7QBkd"
      },
      "outputs": [],
      "source": [
        "import torch.nn as nn\n",
        "import torch.nn.functional as F\n",
        "from torchvision import models\n",
        "\n",
        "\n",
        "\n",
        "# ────────────────────────────\n",
        "# 1.  ResNet extractor\n",
        "# ────────────────────────────\n",
        "class ResNetExtractor(nn.Module):\n",
        "    def __init__(self, k_freeze=3, pretrained=True, arch='resnet18'):\n",
        "        \"\"\"\n",
        "        k_freeze = nº de *bloques* iniciales a congelar (0 = nada).\n",
        "        En ResNet el orden es: stem, layer1, layer2, layer3, layer4.\n",
        "        \"\"\"\n",
        "        super().__init__()\n",
        "        if arch == 'resnet18':\n",
        "            net = models.resnet18(weights=\"IMAGENET1K_V1\" if pretrained else None)\n",
        "        elif arch == 'resnet34':\n",
        "            net = models.resnet34(weights=\"IMAGENET1K_V1\" if pretrained else None)\n",
        "        elif arch == 'resnet50':\n",
        "            net = models.resnet50(weights=\"IMAGENET1K_V1\" if pretrained else None)\n",
        "        elif arch == 'resnet101':\n",
        "            net = models.resnet101(weights=\"IMAGENET1K_V1\" if pretrained else None)\n",
        "        elif arch == 'resnet152':\n",
        "            net = models.resnet152(weights=\"IMAGENET1K_V1\" if pretrained else None)\n",
        "        self.body = nn.Sequential(*list(net.children())[:-1])   # sin FC\n",
        "        self.out_dim = net.fc.in_features\n",
        "\n",
        "        # congela primeros k bloques\n",
        "        for blk in list(self.body.children())[:k_freeze]:\n",
        "            blk.requires_grad_(False)\n",
        "\n",
        "    def forward(self, x):\n",
        "        feat = self.body(x).flatten(1)    # [B, out_dim]\n",
        "        return F.normalize(feat, p=2, dim=1)        # [B, out_dim]\n",
        "\n",
        "\n",
        "# ────────────────────────────\n",
        "# 3.  Inception extractor\n",
        "# ────────────────────────────\n",
        "import torch\n",
        "import torch.nn as nn\n",
        "import torch.nn.functional as F\n",
        "from torchvision import models\n",
        "\n",
        "class InceptionExtractor(nn.Module):\n",
        "    \"\"\"\n",
        "    Extrae embeddings de un modelo Inception v3 y los normaliza L2.\n",
        "\n",
        "    Args:\n",
        "        k_freeze (int): número de capas iniciales a congelar (0 = ninguna).\n",
        "        pretrained (bool): si True, carga pesos preentrenados ImageNet.\n",
        "    \"\"\"\n",
        "    def __init__(self, k_freeze: int = 2, pretrained: bool = True):\n",
        "        super().__init__()\n",
        "        # Cargar Inception v3 con aux_logits habilitado si se desea\n",
        "        self.net = models.inception_v3(\n",
        "            weights=models.Inception_V3_Weights.IMAGENET1K_V1 if pretrained else None,\n",
        "            aux_logits=True\n",
        "        )\n",
        "        # Reemplazar la capa final fc por identidad para obtener features\n",
        "        self.net.fc = nn.Identity()\n",
        "        self.out_dim = 2048\n",
        "\n",
        "        # Congelar capas iniciales según k_freeze\n",
        "        children = list(self.net.children())\n",
        "        for layer in children[:k_freeze]:\n",
        "            for param in layer.parameters():\n",
        "                param.requires_grad = False\n",
        "\n",
        "    def forward(self, x: torch.Tensor) -> torch.Tensor:\n",
        "        \"\"\"\n",
        "        Args:\n",
        "            x: tensor de imágenes [B, C, H, W]\n",
        "        Returns:\n",
        "            embeddings L2-normalizados de tamaño [B, out_dim]\n",
        "        \"\"\"\n",
        "        out = self.net(x)\n",
        "        # Inception v3 puede retornar named tuple con .logits cuando aux_logits=True\n",
        "        if hasattr(out, 'logits'):\n",
        "            feat = out.logits\n",
        "        elif isinstance(out, tuple):\n",
        "            # Salida (logits, aux_logits)\n",
        "            feat = out[0]\n",
        "        else:\n",
        "            feat = out\n",
        "        # Normalizar L2\n",
        "        feat = F.normalize(feat.view(feat.size(0), -1), p=2, dim=1)\n",
        "        return feat\n",
        "\n",
        "\n",
        "\n",
        "\n",
        "# ────────────────────────────\n",
        "# 4.  ViT extractor\n",
        "# ────────────────────────────\n",
        "class ViTExtractor(nn.Module):\n",
        "    def __init__(self, name=\"vit_small_patch16_224\", k_freeze=4, pretrained=True):\n",
        "        \"\"\"\n",
        "        k_freeze = nº de bloques Transformer a congelar\n",
        "                   (ViT-Small tiene 12 bloques).\n",
        "        \"\"\"\n",
        "        super().__init__()\n",
        "        self.body = timm.create_model(\n",
        "            name, pretrained=pretrained, num_classes=0, global_pool=\"avg\"\n",
        "        )\n",
        "        self.out_dim = self.body.num_features\n",
        "\n",
        "        for blk in self.body.blocks[:k_freeze]:\n",
        "            blk.requires_grad_(False)\n",
        "\n",
        "    def forward(self, x):\n",
        "        return self.body(x)                     # ya es [B, out_dim]\n",
        "\n",
        "\n"
      ]
    },
    {
      "cell_type": "markdown",
      "metadata": {
        "id": "IUQtFie9buzC"
      },
      "source": [
        "# Embedding head"
      ]
    },
    {
      "cell_type": "code",
      "execution_count": 24,
      "metadata": {
        "id": "HhmG4jlHbzef"
      },
      "outputs": [],
      "source": [
        "class EmbeddingHead(nn.Module):\n",
        "    \"\"\"\n",
        "    Recibe un extractor (cualquiera de arriba) y lo usa internamente.\n",
        "    Llama:  emb = embedder(img)   ← sin escribir extractor(img) aparte.\n",
        "    \"\"\"\n",
        "    def __init__(self, extractor: nn.Module, emb_dim: int = 128):\n",
        "        super().__init__()\n",
        "        self.extractor = extractor\n",
        "        self.proj = nn.Linear(extractor.out_dim, emb_dim)\n",
        "\n",
        "    def forward(self, x):\n",
        "        feats = self.extractor(x)\n",
        "        emb = self.proj(feats)\n",
        "        return F.normalize(emb, p=2, dim=1)\n"
      ]
    },
    {
      "cell_type": "markdown",
      "metadata": {},
      "source": [
        "# Funcion de entrenamiento"
      ]
    },
    {
      "cell_type": "code",
      "execution_count": 26,
      "metadata": {},
      "outputs": [],
      "source": [
        "from tqdm import tqdm\n",
        "def train_val(embedder, EPOCHS, train_dataloader, val_dataloader, device, optimizer, criterion, scheduler ):\n",
        "    train_losses = []\n",
        "    val_losses   = []\n",
        "    for epoch in tqdm(range(EPOCHS), desc='Epochs'):\n",
        "        # ——— Entrenamiento ———\n",
        "        embedder.train()\n",
        "        running_loss = []\n",
        "        for anchor_img, positive_img, negative_img, _ in tqdm(train_dataloader, desc='Training', leave=False):\n",
        "            anchor_img, positive_img, negative_img = (t.to(device) for t in (anchor_img, positive_img, negative_img))\n",
        "\n",
        "            optimizer.zero_grad()\n",
        "            ea = embedder(anchor_img)\n",
        "            ep = embedder(positive_img)\n",
        "            en = embedder(negative_img)\n",
        "\n",
        "            loss = criterion(ea, ep, en)\n",
        "            loss.backward()\n",
        "            optimizer.step()\n",
        "\n",
        "            running_loss.append(loss.item())\n",
        "\n",
        "        mean_train = np.mean(running_loss)\n",
        "        train_losses.append(mean_train)\n",
        "\n",
        "        # ——— Validación ———\n",
        "        val_running = []\n",
        "        embedder.eval()\n",
        "        with torch.no_grad():\n",
        "            for anchor_img, positive_img, negative_img, _ in val_dataloader:\n",
        "                anchor_img, positive_img, negative_img = (t.to(device) for t in (anchor_img, positive_img, negative_img))\n",
        "                ea = embedder(anchor_img)\n",
        "                ep = embedder(positive_img)\n",
        "                en = embedder(negative_img)\n",
        "                val_running.append(criterion(ea, ep, en).item())\n",
        "        \n",
        "\n",
        "        mean_val = np.mean(val_running)\n",
        "        val_losses.append(mean_val)\n",
        "\n",
        "        scheduler.step(mean_val)\n",
        "\n",
        "        current_lr = optimizer.param_groups[0]['lr']\n",
        "        print(f\"Epoch {epoch+1}: LR={current_lr:.2e} — Train Loss={mean_train:.4f} — Val Loss={mean_val:.4f}\")\n",
        "\n",
        "\n",
        "    # ——— Al final, dibuja las curvas ———\n",
        "    epochs = list(range(1, EPOCHS+1))\n",
        "    plt.figure(figsize=(5,5))\n",
        "    plt.plot(epochs, train_losses, label='Train')\n",
        "    plt.plot(epochs, val_losses,   label='Val')\n",
        "    plt.xlabel(\"Epochs\")\n",
        "    plt.ylabel(\"Loss\")\n",
        "    plt.legend()\n",
        "    plt.show()"
      ]
    },
    {
      "cell_type": "markdown",
      "metadata": {
        "id": "CRvp7Np6cuEN"
      },
      "source": [
        "# Entrenamiento Resnet18"
      ]
    },
    {
      "cell_type": "code",
      "execution_count": 42,
      "metadata": {
        "colab": {
          "base_uri": "https://localhost:8080/"
        },
        "id": "nJn-SF0obAei",
        "outputId": "0e33aca9-7399-4753-926b-bbe1bc9afee4"
      },
      "outputs": [
        {
          "name": "stderr",
          "output_type": "stream",
          "text": [
            "Epochs:   1%|          | 1/100 [00:23<38:46, 23.50s/it]"
          ]
        },
        {
          "name": "stdout",
          "output_type": "stream",
          "text": [
            "Epoch 1: LR=1.00e-04 — Train Loss=0.2716 — Val Loss=0.1391\n"
          ]
        },
        {
          "name": "stderr",
          "output_type": "stream",
          "text": [
            "Epochs:   2%|▏         | 2/100 [00:47<38:25, 23.53s/it]"
          ]
        },
        {
          "name": "stdout",
          "output_type": "stream",
          "text": [
            "Epoch 2: LR=1.00e-04 — Train Loss=0.0931 — Val Loss=0.1131\n"
          ]
        },
        {
          "name": "stderr",
          "output_type": "stream",
          "text": [
            "Epochs:   3%|▎         | 3/100 [01:10<37:55, 23.46s/it]"
          ]
        },
        {
          "name": "stdout",
          "output_type": "stream",
          "text": [
            "Epoch 3: LR=1.00e-04 — Train Loss=0.0568 — Val Loss=0.0673\n"
          ]
        },
        {
          "name": "stderr",
          "output_type": "stream",
          "text": [
            "Epochs:   4%|▍         | 4/100 [01:33<37:17, 23.30s/it]"
          ]
        },
        {
          "name": "stdout",
          "output_type": "stream",
          "text": [
            "Epoch 4: LR=1.00e-04 — Train Loss=0.0510 — Val Loss=0.0659\n"
          ]
        },
        {
          "name": "stderr",
          "output_type": "stream",
          "text": [
            "Epochs:   5%|▌         | 5/100 [01:56<36:53, 23.30s/it]"
          ]
        },
        {
          "name": "stdout",
          "output_type": "stream",
          "text": [
            "Epoch 5: LR=1.00e-04 — Train Loss=0.0428 — Val Loss=0.0705\n"
          ]
        },
        {
          "name": "stderr",
          "output_type": "stream",
          "text": [
            "Epochs:   6%|▌         | 6/100 [02:19<36:23, 23.23s/it]"
          ]
        },
        {
          "name": "stdout",
          "output_type": "stream",
          "text": [
            "Epoch 6: LR=1.00e-04 — Train Loss=0.0382 — Val Loss=0.0603\n"
          ]
        },
        {
          "name": "stderr",
          "output_type": "stream",
          "text": [
            "Epochs:   7%|▋         | 7/100 [02:42<35:56, 23.19s/it]"
          ]
        },
        {
          "name": "stdout",
          "output_type": "stream",
          "text": [
            "Epoch 7: LR=1.00e-04 — Train Loss=0.0306 — Val Loss=0.0512\n"
          ]
        },
        {
          "name": "stderr",
          "output_type": "stream",
          "text": [
            "Epochs:   8%|▊         | 8/100 [03:06<35:37, 23.23s/it]"
          ]
        },
        {
          "name": "stdout",
          "output_type": "stream",
          "text": [
            "Epoch 8: LR=1.00e-04 — Train Loss=0.0261 — Val Loss=0.0583\n"
          ]
        },
        {
          "name": "stderr",
          "output_type": "stream",
          "text": [
            "Epochs:   9%|▉         | 9/100 [03:29<35:08, 23.17s/it]"
          ]
        },
        {
          "name": "stdout",
          "output_type": "stream",
          "text": [
            "Epoch 9: LR=1.00e-04 — Train Loss=0.0265 — Val Loss=0.0764\n"
          ]
        },
        {
          "name": "stderr",
          "output_type": "stream",
          "text": [
            "Epochs:  10%|█         | 10/100 [03:52<34:44, 23.16s/it]"
          ]
        },
        {
          "name": "stdout",
          "output_type": "stream",
          "text": [
            "Epoch 10: LR=1.00e-04 — Train Loss=0.0161 — Val Loss=0.0455\n"
          ]
        },
        {
          "name": "stderr",
          "output_type": "stream",
          "text": [
            "Epochs:  11%|█         | 11/100 [04:15<34:19, 23.14s/it]"
          ]
        },
        {
          "name": "stdout",
          "output_type": "stream",
          "text": [
            "Epoch 11: LR=1.00e-04 — Train Loss=0.0202 — Val Loss=0.0861\n"
          ]
        },
        {
          "name": "stderr",
          "output_type": "stream",
          "text": [
            "Epochs:  12%|█▏        | 12/100 [04:38<34:03, 23.22s/it]"
          ]
        },
        {
          "name": "stdout",
          "output_type": "stream",
          "text": [
            "Epoch 12: LR=1.00e-04 — Train Loss=0.0161 — Val Loss=0.0655\n"
          ]
        },
        {
          "name": "stderr",
          "output_type": "stream",
          "text": [
            "Epochs:  13%|█▎        | 13/100 [05:02<33:43, 23.26s/it]"
          ]
        },
        {
          "name": "stdout",
          "output_type": "stream",
          "text": [
            "Epoch 13: LR=1.00e-04 — Train Loss=0.0149 — Val Loss=0.0396\n"
          ]
        },
        {
          "name": "stderr",
          "output_type": "stream",
          "text": [
            "Epochs:  14%|█▍        | 14/100 [05:25<33:15, 23.20s/it]"
          ]
        },
        {
          "name": "stdout",
          "output_type": "stream",
          "text": [
            "Epoch 14: LR=1.00e-04 — Train Loss=0.0146 — Val Loss=0.0464\n"
          ]
        },
        {
          "name": "stderr",
          "output_type": "stream",
          "text": [
            "Epochs:  15%|█▌        | 15/100 [05:48<32:49, 23.17s/it]"
          ]
        },
        {
          "name": "stdout",
          "output_type": "stream",
          "text": [
            "Epoch 15: LR=1.00e-04 — Train Loss=0.0090 — Val Loss=0.0442\n"
          ]
        },
        {
          "name": "stderr",
          "output_type": "stream",
          "text": [
            "Epochs:  16%|█▌        | 16/100 [06:12<32:37, 23.30s/it]"
          ]
        },
        {
          "name": "stdout",
          "output_type": "stream",
          "text": [
            "Epoch 16: LR=1.00e-04 — Train Loss=0.0155 — Val Loss=0.0474\n"
          ]
        },
        {
          "name": "stderr",
          "output_type": "stream",
          "text": [
            "Epochs:  17%|█▋        | 17/100 [06:35<32:25, 23.44s/it]"
          ]
        },
        {
          "name": "stdout",
          "output_type": "stream",
          "text": [
            "Epoch 17: LR=1.00e-04 — Train Loss=0.0102 — Val Loss=0.0528\n"
          ]
        },
        {
          "name": "stderr",
          "output_type": "stream",
          "text": [
            "Epochs:  18%|█▊        | 18/100 [06:59<32:02, 23.44s/it]"
          ]
        },
        {
          "name": "stdout",
          "output_type": "stream",
          "text": [
            "Epoch 18: LR=1.00e-04 — Train Loss=0.0088 — Val Loss=0.0398\n"
          ]
        },
        {
          "name": "stderr",
          "output_type": "stream",
          "text": [
            "Epochs:  19%|█▉        | 19/100 [07:22<31:39, 23.46s/it]"
          ]
        },
        {
          "name": "stdout",
          "output_type": "stream",
          "text": [
            "Epoch 19: LR=1.00e-04 — Train Loss=0.0080 — Val Loss=0.0360\n"
          ]
        },
        {
          "name": "stderr",
          "output_type": "stream",
          "text": [
            "Epochs:  20%|██        | 20/100 [07:46<31:20, 23.50s/it]"
          ]
        },
        {
          "name": "stdout",
          "output_type": "stream",
          "text": [
            "Epoch 20: LR=1.00e-04 — Train Loss=0.0081 — Val Loss=0.0409\n"
          ]
        },
        {
          "name": "stderr",
          "output_type": "stream",
          "text": [
            "Epochs:  21%|██        | 21/100 [08:09<30:54, 23.47s/it]"
          ]
        },
        {
          "name": "stdout",
          "output_type": "stream",
          "text": [
            "Epoch 21: LR=1.00e-04 — Train Loss=0.0110 — Val Loss=0.0348\n"
          ]
        },
        {
          "name": "stderr",
          "output_type": "stream",
          "text": [
            "Epochs:  22%|██▏       | 22/100 [08:32<30:22, 23.37s/it]"
          ]
        },
        {
          "name": "stdout",
          "output_type": "stream",
          "text": [
            "Epoch 22: LR=1.00e-04 — Train Loss=0.0098 — Val Loss=0.0465\n"
          ]
        },
        {
          "name": "stderr",
          "output_type": "stream",
          "text": [
            "Epochs:  23%|██▎       | 23/100 [08:56<29:59, 23.37s/it]"
          ]
        },
        {
          "name": "stdout",
          "output_type": "stream",
          "text": [
            "Epoch 23: LR=1.00e-04 — Train Loss=0.0070 — Val Loss=0.0331\n"
          ]
        },
        {
          "name": "stderr",
          "output_type": "stream",
          "text": [
            "Epochs:  24%|██▍       | 24/100 [09:19<29:40, 23.43s/it]"
          ]
        },
        {
          "name": "stdout",
          "output_type": "stream",
          "text": [
            "Epoch 24: LR=1.00e-04 — Train Loss=0.0084 — Val Loss=0.0407\n"
          ]
        },
        {
          "name": "stderr",
          "output_type": "stream",
          "text": [
            "Epochs:  25%|██▌       | 25/100 [09:43<29:15, 23.41s/it]"
          ]
        },
        {
          "name": "stdout",
          "output_type": "stream",
          "text": [
            "Epoch 25: LR=1.00e-04 — Train Loss=0.0065 — Val Loss=0.0271\n"
          ]
        },
        {
          "name": "stderr",
          "output_type": "stream",
          "text": [
            "Epochs:  26%|██▌       | 26/100 [10:06<28:52, 23.41s/it]"
          ]
        },
        {
          "name": "stdout",
          "output_type": "stream",
          "text": [
            "Epoch 26: LR=1.00e-04 — Train Loss=0.0067 — Val Loss=0.0406\n"
          ]
        },
        {
          "name": "stderr",
          "output_type": "stream",
          "text": [
            "Epochs:  27%|██▋       | 27/100 [10:30<28:28, 23.40s/it]"
          ]
        },
        {
          "name": "stdout",
          "output_type": "stream",
          "text": [
            "Epoch 27: LR=1.00e-04 — Train Loss=0.0072 — Val Loss=0.0467\n"
          ]
        },
        {
          "name": "stderr",
          "output_type": "stream",
          "text": [
            "Epochs:  28%|██▊       | 28/100 [10:53<28:09, 23.46s/it]"
          ]
        },
        {
          "name": "stdout",
          "output_type": "stream",
          "text": [
            "Epoch 28: LR=1.00e-04 — Train Loss=0.0075 — Val Loss=0.0484\n"
          ]
        },
        {
          "name": "stderr",
          "output_type": "stream",
          "text": [
            "Epochs:  29%|██▉       | 29/100 [11:17<27:47, 23.49s/it]"
          ]
        },
        {
          "name": "stdout",
          "output_type": "stream",
          "text": [
            "Epoch 29: LR=1.00e-04 — Train Loss=0.0085 — Val Loss=0.0381\n"
          ]
        },
        {
          "name": "stderr",
          "output_type": "stream",
          "text": [
            "Epochs:  30%|███       | 30/100 [11:40<27:24, 23.50s/it]"
          ]
        },
        {
          "name": "stdout",
          "output_type": "stream",
          "text": [
            "Epoch 30: LR=1.00e-04 — Train Loss=0.0071 — Val Loss=0.0322\n"
          ]
        },
        {
          "name": "stderr",
          "output_type": "stream",
          "text": [
            "Epochs:  31%|███       | 31/100 [12:04<27:04, 23.55s/it]"
          ]
        },
        {
          "name": "stdout",
          "output_type": "stream",
          "text": [
            "Epoch 31: LR=1.00e-04 — Train Loss=0.0059 — Val Loss=0.0218\n"
          ]
        },
        {
          "name": "stderr",
          "output_type": "stream",
          "text": [
            "Epochs:  32%|███▏      | 32/100 [12:27<26:40, 23.53s/it]"
          ]
        },
        {
          "name": "stdout",
          "output_type": "stream",
          "text": [
            "Epoch 32: LR=1.00e-04 — Train Loss=0.0067 — Val Loss=0.0237\n"
          ]
        },
        {
          "name": "stderr",
          "output_type": "stream",
          "text": [
            "Epochs:  33%|███▎      | 33/100 [12:51<26:13, 23.49s/it]"
          ]
        },
        {
          "name": "stdout",
          "output_type": "stream",
          "text": [
            "Epoch 33: LR=1.00e-04 — Train Loss=0.0040 — Val Loss=0.0235\n"
          ]
        },
        {
          "name": "stderr",
          "output_type": "stream",
          "text": [
            "Epochs:  34%|███▍      | 34/100 [13:14<25:46, 23.44s/it]"
          ]
        },
        {
          "name": "stdout",
          "output_type": "stream",
          "text": [
            "Epoch 34: LR=1.00e-04 — Train Loss=0.0040 — Val Loss=0.0353\n"
          ]
        },
        {
          "name": "stderr",
          "output_type": "stream",
          "text": [
            "Epochs:  35%|███▌      | 35/100 [13:38<25:25, 23.47s/it]"
          ]
        },
        {
          "name": "stdout",
          "output_type": "stream",
          "text": [
            "Epoch 35: LR=1.00e-04 — Train Loss=0.0071 — Val Loss=0.0360\n"
          ]
        },
        {
          "name": "stderr",
          "output_type": "stream",
          "text": [
            "Epochs:  36%|███▌      | 36/100 [14:01<24:59, 23.43s/it]"
          ]
        },
        {
          "name": "stdout",
          "output_type": "stream",
          "text": [
            "Epoch 36: LR=1.00e-04 — Train Loss=0.0071 — Val Loss=0.0474\n"
          ]
        },
        {
          "name": "stderr",
          "output_type": "stream",
          "text": [
            "Epochs:  37%|███▋      | 37/100 [14:24<24:33, 23.38s/it]"
          ]
        },
        {
          "name": "stdout",
          "output_type": "stream",
          "text": [
            "Epoch 37: LR=5.00e-05 — Train Loss=0.0060 — Val Loss=0.0466\n"
          ]
        },
        {
          "name": "stderr",
          "output_type": "stream",
          "text": [
            "Epochs:  38%|███▊      | 38/100 [14:47<24:06, 23.33s/it]"
          ]
        },
        {
          "name": "stdout",
          "output_type": "stream",
          "text": [
            "Epoch 38: LR=5.00e-05 — Train Loss=0.0041 — Val Loss=0.0372\n"
          ]
        },
        {
          "name": "stderr",
          "output_type": "stream",
          "text": [
            "Epochs:  39%|███▉      | 39/100 [15:11<23:43, 23.34s/it]"
          ]
        },
        {
          "name": "stdout",
          "output_type": "stream",
          "text": [
            "Epoch 39: LR=5.00e-05 — Train Loss=0.0031 — Val Loss=0.0282\n"
          ]
        },
        {
          "name": "stderr",
          "output_type": "stream",
          "text": [
            "Epochs:  40%|████      | 40/100 [15:34<23:20, 23.34s/it]"
          ]
        },
        {
          "name": "stdout",
          "output_type": "stream",
          "text": [
            "Epoch 40: LR=5.00e-05 — Train Loss=0.0039 — Val Loss=0.0200\n"
          ]
        },
        {
          "name": "stderr",
          "output_type": "stream",
          "text": [
            "Epochs:  41%|████      | 41/100 [15:58<22:58, 23.37s/it]"
          ]
        },
        {
          "name": "stdout",
          "output_type": "stream",
          "text": [
            "Epoch 41: LR=5.00e-05 — Train Loss=0.0017 — Val Loss=0.0187\n"
          ]
        },
        {
          "name": "stderr",
          "output_type": "stream",
          "text": [
            "Epochs:  42%|████▏     | 42/100 [16:21<22:36, 23.39s/it]"
          ]
        },
        {
          "name": "stdout",
          "output_type": "stream",
          "text": [
            "Epoch 42: LR=5.00e-05 — Train Loss=0.0014 — Val Loss=0.0134\n"
          ]
        },
        {
          "name": "stderr",
          "output_type": "stream",
          "text": [
            "Epochs:  43%|████▎     | 43/100 [16:44<22:13, 23.40s/it]"
          ]
        },
        {
          "name": "stdout",
          "output_type": "stream",
          "text": [
            "Epoch 43: LR=5.00e-05 — Train Loss=0.0024 — Val Loss=0.0264\n"
          ]
        },
        {
          "name": "stderr",
          "output_type": "stream",
          "text": [
            "Epochs:  44%|████▍     | 44/100 [17:08<21:48, 23.37s/it]"
          ]
        },
        {
          "name": "stdout",
          "output_type": "stream",
          "text": [
            "Epoch 44: LR=5.00e-05 — Train Loss=0.0045 — Val Loss=0.0282\n"
          ]
        },
        {
          "name": "stderr",
          "output_type": "stream",
          "text": [
            "Epochs:  45%|████▌     | 45/100 [17:31<21:23, 23.34s/it]"
          ]
        },
        {
          "name": "stdout",
          "output_type": "stream",
          "text": [
            "Epoch 45: LR=5.00e-05 — Train Loss=0.0032 — Val Loss=0.0231\n"
          ]
        },
        {
          "name": "stderr",
          "output_type": "stream",
          "text": [
            "Epochs:  46%|████▌     | 46/100 [17:54<21:00, 23.33s/it]"
          ]
        },
        {
          "name": "stdout",
          "output_type": "stream",
          "text": [
            "Epoch 46: LR=5.00e-05 — Train Loss=0.0015 — Val Loss=0.0282\n"
          ]
        },
        {
          "name": "stderr",
          "output_type": "stream",
          "text": [
            "Epochs:  47%|████▋     | 47/100 [18:18<20:37, 23.34s/it]"
          ]
        },
        {
          "name": "stdout",
          "output_type": "stream",
          "text": [
            "Epoch 47: LR=5.00e-05 — Train Loss=0.0018 — Val Loss=0.0213\n"
          ]
        },
        {
          "name": "stderr",
          "output_type": "stream",
          "text": [
            "Epochs:  48%|████▊     | 48/100 [18:41<20:12, 23.31s/it]"
          ]
        },
        {
          "name": "stdout",
          "output_type": "stream",
          "text": [
            "Epoch 48: LR=2.50e-05 — Train Loss=0.0031 — Val Loss=0.0215\n"
          ]
        },
        {
          "name": "stderr",
          "output_type": "stream",
          "text": [
            "Epochs:  49%|████▉     | 49/100 [19:05<19:53, 23.40s/it]"
          ]
        },
        {
          "name": "stdout",
          "output_type": "stream",
          "text": [
            "Epoch 49: LR=2.50e-05 — Train Loss=0.0022 — Val Loss=0.0214\n"
          ]
        },
        {
          "name": "stderr",
          "output_type": "stream",
          "text": [
            "Epochs:  50%|█████     | 50/100 [19:28<19:32, 23.45s/it]"
          ]
        },
        {
          "name": "stdout",
          "output_type": "stream",
          "text": [
            "Epoch 50: LR=2.50e-05 — Train Loss=0.0024 — Val Loss=0.0394\n"
          ]
        },
        {
          "name": "stderr",
          "output_type": "stream",
          "text": [
            "Epochs:  51%|█████     | 51/100 [19:52<19:12, 23.52s/it]"
          ]
        },
        {
          "name": "stdout",
          "output_type": "stream",
          "text": [
            "Epoch 51: LR=2.50e-05 — Train Loss=0.0015 — Val Loss=0.0228\n"
          ]
        },
        {
          "name": "stderr",
          "output_type": "stream",
          "text": [
            "Epochs:  52%|█████▏    | 52/100 [20:15<18:48, 23.50s/it]"
          ]
        },
        {
          "name": "stdout",
          "output_type": "stream",
          "text": [
            "Epoch 52: LR=2.50e-05 — Train Loss=0.0008 — Val Loss=0.0108\n"
          ]
        },
        {
          "name": "stderr",
          "output_type": "stream",
          "text": [
            "Epochs:  53%|█████▎    | 53/100 [20:39<18:25, 23.51s/it]"
          ]
        },
        {
          "name": "stdout",
          "output_type": "stream",
          "text": [
            "Epoch 53: LR=2.50e-05 — Train Loss=0.0014 — Val Loss=0.0211\n"
          ]
        },
        {
          "name": "stderr",
          "output_type": "stream",
          "text": [
            "Epochs:  54%|█████▍    | 54/100 [21:02<17:57, 23.42s/it]"
          ]
        },
        {
          "name": "stdout",
          "output_type": "stream",
          "text": [
            "Epoch 54: LR=2.50e-05 — Train Loss=0.0011 — Val Loss=0.0157\n"
          ]
        },
        {
          "name": "stderr",
          "output_type": "stream",
          "text": [
            "Epochs:  55%|█████▌    | 55/100 [21:25<17:34, 23.44s/it]"
          ]
        },
        {
          "name": "stdout",
          "output_type": "stream",
          "text": [
            "Epoch 55: LR=2.50e-05 — Train Loss=0.0018 — Val Loss=0.0216\n"
          ]
        },
        {
          "name": "stderr",
          "output_type": "stream",
          "text": [
            "Epochs:  56%|█████▌    | 56/100 [21:49<17:08, 23.38s/it]"
          ]
        },
        {
          "name": "stdout",
          "output_type": "stream",
          "text": [
            "Epoch 56: LR=2.50e-05 — Train Loss=0.0006 — Val Loss=0.0209\n"
          ]
        },
        {
          "name": "stderr",
          "output_type": "stream",
          "text": [
            "Epochs:  57%|█████▋    | 57/100 [22:12<16:45, 23.39s/it]"
          ]
        },
        {
          "name": "stdout",
          "output_type": "stream",
          "text": [
            "Epoch 57: LR=2.50e-05 — Train Loss=0.0014 — Val Loss=0.0188\n"
          ]
        },
        {
          "name": "stderr",
          "output_type": "stream",
          "text": [
            "Epochs:  58%|█████▊    | 58/100 [22:36<16:22, 23.39s/it]"
          ]
        },
        {
          "name": "stdout",
          "output_type": "stream",
          "text": [
            "Epoch 58: LR=1.25e-05 — Train Loss=0.0010 — Val Loss=0.0255\n"
          ]
        },
        {
          "name": "stderr",
          "output_type": "stream",
          "text": [
            "Epochs:  59%|█████▉    | 59/100 [22:59<15:58, 23.38s/it]"
          ]
        },
        {
          "name": "stdout",
          "output_type": "stream",
          "text": [
            "Epoch 59: LR=1.25e-05 — Train Loss=0.0003 — Val Loss=0.0148\n"
          ]
        },
        {
          "name": "stderr",
          "output_type": "stream",
          "text": [
            "Epochs:  60%|██████    | 60/100 [23:22<15:35, 23.39s/it]"
          ]
        },
        {
          "name": "stdout",
          "output_type": "stream",
          "text": [
            "Epoch 60: LR=1.25e-05 — Train Loss=0.0016 — Val Loss=0.0136\n"
          ]
        },
        {
          "name": "stderr",
          "output_type": "stream",
          "text": [
            "Epochs:  61%|██████    | 61/100 [23:46<15:11, 23.37s/it]"
          ]
        },
        {
          "name": "stdout",
          "output_type": "stream",
          "text": [
            "Epoch 61: LR=1.25e-05 — Train Loss=0.0005 — Val Loss=0.0233\n"
          ]
        },
        {
          "name": "stderr",
          "output_type": "stream",
          "text": [
            "Epochs:  62%|██████▏   | 62/100 [24:09<14:46, 23.32s/it]"
          ]
        },
        {
          "name": "stdout",
          "output_type": "stream",
          "text": [
            "Epoch 62: LR=1.25e-05 — Train Loss=0.0016 — Val Loss=0.0175\n"
          ]
        },
        {
          "name": "stderr",
          "output_type": "stream",
          "text": [
            "Epochs:  63%|██████▎   | 63/100 [24:32<14:23, 23.35s/it]"
          ]
        },
        {
          "name": "stdout",
          "output_type": "stream",
          "text": [
            "Epoch 63: LR=1.25e-05 — Train Loss=0.0003 — Val Loss=0.0184\n"
          ]
        },
        {
          "name": "stderr",
          "output_type": "stream",
          "text": [
            "Epochs:  64%|██████▍   | 64/100 [24:56<14:03, 23.42s/it]"
          ]
        },
        {
          "name": "stdout",
          "output_type": "stream",
          "text": [
            "Epoch 64: LR=6.25e-06 — Train Loss=0.0009 — Val Loss=0.0207\n"
          ]
        },
        {
          "name": "stderr",
          "output_type": "stream",
          "text": [
            "Epochs:  65%|██████▌   | 65/100 [25:19<13:39, 23.41s/it]"
          ]
        },
        {
          "name": "stdout",
          "output_type": "stream",
          "text": [
            "Epoch 65: LR=6.25e-06 — Train Loss=0.0009 — Val Loss=0.0234\n"
          ]
        },
        {
          "name": "stderr",
          "output_type": "stream",
          "text": [
            "Epochs:  66%|██████▌   | 66/100 [25:43<13:17, 23.44s/it]"
          ]
        },
        {
          "name": "stdout",
          "output_type": "stream",
          "text": [
            "Epoch 66: LR=6.25e-06 — Train Loss=0.0009 — Val Loss=0.0259\n"
          ]
        },
        {
          "name": "stderr",
          "output_type": "stream",
          "text": [
            "Epochs:  67%|██████▋   | 67/100 [26:06<12:53, 23.44s/it]"
          ]
        },
        {
          "name": "stdout",
          "output_type": "stream",
          "text": [
            "Epoch 67: LR=6.25e-06 — Train Loss=0.0005 — Val Loss=0.0156\n"
          ]
        },
        {
          "name": "stderr",
          "output_type": "stream",
          "text": [
            "Epochs:  68%|██████▊   | 68/100 [26:30<12:29, 23.43s/it]"
          ]
        },
        {
          "name": "stdout",
          "output_type": "stream",
          "text": [
            "Epoch 68: LR=6.25e-06 — Train Loss=0.0005 — Val Loss=0.0167\n"
          ]
        },
        {
          "name": "stderr",
          "output_type": "stream",
          "text": [
            "Epochs:  69%|██████▉   | 69/100 [26:53<12:05, 23.39s/it]"
          ]
        },
        {
          "name": "stdout",
          "output_type": "stream",
          "text": [
            "Epoch 69: LR=6.25e-06 — Train Loss=0.0012 — Val Loss=0.0144\n"
          ]
        },
        {
          "name": "stderr",
          "output_type": "stream",
          "text": [
            "Epochs:  70%|███████   | 70/100 [27:16<11:42, 23.42s/it]"
          ]
        },
        {
          "name": "stdout",
          "output_type": "stream",
          "text": [
            "Epoch 70: LR=3.13e-06 — Train Loss=0.0008 — Val Loss=0.0168\n"
          ]
        },
        {
          "name": "stderr",
          "output_type": "stream",
          "text": [
            "Epochs:  71%|███████   | 71/100 [27:40<11:19, 23.42s/it]"
          ]
        },
        {
          "name": "stdout",
          "output_type": "stream",
          "text": [
            "Epoch 71: LR=3.13e-06 — Train Loss=0.0010 — Val Loss=0.0182\n"
          ]
        },
        {
          "name": "stderr",
          "output_type": "stream",
          "text": [
            "Epochs:  72%|███████▏  | 72/100 [28:03<10:56, 23.45s/it]"
          ]
        },
        {
          "name": "stdout",
          "output_type": "stream",
          "text": [
            "Epoch 72: LR=3.13e-06 — Train Loss=0.0006 — Val Loss=0.0259\n"
          ]
        },
        {
          "name": "stderr",
          "output_type": "stream",
          "text": [
            "Epochs:  73%|███████▎  | 73/100 [28:27<10:31, 23.39s/it]"
          ]
        },
        {
          "name": "stdout",
          "output_type": "stream",
          "text": [
            "Epoch 73: LR=3.13e-06 — Train Loss=0.0011 — Val Loss=0.0197\n"
          ]
        },
        {
          "name": "stderr",
          "output_type": "stream",
          "text": [
            "Epochs:  74%|███████▍  | 74/100 [28:50<10:08, 23.41s/it]"
          ]
        },
        {
          "name": "stdout",
          "output_type": "stream",
          "text": [
            "Epoch 74: LR=3.13e-06 — Train Loss=0.0020 — Val Loss=0.0186\n"
          ]
        },
        {
          "name": "stderr",
          "output_type": "stream",
          "text": [
            "Epochs:  75%|███████▌  | 75/100 [29:13<09:45, 23.42s/it]"
          ]
        },
        {
          "name": "stdout",
          "output_type": "stream",
          "text": [
            "Epoch 75: LR=3.13e-06 — Train Loss=0.0016 — Val Loss=0.0079\n"
          ]
        },
        {
          "name": "stderr",
          "output_type": "stream",
          "text": [
            "Epochs:  76%|███████▌  | 76/100 [29:37<09:22, 23.43s/it]"
          ]
        },
        {
          "name": "stdout",
          "output_type": "stream",
          "text": [
            "Epoch 76: LR=3.13e-06 — Train Loss=0.0008 — Val Loss=0.0161\n"
          ]
        },
        {
          "name": "stderr",
          "output_type": "stream",
          "text": [
            "Epochs:  77%|███████▋  | 77/100 [30:00<08:57, 23.35s/it]"
          ]
        },
        {
          "name": "stdout",
          "output_type": "stream",
          "text": [
            "Epoch 77: LR=3.13e-06 — Train Loss=0.0012 — Val Loss=0.0216\n"
          ]
        },
        {
          "name": "stderr",
          "output_type": "stream",
          "text": [
            "Epochs:  78%|███████▊  | 78/100 [30:24<08:34, 23.38s/it]"
          ]
        },
        {
          "name": "stdout",
          "output_type": "stream",
          "text": [
            "Epoch 78: LR=3.13e-06 — Train Loss=0.0012 — Val Loss=0.0243\n"
          ]
        },
        {
          "name": "stderr",
          "output_type": "stream",
          "text": [
            "Epochs:  79%|███████▉  | 79/100 [30:47<08:11, 23.39s/it]"
          ]
        },
        {
          "name": "stdout",
          "output_type": "stream",
          "text": [
            "Epoch 79: LR=3.13e-06 — Train Loss=0.0011 — Val Loss=0.0165\n"
          ]
        },
        {
          "name": "stderr",
          "output_type": "stream",
          "text": [
            "Epochs:  80%|████████  | 80/100 [31:11<07:49, 23.46s/it]"
          ]
        },
        {
          "name": "stdout",
          "output_type": "stream",
          "text": [
            "Epoch 80: LR=3.13e-06 — Train Loss=0.0010 — Val Loss=0.0194\n"
          ]
        },
        {
          "name": "stderr",
          "output_type": "stream",
          "text": [
            "Epochs:  81%|████████  | 81/100 [31:34<07:25, 23.46s/it]"
          ]
        },
        {
          "name": "stdout",
          "output_type": "stream",
          "text": [
            "Epoch 81: LR=1.56e-06 — Train Loss=0.0007 — Val Loss=0.0237\n"
          ]
        },
        {
          "name": "stderr",
          "output_type": "stream",
          "text": [
            "Epochs:  82%|████████▏ | 82/100 [31:57<07:01, 23.43s/it]"
          ]
        },
        {
          "name": "stdout",
          "output_type": "stream",
          "text": [
            "Epoch 82: LR=1.56e-06 — Train Loss=0.0003 — Val Loss=0.0182\n"
          ]
        },
        {
          "name": "stderr",
          "output_type": "stream",
          "text": [
            "Epochs:  83%|████████▎ | 83/100 [32:21<06:37, 23.39s/it]"
          ]
        },
        {
          "name": "stdout",
          "output_type": "stream",
          "text": [
            "Epoch 83: LR=1.56e-06 — Train Loss=0.0006 — Val Loss=0.0247\n"
          ]
        },
        {
          "name": "stderr",
          "output_type": "stream",
          "text": [
            "Epochs:  84%|████████▍ | 84/100 [32:44<06:14, 23.39s/it]"
          ]
        },
        {
          "name": "stdout",
          "output_type": "stream",
          "text": [
            "Epoch 84: LR=1.56e-06 — Train Loss=0.0016 — Val Loss=0.0065\n"
          ]
        },
        {
          "name": "stderr",
          "output_type": "stream",
          "text": [
            "Epochs:  85%|████████▌ | 85/100 [33:08<05:51, 23.41s/it]"
          ]
        },
        {
          "name": "stdout",
          "output_type": "stream",
          "text": [
            "Epoch 85: LR=1.56e-06 — Train Loss=0.0002 — Val Loss=0.0110\n"
          ]
        },
        {
          "name": "stderr",
          "output_type": "stream",
          "text": [
            "Epochs:  86%|████████▌ | 86/100 [33:31<05:27, 23.43s/it]"
          ]
        },
        {
          "name": "stdout",
          "output_type": "stream",
          "text": [
            "Epoch 86: LR=1.56e-06 — Train Loss=0.0003 — Val Loss=0.0191\n"
          ]
        },
        {
          "name": "stderr",
          "output_type": "stream",
          "text": [
            "Epochs:  87%|████████▋ | 87/100 [33:54<05:04, 23.41s/it]"
          ]
        },
        {
          "name": "stdout",
          "output_type": "stream",
          "text": [
            "Epoch 87: LR=1.56e-06 — Train Loss=0.0023 — Val Loss=0.0145\n"
          ]
        },
        {
          "name": "stderr",
          "output_type": "stream",
          "text": [
            "Epochs:  88%|████████▊ | 88/100 [34:18<04:40, 23.38s/it]"
          ]
        },
        {
          "name": "stdout",
          "output_type": "stream",
          "text": [
            "Epoch 88: LR=1.56e-06 — Train Loss=0.0013 — Val Loss=0.0148\n"
          ]
        },
        {
          "name": "stderr",
          "output_type": "stream",
          "text": [
            "Epochs:  89%|████████▉ | 89/100 [34:41<04:17, 23.41s/it]"
          ]
        },
        {
          "name": "stdout",
          "output_type": "stream",
          "text": [
            "Epoch 89: LR=1.56e-06 — Train Loss=0.0008 — Val Loss=0.0059\n"
          ]
        },
        {
          "name": "stderr",
          "output_type": "stream",
          "text": [
            "Epochs:  90%|█████████ | 90/100 [35:05<03:53, 23.39s/it]"
          ]
        },
        {
          "name": "stdout",
          "output_type": "stream",
          "text": [
            "Epoch 90: LR=1.56e-06 — Train Loss=0.0009 — Val Loss=0.0224\n"
          ]
        },
        {
          "name": "stderr",
          "output_type": "stream",
          "text": [
            "Epochs:  91%|█████████ | 91/100 [35:28<03:30, 23.42s/it]"
          ]
        },
        {
          "name": "stdout",
          "output_type": "stream",
          "text": [
            "Epoch 91: LR=1.56e-06 — Train Loss=0.0005 — Val Loss=0.0230\n"
          ]
        },
        {
          "name": "stderr",
          "output_type": "stream",
          "text": [
            "Epochs:  92%|█████████▏| 92/100 [35:52<03:07, 23.44s/it]"
          ]
        },
        {
          "name": "stdout",
          "output_type": "stream",
          "text": [
            "Epoch 92: LR=1.56e-06 — Train Loss=0.0001 — Val Loss=0.0298\n"
          ]
        },
        {
          "name": "stderr",
          "output_type": "stream",
          "text": [
            "Epochs:  93%|█████████▎| 93/100 [36:15<02:44, 23.48s/it]"
          ]
        },
        {
          "name": "stdout",
          "output_type": "stream",
          "text": [
            "Epoch 93: LR=1.56e-06 — Train Loss=0.0007 — Val Loss=0.0130\n"
          ]
        },
        {
          "name": "stderr",
          "output_type": "stream",
          "text": [
            "Epochs:  94%|█████████▍| 94/100 [36:39<02:20, 23.50s/it]"
          ]
        },
        {
          "name": "stdout",
          "output_type": "stream",
          "text": [
            "Epoch 94: LR=1.56e-06 — Train Loss=0.0007 — Val Loss=0.0116\n"
          ]
        },
        {
          "name": "stderr",
          "output_type": "stream",
          "text": [
            "Epochs:  95%|█████████▌| 95/100 [37:02<01:57, 23.53s/it]"
          ]
        },
        {
          "name": "stdout",
          "output_type": "stream",
          "text": [
            "Epoch 95: LR=7.81e-07 — Train Loss=0.0002 — Val Loss=0.0079\n"
          ]
        },
        {
          "name": "stderr",
          "output_type": "stream",
          "text": [
            "Epochs:  96%|█████████▌| 96/100 [37:26<01:34, 23.60s/it]"
          ]
        },
        {
          "name": "stdout",
          "output_type": "stream",
          "text": [
            "Epoch 96: LR=7.81e-07 — Train Loss=0.0015 — Val Loss=0.0091\n"
          ]
        },
        {
          "name": "stderr",
          "output_type": "stream",
          "text": [
            "Epochs:  97%|█████████▋| 97/100 [37:50<01:10, 23.59s/it]"
          ]
        },
        {
          "name": "stdout",
          "output_type": "stream",
          "text": [
            "Epoch 97: LR=7.81e-07 — Train Loss=0.0010 — Val Loss=0.0125\n"
          ]
        },
        {
          "name": "stderr",
          "output_type": "stream",
          "text": [
            "Epochs:  98%|█████████▊| 98/100 [38:13<00:46, 23.48s/it]"
          ]
        },
        {
          "name": "stdout",
          "output_type": "stream",
          "text": [
            "Epoch 98: LR=7.81e-07 — Train Loss=0.0000 — Val Loss=0.0110\n"
          ]
        },
        {
          "name": "stderr",
          "output_type": "stream",
          "text": [
            "Epochs:  99%|█████████▉| 99/100 [38:36<00:23, 23.45s/it]"
          ]
        },
        {
          "name": "stdout",
          "output_type": "stream",
          "text": [
            "Epoch 99: LR=7.81e-07 — Train Loss=0.0006 — Val Loss=0.0147\n"
          ]
        },
        {
          "name": "stderr",
          "output_type": "stream",
          "text": [
            "Epochs: 100%|██████████| 100/100 [38:59<00:00, 23.40s/it]"
          ]
        },
        {
          "name": "stdout",
          "output_type": "stream",
          "text": [
            "Epoch 100: LR=7.81e-07 — Train Loss=0.0002 — Val Loss=0.0157\n"
          ]
        },
        {
          "name": "stderr",
          "output_type": "stream",
          "text": [
            "\n"
          ]
        },
        {
          "data": {
            "image/png": "[encoded data removed]",
            "text/plain": [
              "<Figure size 500x500 with 1 Axes>"
            ]
          },
          "metadata": {},
          "output_type": "display_data"
        }
      ],
      "source": [
        "from tqdm import tqdm\n",
        "import numpy as np\n",
        "import matplotlib.pyplot as plt\n",
        "import torch.optim.lr_scheduler as lr_scheduler\n",
        "\n",
        "# Se crean los datasets y dataloaders\n",
        "val_counts = val_df['label'].value_counts()\n",
        "good_labels = val_counts[val_counts >= 2].index\n",
        "val_df = val_df[val_df['label'].isin(good_labels)].reset_index(drop=True)\n",
        "train_dataset, val_dataset, test_dataset, gallery_dataset = get_face_datasets(train_df, val_df, test_df, gallery_df, train_tfms[\"resnet\"], eval_tfms[\"resnet\"])\n",
        "train_dataloader, val_dataloader, test_dataloader, gallery_dataloader = get_face_dataloaders(train_dataset, val_dataset, test_dataset, gallery_dataset , 32)\n",
        "\n",
        "device = \"cuda\"\n",
        "ext = ResNetExtractor( k_freeze=3, arch=\"resnet18\").to(device)\n",
        "# ext = InceptionExtractor(k_freeze=2).to(device)\n",
        "# ext = ViTExtractor(name=\"vit_small_patch16_224\", k_freeze=4).to(device)\n",
        "\n",
        "# 2) EmbeddingHead recibe el extractor\n",
        "embedder = EmbeddingHead(extractor=ext, emb_dim=128).to(device)\n",
        "\n",
        "# 3) Pérdida y optimizador\n",
        "criterion = TripletLoss(margin=1.0)\n",
        "optimizer = torch.optim.AdamW(embedder.parameters(), lr=1e-4)  # asegurarte de tenerlo\n",
        "\n",
        "# 4) plateau\n",
        "scheduler = lr_scheduler.ReduceLROnPlateau(\n",
        "    optimizer,\n",
        "    mode='min',            # bajamos la métrica\n",
        "    factor=0.5,            # multiplicador del LR\n",
        "    patience=5\n",
        ") \n",
        "# 5) Loop\n",
        "EPOCHS = 100\n",
        "\n",
        "\n",
        "train_val(embedder, EPOCHS, train_dataloader, val_dataloader, device, optimizer, criterion, scheduler )\n",
        "\n",
        "\n",
        "\n",
        "\n",
        "\n"
      ]
    },
    {
      "cell_type": "markdown",
      "metadata": {},
      "source": [
        "# Testing"
      ]
    },
    {
      "cell_type": "code",
      "execution_count": 43,
      "metadata": {},
      "outputs": [
        {
          "name": "stdout",
          "output_type": "stream",
          "text": [
            "Top-1 Accuracy: 94.60%\n",
            "Top-5 Accuracy: 98.58%\n"
          ]
        }
      ],
      "source": [
        "import torch\n",
        "import torch.nn.functional as F\n",
        "import numpy as np\n",
        "\n",
        "@torch.no_grad()\n",
        "def evaluate_identification(model, gallery_loader, probe_loader, device, topk=(1,)):\n",
        "    \"\"\"\n",
        "    Evalúa identificación 1-to-N.\n",
        "    \"\"\"\n",
        "    model.eval()\n",
        "    # 1) Extraer embeddings de la galería\n",
        "    gal_embs, gal_labels = [], []\n",
        "    for imgs, labels in gallery_loader:\n",
        "        imgs = imgs.to(device)\n",
        "        e = model(imgs)#F.normalize(model(imgs), dim=1)\n",
        "        gal_embs.append(e.cpu())\n",
        "        gal_labels.extend(labels.numpy() if isinstance(labels, torch.Tensor) else labels)\n",
        "    gal_embs   = torch.cat(gal_embs, dim=0)                # [G, D]\n",
        "    gal_labels = np.array(gal_labels)                      # [G]\n",
        "\n",
        "    # 2) Extraer embeddings del probe set\n",
        "    probe_embs, probe_labels = [], []\n",
        "    for imgs, labels in probe_loader:\n",
        "        imgs = imgs.to(device)\n",
        "        e = model(imgs)#F.normalize(model(imgs), dim=1)\n",
        "        probe_embs.append(e.cpu())\n",
        "        probe_labels.extend(labels.numpy() if isinstance(labels, torch.Tensor) else labels)\n",
        "    probe_embs   = torch.cat(probe_embs, dim=0)            # [P, D]\n",
        "    probe_labels = np.array(probe_labels)                  # [P]\n",
        "\n",
        "    # 3) Calcular distancias L2 entre cada probe y toda la galería\n",
        "    #    resulta tensor [P, G]\n",
        "    dists = torch.cdist(probe_embs, gal_embs, p=2).numpy()\n",
        "\n",
        "    results = {}\n",
        "    for k in topk:\n",
        "        # índices de los k más cercanos\n",
        "        nearest = np.argpartition(dists, kth=k-1, axis=1)[:, :k]  # [P, k]\n",
        "        # labels de esos vecinos\n",
        "        preds = gal_labels[nearest]                               # [P, k]\n",
        "        # para top-1, la predicción es preds[:, 0]; para top-k, si label en fila\n",
        "        if k == 1:\n",
        "            correct = (preds[:, 0] == probe_labels)\n",
        "        else:\n",
        "            # comprueba si la etiqueta verdadera aparece en alguno de los k\n",
        "            correct = np.any(preds == probe_labels[:, None], axis=1)\n",
        "        results[f'top{k}'] = correct.mean()\n",
        "\n",
        "    return results\n",
        "metrics = evaluate_identification(embedder, gallery_dataloader, test_dataloader, device, topk=(1,5))\n",
        "print(f\"Top-1 Accuracy: {metrics['top1']:.2%}\")\n",
        "print(f\"Top-5 Accuracy: {metrics['top5']:.2%}\")"
      ]
    },
    {
      "cell_type": "markdown",
      "metadata": {},
      "source": [
        "# Entrenamiento Inception"
      ]
    },
    {
      "cell_type": "code",
      "execution_count": 44,
      "metadata": {},
      "outputs": [
        {
          "name": "stderr",
          "output_type": "stream",
          "text": [
            "Epochs:   1%|          | 1/100 [00:38<1:03:08, 38.27s/it]"
          ]
        },
        {
          "name": "stdout",
          "output_type": "stream",
          "text": [
            "Epoch 1: LR=3.91e-07 — Train Loss=0.9436 — Val Loss=0.8526\n"
          ]
        },
        {
          "name": "stderr",
          "output_type": "stream",
          "text": [
            "Epochs:   2%|▏         | 2/100 [01:16<1:02:20, 38.17s/it]"
          ]
        },
        {
          "name": "stdout",
          "output_type": "stream",
          "text": [
            "Epoch 2: LR=3.91e-07 — Train Loss=0.9438 — Val Loss=0.8559\n"
          ]
        },
        {
          "name": "stderr",
          "output_type": "stream",
          "text": [
            "Epochs:   3%|▎         | 3/100 [01:54<1:01:41, 38.16s/it]"
          ]
        },
        {
          "name": "stdout",
          "output_type": "stream",
          "text": [
            "Epoch 3: LR=3.91e-07 — Train Loss=0.9476 — Val Loss=0.8644\n"
          ]
        },
        {
          "name": "stderr",
          "output_type": "stream",
          "text": [
            "Epochs:   4%|▍         | 4/100 [02:32<1:01:08, 38.22s/it]"
          ]
        },
        {
          "name": "stdout",
          "output_type": "stream",
          "text": [
            "Epoch 4: LR=3.91e-07 — Train Loss=0.9414 — Val Loss=0.8660\n"
          ]
        },
        {
          "name": "stderr",
          "output_type": "stream",
          "text": [
            "Epochs:   5%|▌         | 5/100 [03:10<1:00:26, 38.18s/it]"
          ]
        },
        {
          "name": "stdout",
          "output_type": "stream",
          "text": [
            "Epoch 5: LR=3.91e-07 — Train Loss=0.9449 — Val Loss=0.8645\n"
          ]
        },
        {
          "name": "stderr",
          "output_type": "stream",
          "text": [
            "Epochs:   6%|▌         | 6/100 [03:48<59:44, 38.13s/it]  "
          ]
        },
        {
          "name": "stdout",
          "output_type": "stream",
          "text": [
            "Epoch 6: LR=3.91e-07 — Train Loss=0.9444 — Val Loss=0.8605\n"
          ]
        },
        {
          "name": "stderr",
          "output_type": "stream",
          "text": [
            "Epochs:   7%|▋         | 7/100 [04:27<59:06, 38.14s/it]"
          ]
        },
        {
          "name": "stdout",
          "output_type": "stream",
          "text": [
            "Epoch 7: LR=1.95e-07 — Train Loss=0.9456 — Val Loss=0.8597\n"
          ]
        },
        {
          "name": "stderr",
          "output_type": "stream",
          "text": [
            "Epochs:   8%|▊         | 8/100 [05:05<58:28, 38.14s/it]"
          ]
        },
        {
          "name": "stdout",
          "output_type": "stream",
          "text": [
            "Epoch 8: LR=1.95e-07 — Train Loss=0.9438 — Val Loss=0.8600\n"
          ]
        },
        {
          "name": "stderr",
          "output_type": "stream",
          "text": [
            "Epochs:   9%|▉         | 9/100 [05:43<57:49, 38.13s/it]"
          ]
        },
        {
          "name": "stdout",
          "output_type": "stream",
          "text": [
            "Epoch 9: LR=1.95e-07 — Train Loss=0.9493 — Val Loss=0.8546\n"
          ]
        },
        {
          "name": "stderr",
          "output_type": "stream",
          "text": [
            "Epochs:  10%|█         | 10/100 [06:21<57:08, 38.10s/it]"
          ]
        },
        {
          "name": "stdout",
          "output_type": "stream",
          "text": [
            "Epoch 10: LR=1.95e-07 — Train Loss=0.9440 — Val Loss=0.8609\n"
          ]
        },
        {
          "name": "stderr",
          "output_type": "stream",
          "text": [
            "Epochs:  11%|█         | 11/100 [06:59<56:28, 38.07s/it]"
          ]
        },
        {
          "name": "stdout",
          "output_type": "stream",
          "text": [
            "Epoch 11: LR=1.95e-07 — Train Loss=0.9522 — Val Loss=0.8576\n"
          ]
        },
        {
          "name": "stderr",
          "output_type": "stream",
          "text": [
            "Epochs:  12%|█▏        | 12/100 [07:37<55:50, 38.08s/it]"
          ]
        },
        {
          "name": "stdout",
          "output_type": "stream",
          "text": [
            "Epoch 12: LR=1.95e-07 — Train Loss=0.9440 — Val Loss=0.8541\n"
          ]
        },
        {
          "name": "stderr",
          "output_type": "stream",
          "text": [
            "Epochs:  13%|█▎        | 13/100 [08:15<55:12, 38.08s/it]"
          ]
        },
        {
          "name": "stdout",
          "output_type": "stream",
          "text": [
            "Epoch 13: LR=9.77e-08 — Train Loss=0.9431 — Val Loss=0.8632\n"
          ]
        },
        {
          "name": "stderr",
          "output_type": "stream",
          "text": [
            "Epochs:  14%|█▍        | 14/100 [08:53<54:37, 38.11s/it]"
          ]
        },
        {
          "name": "stdout",
          "output_type": "stream",
          "text": [
            "Epoch 14: LR=9.77e-08 — Train Loss=0.9479 — Val Loss=0.8654\n"
          ]
        },
        {
          "name": "stderr",
          "output_type": "stream",
          "text": [
            "Epochs:  15%|█▌        | 15/100 [09:31<54:01, 38.13s/it]"
          ]
        },
        {
          "name": "stdout",
          "output_type": "stream",
          "text": [
            "Epoch 15: LR=9.77e-08 — Train Loss=0.9432 — Val Loss=0.8627\n"
          ]
        },
        {
          "name": "stderr",
          "output_type": "stream",
          "text": [
            "Epochs:  16%|█▌        | 16/100 [10:10<53:23, 38.13s/it]"
          ]
        },
        {
          "name": "stdout",
          "output_type": "stream",
          "text": [
            "Epoch 16: LR=9.77e-08 — Train Loss=0.9473 — Val Loss=0.8596\n"
          ]
        },
        {
          "name": "stderr",
          "output_type": "stream",
          "text": [
            "Epochs:  17%|█▋        | 17/100 [10:48<52:46, 38.15s/it]"
          ]
        },
        {
          "name": "stdout",
          "output_type": "stream",
          "text": [
            "Epoch 17: LR=9.77e-08 — Train Loss=0.9460 — Val Loss=0.8511\n"
          ]
        },
        {
          "name": "stderr",
          "output_type": "stream",
          "text": [
            "Epochs:  18%|█▊        | 18/100 [11:26<52:08, 38.16s/it]"
          ]
        },
        {
          "name": "stdout",
          "output_type": "stream",
          "text": [
            "Epoch 18: LR=9.77e-08 — Train Loss=0.9450 — Val Loss=0.8695\n"
          ]
        },
        {
          "name": "stderr",
          "output_type": "stream",
          "text": [
            "Epochs:  19%|█▉        | 19/100 [12:04<51:27, 38.12s/it]"
          ]
        },
        {
          "name": "stdout",
          "output_type": "stream",
          "text": [
            "Epoch 19: LR=4.88e-08 — Train Loss=0.9462 — Val Loss=0.8555\n"
          ]
        },
        {
          "name": "stderr",
          "output_type": "stream",
          "text": [
            "Epochs:  20%|██        | 20/100 [12:42<50:45, 38.06s/it]"
          ]
        },
        {
          "name": "stdout",
          "output_type": "stream",
          "text": [
            "Epoch 20: LR=4.88e-08 — Train Loss=0.9448 — Val Loss=0.8559\n"
          ]
        },
        {
          "name": "stderr",
          "output_type": "stream",
          "text": [
            "Epochs:  21%|██        | 21/100 [13:20<50:03, 38.02s/it]"
          ]
        },
        {
          "name": "stdout",
          "output_type": "stream",
          "text": [
            "Epoch 21: LR=4.88e-08 — Train Loss=0.9453 — Val Loss=0.8517\n"
          ]
        },
        {
          "name": "stderr",
          "output_type": "stream",
          "text": [
            "Epochs:  22%|██▏       | 22/100 [13:58<49:27, 38.04s/it]"
          ]
        },
        {
          "name": "stdout",
          "output_type": "stream",
          "text": [
            "Epoch 22: LR=4.88e-08 — Train Loss=0.9451 — Val Loss=0.8654\n"
          ]
        },
        {
          "name": "stderr",
          "output_type": "stream",
          "text": [
            "Epochs:  23%|██▎       | 23/100 [14:36<48:48, 38.04s/it]"
          ]
        },
        {
          "name": "stdout",
          "output_type": "stream",
          "text": [
            "Epoch 23: LR=4.88e-08 — Train Loss=0.9442 — Val Loss=0.8540\n"
          ]
        },
        {
          "name": "stderr",
          "output_type": "stream",
          "text": [
            "Epochs:  24%|██▍       | 24/100 [15:14<48:13, 38.08s/it]"
          ]
        },
        {
          "name": "stdout",
          "output_type": "stream",
          "text": [
            "Epoch 24: LR=4.88e-08 — Train Loss=0.9458 — Val Loss=0.8655\n"
          ]
        },
        {
          "name": "stderr",
          "output_type": "stream",
          "text": [
            "Epochs:  25%|██▌       | 25/100 [15:52<47:37, 38.11s/it]"
          ]
        },
        {
          "name": "stdout",
          "output_type": "stream",
          "text": [
            "Epoch 25: LR=2.44e-08 — Train Loss=0.9446 — Val Loss=0.8554\n"
          ]
        },
        {
          "name": "stderr",
          "output_type": "stream",
          "text": [
            "Epochs:  26%|██▌       | 26/100 [16:30<46:59, 38.10s/it]"
          ]
        },
        {
          "name": "stdout",
          "output_type": "stream",
          "text": [
            "Epoch 26: LR=2.44e-08 — Train Loss=0.9476 — Val Loss=0.8621\n"
          ]
        },
        {
          "name": "stderr",
          "output_type": "stream",
          "text": [
            "Epochs:  27%|██▋       | 27/100 [17:09<46:22, 38.11s/it]"
          ]
        },
        {
          "name": "stdout",
          "output_type": "stream",
          "text": [
            "Epoch 27: LR=2.44e-08 — Train Loss=0.9428 — Val Loss=0.8588\n"
          ]
        },
        {
          "name": "stderr",
          "output_type": "stream",
          "text": [
            "Epochs:  28%|██▊       | 28/100 [17:47<45:48, 38.17s/it]"
          ]
        },
        {
          "name": "stdout",
          "output_type": "stream",
          "text": [
            "Epoch 28: LR=2.44e-08 — Train Loss=0.9452 — Val Loss=0.8604\n"
          ]
        },
        {
          "name": "stderr",
          "output_type": "stream",
          "text": [
            "Epochs:  29%|██▉       | 29/100 [18:25<45:05, 38.11s/it]"
          ]
        },
        {
          "name": "stdout",
          "output_type": "stream",
          "text": [
            "Epoch 29: LR=2.44e-08 — Train Loss=0.9477 — Val Loss=0.8622\n"
          ]
        },
        {
          "name": "stderr",
          "output_type": "stream",
          "text": [
            "Epochs:  30%|███       | 30/100 [19:03<44:28, 38.12s/it]"
          ]
        },
        {
          "name": "stdout",
          "output_type": "stream",
          "text": [
            "Epoch 30: LR=2.44e-08 — Train Loss=0.9503 — Val Loss=0.8553\n"
          ]
        },
        {
          "name": "stderr",
          "output_type": "stream",
          "text": [
            "Epochs:  31%|███       | 31/100 [19:41<43:49, 38.11s/it]"
          ]
        },
        {
          "name": "stdout",
          "output_type": "stream",
          "text": [
            "Epoch 31: LR=1.22e-08 — Train Loss=0.9476 — Val Loss=0.8610\n"
          ]
        },
        {
          "name": "stderr",
          "output_type": "stream",
          "text": [
            "Epochs:  32%|███▏      | 32/100 [20:19<43:10, 38.10s/it]"
          ]
        },
        {
          "name": "stdout",
          "output_type": "stream",
          "text": [
            "Epoch 32: LR=1.22e-08 — Train Loss=0.9439 — Val Loss=0.8699\n"
          ]
        },
        {
          "name": "stderr",
          "output_type": "stream",
          "text": [
            "Epochs:  33%|███▎      | 33/100 [20:57<42:32, 38.09s/it]"
          ]
        },
        {
          "name": "stdout",
          "output_type": "stream",
          "text": [
            "Epoch 33: LR=1.22e-08 — Train Loss=0.9408 — Val Loss=0.8569\n"
          ]
        },
        {
          "name": "stderr",
          "output_type": "stream",
          "text": [
            "Epochs:  34%|███▍      | 34/100 [21:35<41:54, 38.11s/it]"
          ]
        },
        {
          "name": "stdout",
          "output_type": "stream",
          "text": [
            "Epoch 34: LR=1.22e-08 — Train Loss=0.9429 — Val Loss=0.8585\n"
          ]
        },
        {
          "name": "stderr",
          "output_type": "stream",
          "text": [
            "Epochs:  35%|███▌      | 35/100 [22:13<41:16, 38.10s/it]"
          ]
        },
        {
          "name": "stdout",
          "output_type": "stream",
          "text": [
            "Epoch 35: LR=1.22e-08 — Train Loss=0.9425 — Val Loss=0.8649\n"
          ]
        },
        {
          "name": "stderr",
          "output_type": "stream",
          "text": [
            "Epochs:  36%|███▌      | 36/100 [22:51<40:38, 38.10s/it]"
          ]
        },
        {
          "name": "stdout",
          "output_type": "stream",
          "text": [
            "Epoch 36: LR=1.22e-08 — Train Loss=0.9451 — Val Loss=0.8606\n"
          ]
        },
        {
          "name": "stderr",
          "output_type": "stream",
          "text": [
            "Epochs:  37%|███▋      | 37/100 [23:30<40:00, 38.11s/it]"
          ]
        },
        {
          "name": "stdout",
          "output_type": "stream",
          "text": [
            "Epoch 37: LR=1.22e-08 — Train Loss=0.9433 — Val Loss=0.8661\n"
          ]
        },
        {
          "name": "stderr",
          "output_type": "stream",
          "text": [
            "Epochs:  38%|███▊      | 38/100 [24:08<39:23, 38.11s/it]"
          ]
        },
        {
          "name": "stdout",
          "output_type": "stream",
          "text": [
            "Epoch 38: LR=1.22e-08 — Train Loss=0.9471 — Val Loss=0.8599\n"
          ]
        },
        {
          "name": "stderr",
          "output_type": "stream",
          "text": [
            "Epochs:  39%|███▉      | 39/100 [24:46<38:43, 38.09s/it]"
          ]
        },
        {
          "name": "stdout",
          "output_type": "stream",
          "text": [
            "Epoch 39: LR=1.22e-08 — Train Loss=0.9498 — Val Loss=0.8662\n"
          ]
        },
        {
          "name": "stderr",
          "output_type": "stream",
          "text": [
            "Epochs:  40%|████      | 40/100 [25:24<38:04, 38.08s/it]"
          ]
        },
        {
          "name": "stdout",
          "output_type": "stream",
          "text": [
            "Epoch 40: LR=1.22e-08 — Train Loss=0.9462 — Val Loss=0.8587\n"
          ]
        },
        {
          "name": "stderr",
          "output_type": "stream",
          "text": [
            "Epochs:  41%|████      | 41/100 [26:02<37:27, 38.09s/it]"
          ]
        },
        {
          "name": "stdout",
          "output_type": "stream",
          "text": [
            "Epoch 41: LR=1.22e-08 — Train Loss=0.9441 — Val Loss=0.8654\n"
          ]
        },
        {
          "name": "stderr",
          "output_type": "stream",
          "text": [
            "Epochs:  42%|████▏     | 42/100 [26:40<36:50, 38.11s/it]"
          ]
        },
        {
          "name": "stdout",
          "output_type": "stream",
          "text": [
            "Epoch 42: LR=1.22e-08 — Train Loss=0.9484 — Val Loss=0.8635\n"
          ]
        },
        {
          "name": "stderr",
          "output_type": "stream",
          "text": [
            "Epochs:  43%|████▎     | 43/100 [27:18<36:12, 38.11s/it]"
          ]
        },
        {
          "name": "stdout",
          "output_type": "stream",
          "text": [
            "Epoch 43: LR=1.22e-08 — Train Loss=0.9478 — Val Loss=0.8619\n"
          ]
        },
        {
          "name": "stderr",
          "output_type": "stream",
          "text": [
            "Epochs:  44%|████▍     | 44/100 [27:56<35:33, 38.09s/it]"
          ]
        },
        {
          "name": "stdout",
          "output_type": "stream",
          "text": [
            "Epoch 44: LR=1.22e-08 — Train Loss=0.9478 — Val Loss=0.8659\n"
          ]
        },
        {
          "name": "stderr",
          "output_type": "stream",
          "text": [
            "Epochs:  45%|████▌     | 45/100 [28:34<34:56, 38.12s/it]"
          ]
        },
        {
          "name": "stdout",
          "output_type": "stream",
          "text": [
            "Epoch 45: LR=1.22e-08 — Train Loss=0.9504 — Val Loss=0.8600\n"
          ]
        },
        {
          "name": "stderr",
          "output_type": "stream",
          "text": [
            "Epochs:  46%|████▌     | 46/100 [29:13<34:18, 38.12s/it]"
          ]
        },
        {
          "name": "stdout",
          "output_type": "stream",
          "text": [
            "Epoch 46: LR=1.22e-08 — Train Loss=0.9408 — Val Loss=0.8654\n"
          ]
        },
        {
          "name": "stderr",
          "output_type": "stream",
          "text": [
            "Epochs:  47%|████▋     | 47/100 [29:51<33:38, 38.09s/it]"
          ]
        },
        {
          "name": "stdout",
          "output_type": "stream",
          "text": [
            "Epoch 47: LR=1.22e-08 — Train Loss=0.9476 — Val Loss=0.8585\n"
          ]
        },
        {
          "name": "stderr",
          "output_type": "stream",
          "text": [
            "Epochs:  48%|████▊     | 48/100 [30:29<32:58, 38.05s/it]"
          ]
        },
        {
          "name": "stdout",
          "output_type": "stream",
          "text": [
            "Epoch 48: LR=1.22e-08 — Train Loss=0.9431 — Val Loss=0.8574\n"
          ]
        },
        {
          "name": "stderr",
          "output_type": "stream",
          "text": [
            "Epochs:  49%|████▉     | 49/100 [31:07<32:21, 38.06s/it]"
          ]
        },
        {
          "name": "stdout",
          "output_type": "stream",
          "text": [
            "Epoch 49: LR=1.22e-08 — Train Loss=0.9456 — Val Loss=0.8605\n"
          ]
        },
        {
          "name": "stderr",
          "output_type": "stream",
          "text": [
            "Epochs:  50%|█████     | 50/100 [31:45<31:43, 38.08s/it]"
          ]
        },
        {
          "name": "stdout",
          "output_type": "stream",
          "text": [
            "Epoch 50: LR=1.22e-08 — Train Loss=0.9414 — Val Loss=0.8638\n"
          ]
        },
        {
          "name": "stderr",
          "output_type": "stream",
          "text": [
            "Epochs:  51%|█████     | 51/100 [32:23<31:07, 38.11s/it]"
          ]
        },
        {
          "name": "stdout",
          "output_type": "stream",
          "text": [
            "Epoch 51: LR=1.22e-08 — Train Loss=0.9448 — Val Loss=0.8475\n"
          ]
        },
        {
          "name": "stderr",
          "output_type": "stream",
          "text": [
            "Epochs:  52%|█████▏    | 52/100 [33:01<30:29, 38.11s/it]"
          ]
        },
        {
          "name": "stdout",
          "output_type": "stream",
          "text": [
            "Epoch 52: LR=1.22e-08 — Train Loss=0.9455 — Val Loss=0.8664\n"
          ]
        },
        {
          "name": "stderr",
          "output_type": "stream",
          "text": [
            "Epochs:  53%|█████▎    | 53/100 [33:39<29:51, 38.12s/it]"
          ]
        },
        {
          "name": "stdout",
          "output_type": "stream",
          "text": [
            "Epoch 53: LR=1.22e-08 — Train Loss=0.9513 — Val Loss=0.8638\n"
          ]
        },
        {
          "name": "stderr",
          "output_type": "stream",
          "text": [
            "Epochs:  54%|█████▍    | 54/100 [34:17<29:14, 38.14s/it]"
          ]
        },
        {
          "name": "stdout",
          "output_type": "stream",
          "text": [
            "Epoch 54: LR=1.22e-08 — Train Loss=0.9439 — Val Loss=0.8581\n"
          ]
        },
        {
          "name": "stderr",
          "output_type": "stream",
          "text": [
            "Epochs:  55%|█████▌    | 55/100 [34:56<28:38, 38.20s/it]"
          ]
        },
        {
          "name": "stdout",
          "output_type": "stream",
          "text": [
            "Epoch 55: LR=1.22e-08 — Train Loss=0.9494 — Val Loss=0.8549\n"
          ]
        },
        {
          "name": "stderr",
          "output_type": "stream",
          "text": [
            "Epochs:  56%|█████▌    | 56/100 [35:34<27:59, 38.17s/it]"
          ]
        },
        {
          "name": "stdout",
          "output_type": "stream",
          "text": [
            "Epoch 56: LR=1.22e-08 — Train Loss=0.9440 — Val Loss=0.8619\n"
          ]
        },
        {
          "name": "stderr",
          "output_type": "stream",
          "text": [
            "Epochs:  57%|█████▋    | 57/100 [36:12<27:19, 38.14s/it]"
          ]
        },
        {
          "name": "stdout",
          "output_type": "stream",
          "text": [
            "Epoch 57: LR=1.22e-08 — Train Loss=0.9508 — Val Loss=0.8585\n"
          ]
        },
        {
          "name": "stderr",
          "output_type": "stream",
          "text": [
            "Epochs:  58%|█████▊    | 58/100 [36:50<26:39, 38.08s/it]"
          ]
        },
        {
          "name": "stdout",
          "output_type": "stream",
          "text": [
            "Epoch 58: LR=1.22e-08 — Train Loss=0.9527 — Val Loss=0.8708\n"
          ]
        },
        {
          "name": "stderr",
          "output_type": "stream",
          "text": [
            "Epochs:  59%|█████▉    | 59/100 [37:28<25:59, 38.05s/it]"
          ]
        },
        {
          "name": "stdout",
          "output_type": "stream",
          "text": [
            "Epoch 59: LR=1.22e-08 — Train Loss=0.9501 — Val Loss=0.8655\n"
          ]
        },
        {
          "name": "stderr",
          "output_type": "stream",
          "text": [
            "Epochs:  60%|██████    | 60/100 [38:06<25:21, 38.05s/it]"
          ]
        },
        {
          "name": "stdout",
          "output_type": "stream",
          "text": [
            "Epoch 60: LR=1.22e-08 — Train Loss=0.9488 — Val Loss=0.8692\n"
          ]
        },
        {
          "name": "stderr",
          "output_type": "stream",
          "text": [
            "Epochs:  61%|██████    | 61/100 [38:44<24:44, 38.06s/it]"
          ]
        },
        {
          "name": "stdout",
          "output_type": "stream",
          "text": [
            "Epoch 61: LR=1.22e-08 — Train Loss=0.9456 — Val Loss=0.8653\n"
          ]
        },
        {
          "name": "stderr",
          "output_type": "stream",
          "text": [
            "Epochs:  62%|██████▏   | 62/100 [39:22<24:07, 38.08s/it]"
          ]
        },
        {
          "name": "stdout",
          "output_type": "stream",
          "text": [
            "Epoch 62: LR=1.22e-08 — Train Loss=0.9433 — Val Loss=0.8608\n"
          ]
        },
        {
          "name": "stderr",
          "output_type": "stream",
          "text": [
            "Epochs:  63%|██████▎   | 63/100 [40:00<23:29, 38.10s/it]"
          ]
        },
        {
          "name": "stdout",
          "output_type": "stream",
          "text": [
            "Epoch 63: LR=1.22e-08 — Train Loss=0.9432 — Val Loss=0.8593\n"
          ]
        },
        {
          "name": "stderr",
          "output_type": "stream",
          "text": [
            "Epochs:  64%|██████▍   | 64/100 [40:38<22:52, 38.12s/it]"
          ]
        },
        {
          "name": "stdout",
          "output_type": "stream",
          "text": [
            "Epoch 64: LR=1.22e-08 — Train Loss=0.9449 — Val Loss=0.8641\n"
          ]
        },
        {
          "name": "stderr",
          "output_type": "stream",
          "text": [
            "Epochs:  65%|██████▌   | 65/100 [41:17<22:14, 38.12s/it]"
          ]
        },
        {
          "name": "stdout",
          "output_type": "stream",
          "text": [
            "Epoch 65: LR=1.22e-08 — Train Loss=0.9443 — Val Loss=0.8599\n"
          ]
        },
        {
          "name": "stderr",
          "output_type": "stream",
          "text": [
            "Epochs:  66%|██████▌   | 66/100 [41:55<21:36, 38.13s/it]"
          ]
        },
        {
          "name": "stdout",
          "output_type": "stream",
          "text": [
            "Epoch 66: LR=1.22e-08 — Train Loss=0.9433 — Val Loss=0.8587\n"
          ]
        },
        {
          "name": "stderr",
          "output_type": "stream",
          "text": [
            "Epochs:  67%|██████▋   | 67/100 [42:33<20:58, 38.13s/it]"
          ]
        },
        {
          "name": "stdout",
          "output_type": "stream",
          "text": [
            "Epoch 67: LR=1.22e-08 — Train Loss=0.9411 — Val Loss=0.8645\n"
          ]
        },
        {
          "name": "stderr",
          "output_type": "stream",
          "text": [
            "Epochs:  68%|██████▊   | 68/100 [43:11<20:19, 38.10s/it]"
          ]
        },
        {
          "name": "stdout",
          "output_type": "stream",
          "text": [
            "Epoch 68: LR=1.22e-08 — Train Loss=0.9408 — Val Loss=0.8645\n"
          ]
        },
        {
          "name": "stderr",
          "output_type": "stream",
          "text": [
            "Epochs:  69%|██████▉   | 69/100 [43:49<19:41, 38.10s/it]"
          ]
        },
        {
          "name": "stdout",
          "output_type": "stream",
          "text": [
            "Epoch 69: LR=1.22e-08 — Train Loss=0.9456 — Val Loss=0.8599\n"
          ]
        },
        {
          "name": "stderr",
          "output_type": "stream",
          "text": [
            "Epochs:  70%|███████   | 70/100 [44:27<19:02, 38.08s/it]"
          ]
        },
        {
          "name": "stdout",
          "output_type": "stream",
          "text": [
            "Epoch 70: LR=1.22e-08 — Train Loss=0.9482 — Val Loss=0.8666\n"
          ]
        },
        {
          "name": "stderr",
          "output_type": "stream",
          "text": [
            "Epochs:  71%|███████   | 71/100 [45:05<18:24, 38.08s/it]"
          ]
        },
        {
          "name": "stdout",
          "output_type": "stream",
          "text": [
            "Epoch 71: LR=1.22e-08 — Train Loss=0.9420 — Val Loss=0.8693\n"
          ]
        },
        {
          "name": "stderr",
          "output_type": "stream",
          "text": [
            "Epochs:  72%|███████▏  | 72/100 [45:43<17:45, 38.05s/it]"
          ]
        },
        {
          "name": "stdout",
          "output_type": "stream",
          "text": [
            "Epoch 72: LR=1.22e-08 — Train Loss=0.9459 — Val Loss=0.8545\n"
          ]
        },
        {
          "name": "stderr",
          "output_type": "stream",
          "text": [
            "Epochs:  73%|███████▎  | 73/100 [46:21<17:06, 38.02s/it]"
          ]
        },
        {
          "name": "stdout",
          "output_type": "stream",
          "text": [
            "Epoch 73: LR=1.22e-08 — Train Loss=0.9462 — Val Loss=0.8623\n"
          ]
        },
        {
          "name": "stderr",
          "output_type": "stream",
          "text": [
            "Epochs:  74%|███████▍  | 74/100 [46:59<16:28, 38.02s/it]"
          ]
        },
        {
          "name": "stdout",
          "output_type": "stream",
          "text": [
            "Epoch 74: LR=1.22e-08 — Train Loss=0.9473 — Val Loss=0.8610\n"
          ]
        },
        {
          "name": "stderr",
          "output_type": "stream",
          "text": [
            "Epochs:  75%|███████▌  | 75/100 [47:37<15:51, 38.06s/it]"
          ]
        },
        {
          "name": "stdout",
          "output_type": "stream",
          "text": [
            "Epoch 75: LR=1.22e-08 — Train Loss=0.9438 — Val Loss=0.8593\n"
          ]
        },
        {
          "name": "stderr",
          "output_type": "stream",
          "text": [
            "Epochs:  76%|███████▌  | 76/100 [48:15<15:14, 38.10s/it]"
          ]
        },
        {
          "name": "stdout",
          "output_type": "stream",
          "text": [
            "Epoch 76: LR=1.22e-08 — Train Loss=0.9490 — Val Loss=0.8648\n"
          ]
        },
        {
          "name": "stderr",
          "output_type": "stream",
          "text": [
            "Epochs:  77%|███████▋  | 77/100 [48:53<14:36, 38.09s/it]"
          ]
        },
        {
          "name": "stdout",
          "output_type": "stream",
          "text": [
            "Epoch 77: LR=1.22e-08 — Train Loss=0.9465 — Val Loss=0.8661\n"
          ]
        },
        {
          "name": "stderr",
          "output_type": "stream",
          "text": [
            "Epochs:  78%|███████▊  | 78/100 [49:32<13:58, 38.11s/it]"
          ]
        },
        {
          "name": "stdout",
          "output_type": "stream",
          "text": [
            "Epoch 78: LR=1.22e-08 — Train Loss=0.9473 — Val Loss=0.8643\n"
          ]
        },
        {
          "name": "stderr",
          "output_type": "stream",
          "text": [
            "Epochs:  79%|███████▉  | 79/100 [50:10<13:20, 38.12s/it]"
          ]
        },
        {
          "name": "stdout",
          "output_type": "stream",
          "text": [
            "Epoch 79: LR=1.22e-08 — Train Loss=0.9448 — Val Loss=0.8660\n"
          ]
        },
        {
          "name": "stderr",
          "output_type": "stream",
          "text": [
            "Epochs:  80%|████████  | 80/100 [50:48<12:42, 38.13s/it]"
          ]
        },
        {
          "name": "stdout",
          "output_type": "stream",
          "text": [
            "Epoch 80: LR=1.22e-08 — Train Loss=0.9407 — Val Loss=0.8660\n"
          ]
        },
        {
          "name": "stderr",
          "output_type": "stream",
          "text": [
            "Epochs:  81%|████████  | 81/100 [51:26<12:04, 38.14s/it]"
          ]
        },
        {
          "name": "stdout",
          "output_type": "stream",
          "text": [
            "Epoch 81: LR=1.22e-08 — Train Loss=0.9423 — Val Loss=0.8611\n"
          ]
        },
        {
          "name": "stderr",
          "output_type": "stream",
          "text": [
            "Epochs:  82%|████████▏ | 82/100 [52:04<11:26, 38.11s/it]"
          ]
        },
        {
          "name": "stdout",
          "output_type": "stream",
          "text": [
            "Epoch 82: LR=1.22e-08 — Train Loss=0.9438 — Val Loss=0.8660\n"
          ]
        },
        {
          "name": "stderr",
          "output_type": "stream",
          "text": [
            "Epochs:  83%|████████▎ | 83/100 [52:42<10:48, 38.14s/it]"
          ]
        },
        {
          "name": "stdout",
          "output_type": "stream",
          "text": [
            "Epoch 83: LR=1.22e-08 — Train Loss=0.9448 — Val Loss=0.8581\n"
          ]
        },
        {
          "name": "stderr",
          "output_type": "stream",
          "text": [
            "Epochs:  84%|████████▍ | 84/100 [53:20<10:10, 38.15s/it]"
          ]
        },
        {
          "name": "stdout",
          "output_type": "stream",
          "text": [
            "Epoch 84: LR=1.22e-08 — Train Loss=0.9495 — Val Loss=0.8563\n"
          ]
        },
        {
          "name": "stderr",
          "output_type": "stream",
          "text": [
            "Epochs:  85%|████████▌ | 85/100 [53:58<09:31, 38.11s/it]"
          ]
        },
        {
          "name": "stdout",
          "output_type": "stream",
          "text": [
            "Epoch 85: LR=1.22e-08 — Train Loss=0.9417 — Val Loss=0.8528\n"
          ]
        },
        {
          "name": "stderr",
          "output_type": "stream",
          "text": [
            "Epochs:  86%|████████▌ | 86/100 [54:36<08:53, 38.08s/it]"
          ]
        },
        {
          "name": "stdout",
          "output_type": "stream",
          "text": [
            "Epoch 86: LR=1.22e-08 — Train Loss=0.9434 — Val Loss=0.8611\n"
          ]
        },
        {
          "name": "stderr",
          "output_type": "stream",
          "text": [
            "Epochs:  87%|████████▋ | 87/100 [55:15<08:15, 38.09s/it]"
          ]
        },
        {
          "name": "stdout",
          "output_type": "stream",
          "text": [
            "Epoch 87: LR=1.22e-08 — Train Loss=0.9463 — Val Loss=0.8630\n"
          ]
        },
        {
          "name": "stderr",
          "output_type": "stream",
          "text": [
            "Epochs:  88%|████████▊ | 88/100 [55:53<07:37, 38.09s/it]"
          ]
        },
        {
          "name": "stdout",
          "output_type": "stream",
          "text": [
            "Epoch 88: LR=1.22e-08 — Train Loss=0.9476 — Val Loss=0.8589\n"
          ]
        },
        {
          "name": "stderr",
          "output_type": "stream",
          "text": [
            "Epochs:  89%|████████▉ | 89/100 [56:31<06:59, 38.12s/it]"
          ]
        },
        {
          "name": "stdout",
          "output_type": "stream",
          "text": [
            "Epoch 89: LR=1.22e-08 — Train Loss=0.9444 — Val Loss=0.8630\n"
          ]
        },
        {
          "name": "stderr",
          "output_type": "stream",
          "text": [
            "Epochs:  90%|█████████ | 90/100 [57:09<06:21, 38.13s/it]"
          ]
        },
        {
          "name": "stdout",
          "output_type": "stream",
          "text": [
            "Epoch 90: LR=1.22e-08 — Train Loss=0.9423 — Val Loss=0.8576\n"
          ]
        },
        {
          "name": "stderr",
          "output_type": "stream",
          "text": [
            "Epochs:  91%|█████████ | 91/100 [57:47<05:43, 38.14s/it]"
          ]
        },
        {
          "name": "stdout",
          "output_type": "stream",
          "text": [
            "Epoch 91: LR=1.22e-08 — Train Loss=0.9471 — Val Loss=0.8575\n"
          ]
        },
        {
          "name": "stderr",
          "output_type": "stream",
          "text": [
            "Epochs:  92%|█████████▏| 92/100 [58:25<05:05, 38.15s/it]"
          ]
        },
        {
          "name": "stdout",
          "output_type": "stream",
          "text": [
            "Epoch 92: LR=1.22e-08 — Train Loss=0.9425 — Val Loss=0.8632\n"
          ]
        },
        {
          "name": "stderr",
          "output_type": "stream",
          "text": [
            "Epochs:  93%|█████████▎| 93/100 [59:04<04:27, 38.16s/it]"
          ]
        },
        {
          "name": "stdout",
          "output_type": "stream",
          "text": [
            "Epoch 93: LR=1.22e-08 — Train Loss=0.9455 — Val Loss=0.8624\n"
          ]
        },
        {
          "name": "stderr",
          "output_type": "stream",
          "text": [
            "Epochs:  94%|█████████▍| 94/100 [59:42<03:49, 38.17s/it]"
          ]
        },
        {
          "name": "stdout",
          "output_type": "stream",
          "text": [
            "Epoch 94: LR=1.22e-08 — Train Loss=0.9501 — Val Loss=0.8582\n"
          ]
        },
        {
          "name": "stderr",
          "output_type": "stream",
          "text": [
            "Epochs:  95%|█████████▌| 95/100 [1:00:20<03:10, 38.13s/it]"
          ]
        },
        {
          "name": "stdout",
          "output_type": "stream",
          "text": [
            "Epoch 95: LR=1.22e-08 — Train Loss=0.9402 — Val Loss=0.8718\n"
          ]
        },
        {
          "name": "stderr",
          "output_type": "stream",
          "text": [
            "Epochs:  96%|█████████▌| 96/100 [1:00:58<02:32, 38.09s/it]"
          ]
        },
        {
          "name": "stdout",
          "output_type": "stream",
          "text": [
            "Epoch 96: LR=1.22e-08 — Train Loss=0.9475 — Val Loss=0.8615\n"
          ]
        },
        {
          "name": "stderr",
          "output_type": "stream",
          "text": [
            "Epochs:  97%|█████████▋| 97/100 [1:01:36<01:54, 38.09s/it]"
          ]
        },
        {
          "name": "stdout",
          "output_type": "stream",
          "text": [
            "Epoch 97: LR=1.22e-08 — Train Loss=0.9456 — Val Loss=0.8700\n"
          ]
        },
        {
          "name": "stderr",
          "output_type": "stream",
          "text": [
            "Epochs:  98%|█████████▊| 98/100 [1:02:14<01:16, 38.07s/it]"
          ]
        },
        {
          "name": "stdout",
          "output_type": "stream",
          "text": [
            "Epoch 98: LR=1.22e-08 — Train Loss=0.9479 — Val Loss=0.8664\n"
          ]
        },
        {
          "name": "stderr",
          "output_type": "stream",
          "text": [
            "Epochs:  99%|█████████▉| 99/100 [1:02:52<00:38, 38.07s/it]"
          ]
        },
        {
          "name": "stdout",
          "output_type": "stream",
          "text": [
            "Epoch 99: LR=1.22e-08 — Train Loss=0.9453 — Val Loss=0.8593\n"
          ]
        },
        {
          "name": "stderr",
          "output_type": "stream",
          "text": [
            "Epochs: 100%|██████████| 100/100 [1:03:30<00:00, 38.11s/it]"
          ]
        },
        {
          "name": "stdout",
          "output_type": "stream",
          "text": [
            "Epoch 100: LR=1.22e-08 — Train Loss=0.9417 — Val Loss=0.8539\n"
          ]
        },
        {
          "name": "stderr",
          "output_type": "stream",
          "text": [
            "\n"
          ]
        },
        {
          "data": {
            "image/png": "[encoded data removed]",
            "text/plain": [
              "<Figure size 500x500 with 1 Axes>"
            ]
          },
          "metadata": {},
          "output_type": "display_data"
        }
      ],
      "source": [
        "train_dataset, val_dataset, test_dataset, gallery_dataset = get_face_datasets(train_df, val_df, test_df, gallery_df, train_tfms[\"inception\"], eval_tfms[\"inception\"])\n",
        "train_dataloader, val_dataloader, test_dataloader, gallery_dataloader = get_face_dataloaders(train_dataset, val_dataset, test_dataset, gallery_dataset ,  32)\n",
        "ext_inception = InceptionExtractor(k_freeze=2).to(device)\n",
        "embedder_inception = EmbeddingHead(extractor=ext_inception, emb_dim=128).to(device)\n",
        "train_val(embedder_inception , EPOCHS, train_dataloader, val_dataloader, device, optimizer, criterion, scheduler )"
      ]
    },
    {
      "cell_type": "markdown",
      "metadata": {},
      "source": [
        "# Testinginception"
      ]
    },
    {
      "cell_type": "code",
      "execution_count": 46,
      "metadata": {},
      "outputs": [
        {
          "name": "stdout",
          "output_type": "stream",
          "text": [
            "Top-1 Accuracy: 53.98%\n",
            "Top-5 Accuracy: 72.16%\n"
          ]
        }
      ],
      "source": [
        "metrics_inception = evaluate_identification(embedder_inception, gallery_dataloader, test_dataloader, device, topk=(1,5))\n",
        "print(f\"Top-1 Accuracy: {metrics_inception ['top1']:.2%}\")\n",
        "print(f\"Top-5 Accuracy: {metrics_inception ['top5']:.2%}\")"
      ]
    },
    {
      "cell_type": "code",
      "execution_count": null,
      "metadata": {},
      "outputs": [],
      "source": [
        "# Transformers "
      ]
    }
  ],
  "metadata": {
    "accelerator": "GPU",
    "colab": {
      "gpuType": "T4",
      "provenance": []
    },
    "kernelspec": {
      "display_name": "base",
      "language": "python",
      "name": "python3"
    },
    "language_info": {
      "codemirror_mode": {
        "name": "ipython",
        "version": 3
      },
      "file_extension": ".py",
      "mimetype": "text/x-python",
      "name": "python",
      "nbconvert_exporter": "python",
      "pygments_lexer": "ipython3",
      "version": "3.12.7"
    }
  },
  "nbformat": 4,
  "nbformat_minor": 0
}
